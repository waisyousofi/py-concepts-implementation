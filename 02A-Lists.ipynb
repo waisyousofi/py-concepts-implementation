{
 "cells": [
  {
   "cell_type": "code",
   "execution_count": 12,
   "metadata": {},
   "outputs": [
    {
     "data": {
      "text/plain": [
       "'\\n@filename: Lists.py\\n@author: Waisullah yousofi\\n'"
      ]
     },
     "execution_count": 12,
     "metadata": {},
     "output_type": "execute_result"
    }
   ],
   "source": [
    "\"\"\"\n",
    "@filename: Lists.py\n",
    "@author: Waisullah yousofi\n",
    "\"\"\""
   ]
  },
  {
   "cell_type": "markdown",
   "metadata": {},
   "source": [
    "=============================================================================<br>\n",
    "Python Lists<br>\n",
    "The list is a most versatile datatype available in Python which can be <br>\n",
    "written as a list of comma-separated values (items) between square brackets. <br>\n",
    "Important thing about a list is that items in a list need not be of the same <br>\n",
    "type.<br>\n",
    "============================================================================="
   ]
  },
  {
   "cell_type": "markdown",
   "metadata": {},
   "source": [
    "=============================================================================<br>\n",
    "Creating a list is as simple as putting different comma-separated values <br>\n",
    "between square brackets. <br>\n",
    "=============================================================================<br>\n",
    "empty list"
   ]
  },
  {
   "cell_type": "code",
   "execution_count": 13,
   "metadata": {},
   "outputs": [
    {
     "name": "stdout",
     "output_type": "stream",
     "text": [
      "[]\n"
     ]
    }
   ],
   "source": [
    "lstMyList = []\n",
    "print(lstMyList)"
   ]
  },
  {
   "cell_type": "markdown",
   "metadata": {},
   "source": [
    "list of integers"
   ]
  },
  {
   "cell_type": "code",
   "execution_count": 14,
   "metadata": {},
   "outputs": [
    {
     "name": "stdout",
     "output_type": "stream",
     "text": [
      "[1, 2, 3]\n"
     ]
    }
   ],
   "source": [
    "lstMyList = [1, 2, 3]\n",
    "print(lstMyList)"
   ]
  },
  {
   "cell_type": "markdown",
   "metadata": {},
   "source": [
    "list with mixed datatypes"
   ]
  },
  {
   "cell_type": "code",
   "execution_count": 15,
   "metadata": {},
   "outputs": [
    {
     "name": "stdout",
     "output_type": "stream",
     "text": [
      "[1, 'Hello', 3.4]\n",
      "lstMyList[0]:  physics\n"
     ]
    }
   ],
   "source": [
    "lstMyList = [1, \"Hello\", 3.4]\n",
    "print(lstMyList)\n",
    " \n",
    "#==============================================================================\n",
    "# Accessing Values in Lists\n",
    "# To access values in lists, we can use the index operator [] to access an \n",
    "# item in a list. Index starts # from 0. So, a list having 5 elements will \n",
    "# have index from 0 to 4.\n",
    "# \n",
    "# Trying to access an element other that this will raise an IndexError. The \n",
    "# index must be an integer. We can't use float or other types, this will \n",
    "# result into TypeError.\n",
    "# \n",
    "# Nested list are accessed using nested indexing.\n",
    "#==============================================================================\n",
    "lstMyList = ['physics', 'chemistry', 1997, 2000]\n",
    "print(\"lstMyList[0]: \", lstMyList[0])"
   ]
  },
  {
   "cell_type": "code",
   "execution_count": 16,
   "metadata": {},
   "outputs": [
    {
     "name": "stdout",
     "output_type": "stream",
     "text": [
      "lstNewList[1:5]:  [2, 3, 4, 5]\n"
     ]
    }
   ],
   "source": [
    "lstNewList = [1, 2, 3, 4, 5, 6, 7 ]\n",
    "print(\"lstNewList[1:5]: \", lstNewList[1:5])"
   ]
  },
  {
   "cell_type": "markdown",
   "metadata": {},
   "source": [
    "another example"
   ]
  },
  {
   "cell_type": "code",
   "execution_count": 17,
   "metadata": {},
   "outputs": [],
   "source": [
    "lstMyList = ['p','r','o','b','e']"
   ]
  },
  {
   "cell_type": "markdown",
   "metadata": {},
   "source": [
    "Output: p"
   ]
  },
  {
   "cell_type": "code",
   "execution_count": 18,
   "metadata": {},
   "outputs": [
    {
     "name": "stdout",
     "output_type": "stream",
     "text": [
      "p\n"
     ]
    }
   ],
   "source": [
    "print(lstMyList[0])"
   ]
  },
  {
   "cell_type": "markdown",
   "metadata": {},
   "source": [
    "Output: o"
   ]
  },
  {
   "cell_type": "code",
   "execution_count": 19,
   "metadata": {},
   "outputs": [
    {
     "name": "stdout",
     "output_type": "stream",
     "text": [
      "o\n"
     ]
    }
   ],
   "source": [
    "print(lstMyList[2])"
   ]
  },
  {
   "cell_type": "markdown",
   "metadata": {},
   "source": [
    "Output: e"
   ]
  },
  {
   "cell_type": "code",
   "execution_count": 20,
   "metadata": {},
   "outputs": [
    {
     "name": "stdout",
     "output_type": "stream",
     "text": [
      "e\n"
     ]
    }
   ],
   "source": [
    "print(lstMyList[4])"
   ]
  },
  {
   "cell_type": "code",
   "execution_count": 22,
   "metadata": {},
   "outputs": [
    {
     "ename": "IndexError",
     "evalue": "list index out of range",
     "output_type": "error",
     "traceback": [
      "\u001b[1;31m---------------------------------------------------------------------------\u001b[0m",
      "\u001b[1;31mIndexError\u001b[0m                                Traceback (most recent call last)",
      "\u001b[1;32m<ipython-input-22-8f60a3bd75eb>\u001b[0m in \u001b[0;36m<module>\u001b[1;34m\u001b[0m\n\u001b[0;32m      1\u001b[0m \u001b[1;31m#will give error\u001b[0m\u001b[1;33m\u001b[0m\u001b[1;33m\u001b[0m\u001b[1;33m\u001b[0m\u001b[0m\n\u001b[1;32m----> 2\u001b[1;33m \u001b[0mprint\u001b[0m\u001b[1;33m(\u001b[0m\u001b[0mlstMyList\u001b[0m\u001b[1;33m[\u001b[0m\u001b[1;36m8\u001b[0m\u001b[1;33m]\u001b[0m\u001b[1;33m)\u001b[0m\u001b[1;33m\u001b[0m\u001b[1;33m\u001b[0m\u001b[0m\n\u001b[0m",
      "\u001b[1;31mIndexError\u001b[0m: list index out of range"
     ]
    }
   ],
   "source": [
    "#will give error\n",
    "print(lstMyList[8])"
   ]
  },
  {
   "cell_type": "markdown",
   "metadata": {},
   "source": []
  },
  {
   "cell_type": "code",
   "execution_count": 23,
   "metadata": {},
   "outputs": [
    {
     "name": "stdout",
     "output_type": "stream",
     "text": [
      "e\n",
      "r\n"
     ]
    },
    {
     "ename": "IndexError",
     "evalue": "list index out of range",
     "output_type": "error",
     "traceback": [
      "\u001b[1;31m---------------------------------------------------------------------------\u001b[0m",
      "\u001b[1;31mIndexError\u001b[0m                                Traceback (most recent call last)",
      "\u001b[1;32m<ipython-input-23-43ea2c613dd0>\u001b[0m in \u001b[0;36m<module>\u001b[1;34m\u001b[0m\n\u001b[0;32m      1\u001b[0m \u001b[0mprint\u001b[0m\u001b[1;33m(\u001b[0m\u001b[0mlstMyList\u001b[0m\u001b[1;33m[\u001b[0m\u001b[1;33m-\u001b[0m\u001b[1;36m1\u001b[0m\u001b[1;33m]\u001b[0m\u001b[1;33m)\u001b[0m\u001b[1;33m\u001b[0m\u001b[1;33m\u001b[0m\u001b[0m\n\u001b[0;32m      2\u001b[0m \u001b[0mprint\u001b[0m\u001b[1;33m(\u001b[0m\u001b[0mlstMyList\u001b[0m\u001b[1;33m[\u001b[0m\u001b[1;33m-\u001b[0m\u001b[1;36m4\u001b[0m\u001b[1;33m]\u001b[0m\u001b[1;33m)\u001b[0m\u001b[1;33m\u001b[0m\u001b[1;33m\u001b[0m\u001b[0m\n\u001b[1;32m----> 3\u001b[1;33m \u001b[0mprint\u001b[0m\u001b[1;33m(\u001b[0m\u001b[0mlstMyList\u001b[0m\u001b[1;33m[\u001b[0m\u001b[1;33m-\u001b[0m\u001b[1;36m6\u001b[0m\u001b[1;33m]\u001b[0m\u001b[1;33m)\u001b[0m\u001b[1;33m\u001b[0m\u001b[1;33m\u001b[0m\u001b[0m\n\u001b[0m\u001b[0;32m      4\u001b[0m \u001b[1;31m#\u001b[0m\u001b[1;33m\u001b[0m\u001b[1;33m\u001b[0m\u001b[1;33m\u001b[0m\u001b[0m\n\u001b[0;32m      5\u001b[0m \u001b[0mprint\u001b[0m\u001b[1;33m(\u001b[0m\u001b[0mlstMyList\u001b[0m\u001b[1;33m[\u001b[0m\u001b[1;36m0\u001b[0m\u001b[1;33m:\u001b[0m\u001b[1;36m3\u001b[0m\u001b[1;33m]\u001b[0m\u001b[1;33m)\u001b[0m\u001b[1;33m\u001b[0m\u001b[1;33m\u001b[0m\u001b[0m\n",
      "\u001b[1;31mIndexError\u001b[0m: list index out of range"
     ]
    }
   ],
   "source": [
    "print(lstMyList[-1])\n",
    "print(lstMyList[-4])\n",
    "print(lstMyList[-6])\n",
    "#\n",
    "print(lstMyList[0:3])\n",
    "print(lstMyList[0:-3])"
   ]
  },
  {
   "cell_type": "markdown",
   "metadata": {},
   "source": [
    "Error! Only integer can be used for indexing"
   ]
  },
  {
   "cell_type": "code",
   "execution_count": 24,
   "metadata": {},
   "outputs": [
    {
     "ename": "TypeError",
     "evalue": "list indices must be integers or slices, not float",
     "output_type": "error",
     "traceback": [
      "\u001b[1;31m---------------------------------------------------------------------------\u001b[0m",
      "\u001b[1;31mTypeError\u001b[0m                                 Traceback (most recent call last)",
      "\u001b[1;32m<ipython-input-24-85c4e9553a22>\u001b[0m in \u001b[0;36m<module>\u001b[1;34m\u001b[0m\n\u001b[1;32m----> 1\u001b[1;33m \u001b[0mprint\u001b[0m\u001b[1;33m(\u001b[0m\u001b[0mlstMyList\u001b[0m\u001b[1;33m[\u001b[0m\u001b[1;36m3.5\u001b[0m\u001b[1;33m]\u001b[0m\u001b[1;33m)\u001b[0m\u001b[1;33m\u001b[0m\u001b[1;33m\u001b[0m\u001b[0m\n\u001b[0m",
      "\u001b[1;31mTypeError\u001b[0m: list indices must be integers or slices, not float"
     ]
    }
   ],
   "source": [
    "print(lstMyList[3.5])"
   ]
  },
  {
   "cell_type": "markdown",
   "metadata": {},
   "source": [
    "=============================================================================<br>\n",
    "Updating Lists<br>\n",
    "You can update single or multiple elements of lists by giving the slice on <br>\n",
    "the left-hand side of the assignment operator; the right side of assignment <br>\n",
    "opertor is the value to be assigned<br>\n",
    "============================================================================="
   ]
  },
  {
   "cell_type": "code",
   "execution_count": 25,
   "metadata": {},
   "outputs": [
    {
     "name": "stdout",
     "output_type": "stream",
     "text": [
      "['physics', 'chemistry', 1997, 2000]\n",
      "Value available at index 2 : \n",
      "1997\n",
      "New value available at index 2 : \n",
      "2001\n"
     ]
    }
   ],
   "source": [
    "lstMyList = ['physics', 'chemistry', 1997, 2000]\n",
    "print(lstMyList)\n",
    "print(\"Value available at index 2 : \")\n",
    "print(lstMyList[2])\n",
    "lstMyList[2] = 2001\n",
    "print( \"New value available at index 2 : \")\n",
    "print(lstMyList[2])"
   ]
  },
  {
   "cell_type": "markdown",
   "metadata": {},
   "source": [
    "=============================================================================<br>\n",
    "Appending Lists<br>\n",
    "You can add to elements in a list with the append() method.<br>\n",
    "The method append() appends a passed obj into the existing list.<br>\n",
    "This method does not return any value but updates existing list.<br>\n",
    "============================================================================="
   ]
  },
  {
   "cell_type": "code",
   "execution_count": 26,
   "metadata": {},
   "outputs": [
    {
     "name": "stdout",
     "output_type": "stream",
     "text": [
      "[123, 'xyz', 'zara', 'abc']\n",
      "Updated List :  [123, 'xyz', 'zara', 'abc', 2009]\n"
     ]
    }
   ],
   "source": [
    "lstMyList = [123, 'xyz', 'zara', 'abc']\n",
    "print(lstMyList)\n",
    "lstMyList.append( 2009 )\n",
    "print(\"Updated List : \", lstMyList)"
   ]
  },
  {
   "cell_type": "code",
   "execution_count": 27,
   "metadata": {},
   "outputs": [
    {
     "ename": "TypeError",
     "evalue": "append() takes exactly one argument (2 given)",
     "output_type": "error",
     "traceback": [
      "\u001b[1;31m---------------------------------------------------------------------------\u001b[0m",
      "\u001b[1;31mTypeError\u001b[0m                                 Traceback (most recent call last)",
      "\u001b[1;32m<ipython-input-27-6fb7d45a8977>\u001b[0m in \u001b[0;36m<module>\u001b[1;34m\u001b[0m\n\u001b[0;32m      1\u001b[0m \u001b[0mlstMyList\u001b[0m \u001b[1;33m=\u001b[0m \u001b[1;33m[\u001b[0m\u001b[1;36m123\u001b[0m\u001b[1;33m,\u001b[0m \u001b[1;34m'xyz'\u001b[0m\u001b[1;33m,\u001b[0m \u001b[1;34m'zara'\u001b[0m\u001b[1;33m,\u001b[0m \u001b[1;34m'abc'\u001b[0m\u001b[1;33m]\u001b[0m\u001b[1;33m\u001b[0m\u001b[1;33m\u001b[0m\u001b[0m\n\u001b[1;32m----> 2\u001b[1;33m \u001b[0mlstMyList\u001b[0m\u001b[1;33m.\u001b[0m\u001b[0mappend\u001b[0m\u001b[1;33m(\u001b[0m \u001b[1;36m2009\u001b[0m\u001b[1;33m,\u001b[0m \u001b[1;34m\"zzz\"\u001b[0m \u001b[1;33m)\u001b[0m\u001b[1;33m\u001b[0m\u001b[1;33m\u001b[0m\u001b[0m\n\u001b[0m\u001b[0;32m      3\u001b[0m \u001b[0mprint\u001b[0m\u001b[1;33m(\u001b[0m\u001b[1;34m\"Updated List : \"\u001b[0m\u001b[1;33m,\u001b[0m \u001b[0mlstMyList\u001b[0m\u001b[1;33m)\u001b[0m\u001b[1;33m\u001b[0m\u001b[1;33m\u001b[0m\u001b[0m\n",
      "\u001b[1;31mTypeError\u001b[0m: append() takes exactly one argument (2 given)"
     ]
    }
   ],
   "source": [
    "lstMyList = [123, 'xyz', 'zara', 'abc']\n",
    "lstMyList.append( 2009, \"zzz\" )\n",
    "print(\"Updated List : \", lstMyList)"
   ]
  },
  {
   "cell_type": "markdown",
   "metadata": {},
   "source": [
    "=============================================================================<br>\n",
    "Delete List Elements<br>\n",
    "To remove a list element, you can use either the del statement if you know <br>\n",
    "exactly which element(s) you are deleting or the remove() method if you do <br>\n",
    "not know. For example âˆ’<br>\n",
    "============================================================================="
   ]
  },
  {
   "cell_type": "code",
   "execution_count": 28,
   "metadata": {},
   "outputs": [
    {
     "name": "stdout",
     "output_type": "stream",
     "text": [
      "['physics', 'chemistry', 1997, 2000]\n",
      "After deleting value at index 2 : \n",
      "['physics', 'chemistry', 2000]\n",
      "After deleting value at index 2 : \n",
      "['physics', 'chemistry']\n"
     ]
    },
    {
     "ename": "IndexError",
     "evalue": "list assignment index out of range",
     "output_type": "error",
     "traceback": [
      "\u001b[1;31m---------------------------------------------------------------------------\u001b[0m",
      "\u001b[1;31mIndexError\u001b[0m                                Traceback (most recent call last)",
      "\u001b[1;32m<ipython-input-28-c0012342a15f>\u001b[0m in \u001b[0;36m<module>\u001b[1;34m\u001b[0m\n\u001b[0;32m      7\u001b[0m \u001b[0mprint\u001b[0m\u001b[1;33m(\u001b[0m\u001b[1;34m\"After deleting value at index 2 : \"\u001b[0m\u001b[1;33m)\u001b[0m\u001b[1;33m\u001b[0m\u001b[1;33m\u001b[0m\u001b[0m\n\u001b[0;32m      8\u001b[0m \u001b[0mprint\u001b[0m\u001b[1;33m(\u001b[0m\u001b[0mlstMyList\u001b[0m\u001b[1;33m)\u001b[0m\u001b[1;33m\u001b[0m\u001b[1;33m\u001b[0m\u001b[0m\n\u001b[1;32m----> 9\u001b[1;33m \u001b[1;32mdel\u001b[0m \u001b[0mlstMyList\u001b[0m\u001b[1;33m[\u001b[0m\u001b[1;36m2\u001b[0m\u001b[1;33m]\u001b[0m\u001b[1;33m\u001b[0m\u001b[1;33m\u001b[0m\u001b[0m\n\u001b[0m\u001b[0;32m     10\u001b[0m \u001b[0mprint\u001b[0m\u001b[1;33m(\u001b[0m\u001b[1;34m\"After deleting value at index 2 : \"\u001b[0m\u001b[1;33m)\u001b[0m\u001b[1;33m\u001b[0m\u001b[1;33m\u001b[0m\u001b[0m\n\u001b[0;32m     11\u001b[0m \u001b[0mprint\u001b[0m\u001b[1;33m(\u001b[0m\u001b[0mlstMyList\u001b[0m\u001b[1;33m)\u001b[0m\u001b[1;33m\u001b[0m\u001b[1;33m\u001b[0m\u001b[0m\n",
      "\u001b[1;31mIndexError\u001b[0m: list assignment index out of range"
     ]
    }
   ],
   "source": [
    "lstMyList = ['physics', 'chemistry', 1997, 2000]\n",
    "print(lstMyList)\n",
    "del lstMyList[2]\n",
    "print(\"After deleting value at index 2 : \")\n",
    "print(lstMyList)\n",
    "del lstMyList[2]\n",
    "print(\"After deleting value at index 2 : \")\n",
    "print(lstMyList)\n",
    "del lstMyList[2]\n",
    "print(\"After deleting value at index 2 : \")\n",
    "print(lstMyList)"
   ]
  },
  {
   "cell_type": "markdown",
   "metadata": {},
   "source": [
    "=============================================================================<br>\n",
    "Basic List Operations<br>\n",
    "Lists respond to the + and * operators much like strings; they mean <br>\n",
    "concatenation and repetition here too, except that the result is a new list, <br>\n",
    "not a string.<br>\n",
    "In fact, lists respond to all of the general sequence operations we used on <br>\n",
    "strings in the prior chapter.<br>\n",
    "=============================================================================<br>\n",
    "length"
   ]
  },
  {
   "cell_type": "code",
   "execution_count": 29,
   "metadata": {},
   "outputs": [
    {
     "name": "stdout",
     "output_type": "stream",
     "text": [
      "3\n",
      "[1, 2, 3, 4, 5, 6]\n",
      "['Hi!', 'GM!', 'Hi!', 'GM!', 'Hi!', 'GM!', 'Hi!', 'GM!']\n",
      "True\n",
      "False\n",
      "True\n",
      "False\n",
      "False\n",
      "1\n",
      "0\n",
      "2\n",
      "0\n",
      "3\n",
      "0\n",
      "xyz\n",
      "zara\n",
      "abc\n"
     ]
    }
   ],
   "source": [
    "print(len([1, 2, 3]))\n",
    "# concatenation\n",
    "print([1, 2, 3] + [4, 5, 6])\n",
    "# repetition\n",
    "print(['Hi!', 'GM!'] * 4\t)\n",
    "# membership\n",
    "print(3 in [1, 2, 3])\n",
    "# membership\n",
    "print(0 in [1, 2, 3])\n",
    "# membership \n",
    "lstMyList = ['xyz', 'zara', 'abc']\n",
    "print('xyz' in lstMyList)\n",
    "print('sss' in lstMyList)\n",
    "print('XYZ' in lstMyList)\n",
    "# iteration\n",
    "for x in [1, 2, 3]:\n",
    "    print(x)\n",
    "    x = 0\n",
    "    print(x)\n",
    "# iteration\n",
    "lstMyList = ['xyz', 'zara', 'abc']\n",
    "for x in lstMyList:\n",
    "    print(x)"
   ]
  },
  {
   "cell_type": "markdown",
   "metadata": {},
   "source": [
    "=============================================================================<br>\n",
    "Built-in List Functions & Methods:<br>\n",
    "Python includes the following list functions âˆ’<br>\n",
    "============================================================================="
   ]
  },
  {
   "cell_type": "markdown",
   "metadata": {},
   "source": [
    "def list"
   ]
  },
  {
   "cell_type": "code",
   "execution_count": 30,
   "metadata": {},
   "outputs": [
    {
     "name": "stdout",
     "output_type": "stream",
     "text": [
      "6\n",
      "6\n",
      "1\n",
      "21\n",
      "3.5\n"
     ]
    }
   ],
   "source": [
    "lstMyList = [1, 2, 3, 4, 5, 6]\n",
    "# gives the total length of the list.\n",
    "print(len(lstMyList))\n",
    "# returns item from the list with max value.\n",
    "print(max(lstMyList))\n",
    "# returns item from the list with min value.\n",
    "print(min(lstMyList))\n",
    "# returns item from the list with sum value.\n",
    "print(sum(lstMyList))\n",
    "# mean\n",
    "print(sum(lstMyList)/len(lstMyList))"
   ]
  },
  {
   "cell_type": "markdown",
   "metadata": {},
   "source": [
    "define list"
   ]
  },
  {
   "cell_type": "code",
   "execution_count": 45,
   "metadata": {},
   "outputs": [
    {
     "name": "stdout",
     "output_type": "stream",
     "text": [
      "6\n",
      "maths\n",
      "Physics\n"
     ]
    }
   ],
   "source": [
    "lstMyList = ['english', 'french', 'maths', 'Physics', 'chemistry', 'biology']\n",
    "# gives the total length of the list.\n",
    "print(len(lstMyList))\n",
    "# returns item from the list with max value.\n",
    "print(max(lstMyList))\n",
    "# returns item from the list with min value.\n",
    "print(min(lstMyList))"
   ]
  },
  {
   "cell_type": "markdown",
   "metadata": {},
   "source": [
    "=============================================================================<br>\n",
    "Python includes following list methods<br>\n",
    "=============================================================================<br>\n",
    "appends object obj to list<br>\n",
    "list.append(obj)"
   ]
  },
  {
   "cell_type": "code",
   "execution_count": 46,
   "metadata": {},
   "outputs": [
    {
     "name": "stdout",
     "output_type": "stream",
     "text": [
      "Updated List :  [123, 'xyz', 'zara', 'abc', 2009]\n"
     ]
    }
   ],
   "source": [
    "aList = [123, 'xyz', 'zara', 'abc']\n",
    "aList.append( 2009 )\n",
    "print(\"Updated List : \", aList)"
   ]
  },
  {
   "cell_type": "markdown",
   "metadata": {},
   "source": [
    "returns count of how many times obj occurs in list<br>\n",
    "list.count(obj)"
   ]
  },
  {
   "cell_type": "code",
   "execution_count": 47,
   "metadata": {},
   "outputs": [
    {
     "name": "stdout",
     "output_type": "stream",
     "text": [
      "Count for 123 :  2\n",
      "Count for zara :  1\n",
      "Count for zzzz :  0\n"
     ]
    }
   ],
   "source": [
    "aList = [123, 'xyz', 'zara', 'abc', 123]\n",
    "print(\"Count for 123 : \", aList.count(123))\n",
    "print(\"Count for zara : \", aList.count('zara'))\n",
    "print(\"Count for zzzz : \", aList.count('zzz'))"
   ]
  },
  {
   "cell_type": "markdown",
   "metadata": {},
   "source": [
    "appends the contents of seq to list<br>\n",
    "list.extend(seq)"
   ]
  },
  {
   "cell_type": "code",
   "execution_count": 54,
   "metadata": {},
   "outputs": [
    {
     "name": "stdout",
     "output_type": "stream",
     "text": [
      "Extended List :  [123, 'xyz', 'zara', 'abc', 123, 2009, 2009, 'manni']\n",
      "Extended List :  [123, 'xyz', 'zara', 'abc', 123, 2009, 2009, 'manni', 2008, 'manni']\n"
     ]
    }
   ],
   "source": [
    "aList = [123, 'xyz', 'zara', 'abc', 123, 2009]\n",
    "bList = [2009, 'manni']\n",
    "cList = [2008, 'manni']\n",
    "#aList = aList + bList\n",
    "#print(aList)\n",
    "aList.extend(bList)\n",
    "print(\"Extended List : \", aList) \n",
    "aList.extend(cList)\n",
    "print(\"Extended List : \", aList) "
   ]
  },
  {
   "cell_type": "markdown",
   "metadata": {},
   "source": [
    "returns the lowest index in list that obj appears<br>\n",
    "list.index(obj)"
   ]
  },
  {
   "cell_type": "code",
   "execution_count": 56,
   "metadata": {},
   "outputs": [
    {
     "name": "stdout",
     "output_type": "stream",
     "text": [
      "Before List:  [123, 'abc', 'xyz', 'zara', 'abc']\n",
      "Index for xyz :  2\n",
      "Index for zara :  3\n",
      "Index for abc :  1\n",
      "After List:  [123, 'abc', 'xyz', 'zara', 'abc']\n"
     ]
    }
   ],
   "source": [
    "aList = [123, 'abc', 'xyz', 'zara', 'abc'];\n",
    "print(\"Before List: \", aList)\n",
    "print(\"Index for xyz : \", aList.index('xyz'))\n",
    "print(\"Index for zara : \", aList.index('zara')) \n",
    "print(\"Index for abc : \", aList.index('abc'))\n",
    "print(\"After List: \", aList)"
   ]
  },
  {
   "cell_type": "markdown",
   "metadata": {},
   "source": [
    "inserts object obj into list at offset index<br>\n",
    "list.insert(index, obj)"
   ]
  },
  {
   "cell_type": "code",
   "execution_count": 59,
   "metadata": {},
   "outputs": [
    {
     "name": "stdout",
     "output_type": "stream",
     "text": [
      "Final List :  [123, 'xyz', 'zara', 'abc']\n",
      "Final List :  [123, 'xyz', 'zara', 2009, 'abc']\n",
      "Final List :  [123, 'xyz', 'zara', 2009, 'abc', 2011]\n"
     ]
    }
   ],
   "source": [
    "aList = [123, 'xyz', 'zara', 'abc']\n",
    "print(\"Final List : \", aList)\n",
    "aList.insert( 3, 2009)\n",
    "print(\"Final List : \", aList)\n",
    "aList.insert( 2010, 2011)\n",
    "print(\"Final List : \", aList)"
   ]
  },
  {
   "cell_type": "markdown",
   "metadata": {},
   "source": [
    "removes and returns last object or obj from list<br>\n",
    "list.pop(obj=list[-1])"
   ]
  },
  {
   "cell_type": "code",
   "execution_count": 60,
   "metadata": {},
   "outputs": [
    {
     "name": "stdout",
     "output_type": "stream",
     "text": [
      "Pre Pass 1 List :  [123, 'xyz', 'zara', 'abc']\n",
      "Pass 1 List :  [123, 'xyz', 'zara']\n",
      "Pass 1 Obj  :  abc\n",
      "Pass 2 List :  [123, 'xyz']\n",
      "Pass 2 Obj  :  zara\n"
     ]
    }
   ],
   "source": [
    "aList = [123, 'xyz', 'zara', 'abc']\n",
    "print(\"Pre Pass 1 List : \", aList)\n",
    "aObj = aList.pop()\n",
    "print(\"Pass 1 List : \", aList)\n",
    "print(\"Pass 1 Obj  : \", aObj)\n",
    "aObj = aList.pop()\n",
    "print(\"Pass 2 List : \", aList)\n",
    "print(\"Pass 2 Obj  : \", aObj)"
   ]
  },
  {
   "cell_type": "markdown",
   "metadata": {},
   "source": [
    "removes object obj from list<br>\n",
    "list.remove(obj)"
   ]
  },
  {
   "cell_type": "code",
   "execution_count": 62,
   "metadata": {},
   "outputs": [
    {
     "name": "stdout",
     "output_type": "stream",
     "text": [
      "List   :  [123, 'xyz', 'zara', 'abc', 'zara', 123]\n",
      "List   :  ['xyz', 'zara', 'abc', 'zara', 123]\n",
      "List   :  ['xyz', 'abc', 'zara', 123]\n"
     ]
    }
   ],
   "source": [
    "aList = [123, 'xyz', 'zara', 'abc', 'zara', 123]\n",
    "print(\"List   : \", aList)\n",
    "aList.remove(123)\n",
    "print(\"List   : \", aList)\n",
    "aList.remove('zara')\n",
    "print(\"List   : \", aList)"
   ]
  },
  {
   "cell_type": "markdown",
   "metadata": {},
   "source": [
    "reverses objects of list in place<br>\n",
    "list.reverse()"
   ]
  },
  {
   "cell_type": "code",
   "execution_count": 64,
   "metadata": {},
   "outputs": [
    {
     "name": "stdout",
     "output_type": "stream",
     "text": [
      "['english', 'french', 'maths', 'physics', 'chemistry', 'biology']\n",
      "['biology', 'chemistry', 'physics', 'maths', 'french', 'english']\n"
     ]
    }
   ],
   "source": [
    "lstMyList = ['english', 'french', 'maths', 'physics', 'chemistry', 'biology']\n",
    "print(lstMyList)\n",
    "lstMyList.reverse()\n",
    "print(lstMyList)"
   ]
  },
  {
   "cell_type": "markdown",
   "metadata": {},
   "source": [
    "sorts objects of list, use compare func if given<br>\n",
    "list.sort([func])"
   ]
  },
  {
   "cell_type": "code",
   "execution_count": 65,
   "metadata": {},
   "outputs": [
    {
     "name": "stdout",
     "output_type": "stream",
     "text": [
      "['biology', 'chemistry', 'english', 'french', 'maths', 'physics']\n"
     ]
    }
   ],
   "source": [
    "lstMyList = ['english', 'french', 'maths', 'physics', 'chemistry', 'biology']\n",
    "lstMyList.sort()\n",
    "print(lstMyList)"
   ]
  },
  {
   "cell_type": "markdown",
   "metadata": {},
   "source": [
    "sorts objects of list, use compare func if given<br>\n",
    "list.sort([func])"
   ]
  },
  {
   "cell_type": "code",
   "execution_count": 70,
   "metadata": {},
   "outputs": [
    {
     "name": "stdout",
     "output_type": "stream",
     "text": [
      "[2, 4, 6, 8, 1, 3, 5, 9]\n",
      "[1, 2, 3, 4, 5, 6, 8, 9]\n"
     ]
    }
   ],
   "source": [
    "lstMyList = [2,4,6,8,1,3,5,9]\n",
    "print(lstMyList)\n",
    "lstMyList.sort()\n",
    "print(lstMyList)"
   ]
  },
  {
   "cell_type": "markdown",
   "metadata": {},
   "source": [
    "Will give error"
   ]
  },
  {
   "cell_type": "code",
   "execution_count": 72,
   "metadata": {},
   "outputs": [
    {
     "name": "stdout",
     "output_type": "stream",
     "text": [
      "['english', 'french', 'maths', 'physics', 'chemistry', 'biology', 2, 4, 6, 8, 1, 3, 5, 9]\n"
     ]
    },
    {
     "ename": "TypeError",
     "evalue": "'<' not supported between instances of 'int' and 'str'",
     "output_type": "error",
     "traceback": [
      "\u001b[1;31m---------------------------------------------------------------------------\u001b[0m",
      "\u001b[1;31mTypeError\u001b[0m                                 Traceback (most recent call last)",
      "\u001b[1;32m<ipython-input-72-546f3007373c>\u001b[0m in \u001b[0;36m<module>\u001b[1;34m\u001b[0m\n\u001b[0;32m      1\u001b[0m \u001b[0mlstMyList\u001b[0m \u001b[1;33m=\u001b[0m \u001b[1;33m[\u001b[0m\u001b[1;34m'english'\u001b[0m\u001b[1;33m,\u001b[0m \u001b[1;34m'french'\u001b[0m\u001b[1;33m,\u001b[0m \u001b[1;34m'maths'\u001b[0m\u001b[1;33m,\u001b[0m \u001b[1;34m'physics'\u001b[0m\u001b[1;33m,\u001b[0m \u001b[1;34m'chemistry'\u001b[0m\u001b[1;33m,\u001b[0m \u001b[1;34m'biology'\u001b[0m\u001b[1;33m,\u001b[0m\u001b[1;36m2\u001b[0m\u001b[1;33m,\u001b[0m\u001b[1;36m4\u001b[0m\u001b[1;33m,\u001b[0m\u001b[1;36m6\u001b[0m\u001b[1;33m,\u001b[0m\u001b[1;36m8\u001b[0m\u001b[1;33m,\u001b[0m\u001b[1;36m1\u001b[0m\u001b[1;33m,\u001b[0m\u001b[1;36m3\u001b[0m\u001b[1;33m,\u001b[0m\u001b[1;36m5\u001b[0m\u001b[1;33m,\u001b[0m\u001b[1;36m9\u001b[0m\u001b[1;33m]\u001b[0m\u001b[1;33m\u001b[0m\u001b[1;33m\u001b[0m\u001b[0m\n\u001b[0;32m      2\u001b[0m \u001b[0mprint\u001b[0m\u001b[1;33m(\u001b[0m\u001b[0mlstMyList\u001b[0m\u001b[1;33m)\u001b[0m\u001b[1;33m\u001b[0m\u001b[1;33m\u001b[0m\u001b[0m\n\u001b[1;32m----> 3\u001b[1;33m \u001b[0mlstMyList\u001b[0m\u001b[1;33m.\u001b[0m\u001b[0msort\u001b[0m\u001b[1;33m(\u001b[0m\u001b[1;33m)\u001b[0m\u001b[1;33m\u001b[0m\u001b[1;33m\u001b[0m\u001b[0m\n\u001b[0m\u001b[0;32m      4\u001b[0m \u001b[0mprint\u001b[0m\u001b[1;33m(\u001b[0m\u001b[0mlstMyList\u001b[0m\u001b[1;33m)\u001b[0m\u001b[1;33m\u001b[0m\u001b[1;33m\u001b[0m\u001b[0m\n",
      "\u001b[1;31mTypeError\u001b[0m: '<' not supported between instances of 'int' and 'str'"
     ]
    }
   ],
   "source": [
    "lstMyList = ['english', 'french', 'maths', 'physics', 'chemistry', 'biology',2,4,6,8,1,3,5,9]\n",
    "print(lstMyList)\n",
    "lstMyList.sort()\n",
    "print(lstMyList)"
   ]
  },
  {
   "cell_type": "code",
   "execution_count": 74,
   "metadata": {},
   "outputs": [
    {
     "name": "stdout",
     "output_type": "stream",
     "text": [
      "[2.2, 4.4, 6.6, 8.8, 1, 3, 5, 9]\n",
      "[1, 2.2, 3, 4.4, 5, 6.6, 8.8, 9]\n"
     ]
    }
   ],
   "source": [
    "lstMyList = [2.2,4.4,6.6,8.8,1,3,5,9]\n",
    "print(lstMyList)\n",
    "lstMyList.sort()\n",
    "print(lstMyList)"
   ]
  },
  {
   "cell_type": "markdown",
   "metadata": {},
   "source": [
    "Will give error"
   ]
  },
  {
   "cell_type": "code",
   "execution_count": 76,
   "metadata": {},
   "outputs": [
    {
     "name": "stdout",
     "output_type": "stream",
     "text": [
      "List   :  [123, 'xyz', 'zara', 'abc', 'zara', 123]\n"
     ]
    },
    {
     "ename": "TypeError",
     "evalue": "'<' not supported between instances of 'str' and 'int'",
     "output_type": "error",
     "traceback": [
      "\u001b[1;31m---------------------------------------------------------------------------\u001b[0m",
      "\u001b[1;31mTypeError\u001b[0m                                 Traceback (most recent call last)",
      "\u001b[1;32m<ipython-input-76-b78e9d57197e>\u001b[0m in \u001b[0;36m<module>\u001b[1;34m\u001b[0m\n\u001b[0;32m      1\u001b[0m \u001b[0maList\u001b[0m \u001b[1;33m=\u001b[0m \u001b[1;33m[\u001b[0m\u001b[1;36m123\u001b[0m\u001b[1;33m,\u001b[0m \u001b[1;34m'xyz'\u001b[0m\u001b[1;33m,\u001b[0m \u001b[1;34m'zara'\u001b[0m\u001b[1;33m,\u001b[0m \u001b[1;34m'abc'\u001b[0m\u001b[1;33m,\u001b[0m \u001b[1;34m'zara'\u001b[0m\u001b[1;33m,\u001b[0m \u001b[1;36m123\u001b[0m\u001b[1;33m]\u001b[0m\u001b[1;33m\u001b[0m\u001b[1;33m\u001b[0m\u001b[0m\n\u001b[0;32m      2\u001b[0m \u001b[0mprint\u001b[0m\u001b[1;33m(\u001b[0m\u001b[1;34m\"List   : \"\u001b[0m\u001b[1;33m,\u001b[0m \u001b[0maList\u001b[0m\u001b[1;33m)\u001b[0m\u001b[1;33m\u001b[0m\u001b[1;33m\u001b[0m\u001b[0m\n\u001b[1;32m----> 3\u001b[1;33m \u001b[0maList\u001b[0m\u001b[1;33m.\u001b[0m\u001b[0msort\u001b[0m\u001b[1;33m(\u001b[0m\u001b[1;33m)\u001b[0m\u001b[1;33m\u001b[0m\u001b[1;33m\u001b[0m\u001b[0m\n\u001b[0m\u001b[0;32m      4\u001b[0m \u001b[0mprint\u001b[0m\u001b[1;33m(\u001b[0m\u001b[1;34m\"List   : \"\u001b[0m\u001b[1;33m,\u001b[0m \u001b[0maList\u001b[0m\u001b[1;33m)\u001b[0m\u001b[1;33m\u001b[0m\u001b[1;33m\u001b[0m\u001b[0m\n",
      "\u001b[1;31mTypeError\u001b[0m: '<' not supported between instances of 'str' and 'int'"
     ]
    }
   ],
   "source": [
    "aList = [123, 'xyz', 'zara', 'abc', 'zara', 123]\n",
    "print(\"List   : \", aList)\n",
    "aList.sort()\n",
    "print(\"List   : \", aList)"
   ]
  },
  {
   "cell_type": "code",
   "execution_count": 77,
   "metadata": {},
   "outputs": [
    {
     "name": "stdout",
     "output_type": "stream",
     "text": [
      "List   :  [2.2, 4.4, 6.6, 8.8, 1, 3, 5, 9]\n",
      "List   :  [1, 2.2, 3, 4.4, 5, 6.6, 8.8, 9]\n"
     ]
    }
   ],
   "source": [
    "aList = [2.2,4.4,6.6,8.8,1,3,5,9]\n",
    "print(\"List   : \", aList)\n",
    "aList.sort()\n",
    "print(\"List   : \", aList)"
   ]
  },
  {
   "cell_type": "markdown",
   "metadata": {},
   "source": [
    "Loops<br>\n",
    "You can loop over the elements of a list like this:"
   ]
  },
  {
   "cell_type": "code",
   "execution_count": 78,
   "metadata": {},
   "outputs": [
    {
     "name": "stdout",
     "output_type": "stream",
     "text": [
      "cat\n",
      "dog\n",
      "monkey\n"
     ]
    }
   ],
   "source": [
    "animals = ['cat', 'dog', 'monkey']\n",
    "for animal in animals:\n",
    "    print(animal)\n",
    "# Prints \"cat\", \"dog\", \"monkey\", each on its own line."
   ]
  },
  {
   "cell_type": "markdown",
   "metadata": {},
   "source": [
    "You can loop over the elements of a list like this:"
   ]
  },
  {
   "cell_type": "code",
   "execution_count": 79,
   "metadata": {},
   "outputs": [
    {
     "name": "stdout",
     "output_type": "stream",
     "text": [
      "cat\n",
      "dog\n",
      "monkey\n"
     ]
    }
   ],
   "source": [
    "animals = ['cat', 'dog', 'monkey']\n",
    "for i in range(0,len(animals)):\n",
    "    print(animals[i])"
   ]
  },
  {
   "cell_type": "markdown",
   "metadata": {},
   "source": [
    "If you want access to the index of each element within the body of a loop, <br>\n",
    "use the built-in enumerate function:"
   ]
  },
  {
   "cell_type": "code",
   "execution_count": 80,
   "metadata": {},
   "outputs": [
    {
     "name": "stdout",
     "output_type": "stream",
     "text": [
      "0 cat\n",
      "1 dog\n",
      "2 monkey\n"
     ]
    }
   ],
   "source": [
    "animals = ['cat', 'dog', 'monkey']\n",
    "for idx, animal in enumerate(animals):\n",
    "    print(idx, animal)"
   ]
  },
  {
   "cell_type": "markdown",
   "metadata": {},
   "source": [
    "You can loop over the elements of a list like this:"
   ]
  },
  {
   "cell_type": "code",
   "execution_count": 81,
   "metadata": {},
   "outputs": [
    {
     "name": "stdout",
     "output_type": "stream",
     "text": [
      "0 cat\n",
      "1 dog\n",
      "2 monkey\n"
     ]
    }
   ],
   "source": [
    "animals = ['cat', 'dog', 'monkey']\n",
    "for i in range(0,len(animals)):\n",
    "    print(i,animals[i])"
   ]
  },
  {
   "cell_type": "markdown",
   "metadata": {},
   "source": [
    "You can loop over the elements of a list like this:"
   ]
  },
  {
   "cell_type": "code",
   "execution_count": 82,
   "metadata": {},
   "outputs": [
    {
     "name": "stdout",
     "output_type": "stream",
     "text": [
      "0 cat\n",
      "1 dog\n",
      "2 monkey\n"
     ]
    }
   ],
   "source": [
    "animals = ['cat', 'dog', 'monkey']\n",
    "i = 0\n",
    "while True:\n",
    "    if i >= len(animals):\n",
    "        break\n",
    "    print(i, animals[i])\n",
    "    i = i + 1"
   ]
  },
  {
   "cell_type": "markdown",
   "metadata": {},
   "source": [
    "#==================================="
   ]
  },
  {
   "cell_type": "markdown",
   "metadata": {},
   "source": [
    "List comprehensions: <br>\n",
    "When programming, frequently we want to transform one type of data into <br>\n",
    "another. As a simple example, consider the following code that computes <br>\n",
    "square numbers"
   ]
  },
  {
   "cell_type": "code",
   "execution_count": 83,
   "metadata": {},
   "outputs": [
    {
     "name": "stdout",
     "output_type": "stream",
     "text": [
      "[0, 1, 4, 9, 16]\n"
     ]
    }
   ],
   "source": [
    "nums = [0, 1, 2, 3, 4]\n",
    "squares = []\n",
    "for x in nums:\n",
    "    squares.append(x ** 2)\n",
    "print(squares)                      # Prints [0, 1, 4, 9, 16]"
   ]
  },
  {
   "cell_type": "markdown",
   "metadata": {},
   "source": [
    "you can make this code simpler using a list comprehension:"
   ]
  },
  {
   "cell_type": "code",
   "execution_count": 84,
   "metadata": {},
   "outputs": [
    {
     "name": "stdout",
     "output_type": "stream",
     "text": [
      "[0, 1, 4, 9, 16]\n"
     ]
    }
   ],
   "source": [
    "nums = [0, 1, 2, 3, 4]\n",
    "squares = [x ** 2 for x in nums]\n",
    "print(squares)                      # Prints [0, 1, 4, 9, 16]"
   ]
  },
  {
   "cell_type": "markdown",
   "metadata": {},
   "source": [
    "list comprehensions can also contain conditions:"
   ]
  },
  {
   "cell_type": "code",
   "execution_count": 85,
   "metadata": {},
   "outputs": [
    {
     "name": "stdout",
     "output_type": "stream",
     "text": [
      "[0, 4, 16]\n"
     ]
    }
   ],
   "source": [
    "nums = [0, 1, 2, 3, 4]\n",
    "even_squares = [x ** 2 for x in nums if x % 2 == 0]\n",
    "print(even_squares)                 # Prints \"[0, 4, 16]\""
   ]
  },
  {
   "cell_type": "markdown",
   "metadata": {},
   "source": [
    "#==================================="
   ]
  },
  {
   "cell_type": "code",
   "execution_count": 86,
   "metadata": {},
   "outputs": [],
   "source": [
    "names = ['Cyrus Lentin', 'Vipul', 'Abbas', 'AdiL']\n",
    "hours = [200, 250, 210, 220]\n",
    "rates = [1000, 1050, 1000, 1200]"
   ]
  },
  {
   "cell_type": "code",
   "execution_count": 87,
   "metadata": {},
   "outputs": [
    {
     "name": "stdout",
     "output_type": "stream",
     "text": [
      "Cyrus Lentin 1000 200\n",
      "Vipul 1050 250\n",
      "Abbas 1000 210\n"
     ]
    }
   ],
   "source": [
    "for i in range(3):\n",
    "    print(names[i], rates[i], hours[i])"
   ]
  },
  {
   "cell_type": "code",
   "execution_count": 88,
   "metadata": {},
   "outputs": [
    {
     "name": "stdout",
     "output_type": "stream",
     "text": [
      "Sr  Name                  Hours      Rate      Salary\n",
      "=== ===================== ========== ========= ============\n",
      "  1         Cyrus Lentin        200       1000     200000\n",
      "  2                Vipul        250       1050     262500\n",
      "  3                Abbas        210       1000     210000\n",
      "  4                 AdiL        220       1200     264000\n"
     ]
    }
   ],
   "source": [
    "print(\"Sr  Name                  Hours      Rate      Salary\")\n",
    "print(\"=== ===================== ========== ========= ============\")\n",
    "for i in range(4):\n",
    "    print('%3d %20s %10d %10d %10d' % (i+1, names[i], hours[i], rates[i], hours[i]*rates[i]))"
   ]
  },
  {
   "cell_type": "code",
   "execution_count": 89,
   "metadata": {},
   "outputs": [
    {
     "name": "stdout",
     "output_type": "stream",
     "text": [
      "Sr  Name                  Hours     Rate       Salary\n",
      "=== ===================== ========= ========== ============\n",
      "  1 Cyrus Lentin                200       1000           20\n",
      "  2 Vipul                       250       1050           26\n",
      "  3 Abbas                       210       1000           21\n",
      "  4 AdiL                        220       1200           26\n"
     ]
    }
   ],
   "source": [
    "print(\"Sr  Name                  Hours     Rate       Salary\")\n",
    "print(\"=== ===================== ========= ========== ============\")\n",
    "for i in range(4):\n",
    "    print('%3d %20s %10s %10s %12.2s' % (i+1, names[i].ljust(20, ' '), hours[i], rates[i], hours[i]*rates[i]))"
   ]
  },
  {
   "cell_type": "code",
   "execution_count": null,
   "metadata": {},
   "outputs": [],
   "source": []
  }
 ],
 "metadata": {
  "kernelspec": {
   "display_name": "Python 3",
   "language": "python",
   "name": "python3"
  },
  "language_info": {
   "codemirror_mode": {
    "name": "ipython",
    "version": 3
   },
   "file_extension": ".py",
   "mimetype": "text/x-python",
   "name": "python",
   "nbconvert_exporter": "python",
   "pygments_lexer": "ipython3",
   "version": "3.8.5"
  }
 },
 "nbformat": 4,
 "nbformat_minor": 2
}
