{
 "cells": [
  {
   "cell_type": "code",
   "execution_count": 3,
   "metadata": {},
   "outputs": [
    {
     "data": {
      "text/plain": [
       "'\\n@filename: PythonBasics\\n@author: waisullah yousofi\\n'"
      ]
     },
     "execution_count": 3,
     "metadata": {},
     "output_type": "execute_result"
    }
   ],
   "source": [
    "\"\"\"\n",
    "@filename: PythonBasics\n",
    "@author: waisullah yousofi\n",
    "\"\"\""
   ]
  },
  {
   "cell_type": "code",
   "execution_count": 61,
   "metadata": {},
   "outputs": [
    {
     "name": "stdout",
     "output_type": "stream",
     "text": [
      "Hello World!!!\n"
     ]
    }
   ],
   "source": [
    "print(\"Hello World!!!\")"
   ]
  },
  {
   "cell_type": "markdown",
   "metadata": {},
   "source": [
    "input"
   ]
  },
  {
   "cell_type": "code",
   "execution_count": 62,
   "metadata": {},
   "outputs": [
    {
     "name": "stdout",
     "output_type": "stream",
     "text": [
      "Enter your name: \n",
      "Hello \n"
     ]
    }
   ],
   "source": [
    "name = input(\"Enter your name: \")\n",
    "print(\"Hello \" + name)"
   ]
  },
  {
   "cell_type": "markdown",
   "metadata": {},
   "source": [
    "integer"
   ]
  },
  {
   "cell_type": "code",
   "execution_count": 63,
   "metadata": {},
   "outputs": [
    {
     "name": "stdout",
     "output_type": "stream",
     "text": [
      "3\n",
      "<class 'int'>\n"
     ]
    }
   ],
   "source": [
    "quantity = 3\n",
    "print(quantity)\n",
    "print(type(quantity))"
   ]
  },
  {
   "cell_type": "markdown",
   "metadata": {},
   "source": [
    "float"
   ]
  },
  {
   "cell_type": "code",
   "execution_count": 64,
   "metadata": {},
   "outputs": [
    {
     "name": "stdout",
     "output_type": "stream",
     "text": [
      "2.5\n",
      "<class 'float'>\n"
     ]
    }
   ],
   "source": [
    "price = 2.5\n",
    "print(price)\n",
    "print(type(price))"
   ]
  },
  {
   "cell_type": "markdown",
   "metadata": {},
   "source": [
    "float"
   ]
  },
  {
   "cell_type": "code",
   "execution_count": 65,
   "metadata": {},
   "outputs": [
    {
     "name": "stdout",
     "output_type": "stream",
     "text": [
      "3.0\n",
      "<class 'float'>\n"
     ]
    }
   ],
   "source": [
    "price = 3.0\n",
    "print(price)\n",
    "print(type(price))"
   ]
  },
  {
   "cell_type": "markdown",
   "metadata": {},
   "source": [
    "oolean"
   ]
  },
  {
   "cell_type": "code",
   "execution_count": 66,
   "metadata": {},
   "outputs": [
    {
     "name": "stdout",
     "output_type": "stream",
     "text": [
      "True\n",
      "<class 'bool'>\n"
     ]
    }
   ],
   "source": [
    "status=True\n",
    "print(status)\n",
    "print(type(status))"
   ]
  },
  {
   "cell_type": "markdown",
   "metadata": {},
   "source": [
    "string"
   ]
  },
  {
   "cell_type": "code",
   "execution_count": 67,
   "metadata": {},
   "outputs": [
    {
     "name": "stdout",
     "output_type": "stream",
     "text": [
      "Hello World!!!\n",
      "<class 'str'>\n"
     ]
    }
   ],
   "source": [
    "message=\"Hello World!!!\"\n",
    "print(message)\n",
    "print(type(message))"
   ]
  },
  {
   "cell_type": "markdown",
   "metadata": {},
   "source": [
    "string"
   ]
  },
  {
   "cell_type": "code",
   "execution_count": 68,
   "metadata": {},
   "outputs": [
    {
     "name": "stdout",
     "output_type": "stream",
     "text": [
      "Hello World!!!\n",
      "<class 'str'>\n"
     ]
    }
   ],
   "source": [
    "message='Hello World!!!'\n",
    "print(message)\n",
    "print(type(message))"
   ]
  },
  {
   "cell_type": "markdown",
   "metadata": {},
   "source": [
    "#<br>\n",
    "operators<br>\n",
    "#<br>"
   ]
  },
  {
   "cell_type": "markdown",
   "metadata": {},
   "source": [
    "maths operations"
   ]
  },
  {
   "cell_type": "code",
   "execution_count": 69,
   "metadata": {},
   "outputs": [
    {
     "name": "stdout",
     "output_type": "stream",
     "text": [
      "30\n",
      "-10\n",
      "200\n",
      "0.5\n",
      "10240000000000\n",
      "400\n",
      "0\n"
     ]
    }
   ],
   "source": [
    "x = 10\n",
    "y = 20\n",
    "z = x + y\n",
    "print(z)\n",
    "z = x - y\n",
    "print(z)\n",
    "z = x * y\n",
    "print(z)\n",
    "z = x / y\n",
    "print(z)\n",
    "z = y ** x\n",
    "print(z)\n",
    "z = y ** 2\n",
    "print(z)\n",
    "z = y % x\n",
    "print(z)"
   ]
  },
  {
   "cell_type": "code",
   "execution_count": 70,
   "metadata": {},
   "outputs": [
    {
     "name": "stdout",
     "output_type": "stream",
     "text": [
      "200\n",
      "<class 'int'>\n"
     ]
    }
   ],
   "source": [
    "z = y * x\n",
    "print(z)\n",
    "print(type(z))"
   ]
  },
  {
   "cell_type": "code",
   "execution_count": 71,
   "metadata": {},
   "outputs": [
    {
     "name": "stdout",
     "output_type": "stream",
     "text": [
      "2.0\n",
      "<class 'float'>\n"
     ]
    }
   ],
   "source": [
    "z = y / x\n",
    "print(z)\n",
    "print(type(z))"
   ]
  },
  {
   "cell_type": "code",
   "execution_count": 72,
   "metadata": {},
   "outputs": [
    {
     "name": "stdout",
     "output_type": "stream",
     "text": [
      "0.0\n",
      "<class 'float'>\n"
     ]
    }
   ],
   "source": [
    "x = 10\n",
    "y = 20.0\n",
    "z = y % x\n",
    "print(z)\n",
    "print(type(z))"
   ]
  },
  {
   "cell_type": "markdown",
   "metadata": {},
   "source": [
    "auto casting"
   ]
  },
  {
   "cell_type": "code",
   "execution_count": 73,
   "metadata": {},
   "outputs": [
    {
     "name": "stdout",
     "output_type": "stream",
     "text": [
      "2.9\n",
      "<class 'float'>\n",
      "3\n",
      "<class 'int'>\n",
      "8.7\n",
      "<class 'float'>\n"
     ]
    }
   ],
   "source": [
    "quantity = 3\n",
    "price = 2.9\n",
    "print(price)\n",
    "print(type(price))\n",
    "print(quantity)\n",
    "print(type(quantity))\n",
    "amount = price * quantity\n",
    "print(amount)\n",
    "print(type(amount))"
   ]
  },
  {
   "cell_type": "markdown",
   "metadata": {},
   "source": [
    "explicit conversion - int"
   ]
  },
  {
   "cell_type": "code",
   "execution_count": 74,
   "metadata": {},
   "outputs": [
    {
     "name": "stdout",
     "output_type": "stream",
     "text": [
      "-2.1\n",
      "<class 'float'>\n",
      "-2\n",
      "<class 'int'>\n"
     ]
    }
   ],
   "source": [
    "x = -2.1\n",
    "print(x)\n",
    "print(type(x))\n",
    "x = int(x)\n",
    "print(x)\n",
    "print(type(x))"
   ]
  },
  {
   "cell_type": "markdown",
   "metadata": {},
   "source": [
    "explicit conversion - int"
   ]
  },
  {
   "cell_type": "code",
   "execution_count": 75,
   "metadata": {},
   "outputs": [
    {
     "name": "stdout",
     "output_type": "stream",
     "text": [
      "-2\n",
      "<class 'int'>\n"
     ]
    }
   ],
   "source": [
    "x = -2.999\n",
    "x = int(x)\n",
    "print(x)\n",
    "print(type(x))"
   ]
  },
  {
   "cell_type": "markdown",
   "metadata": {},
   "source": [
    "explicit conversion - int"
   ]
  },
  {
   "cell_type": "code",
   "execution_count": 76,
   "metadata": {},
   "outputs": [
    {
     "name": "stdout",
     "output_type": "stream",
     "text": [
      "2\n"
     ]
    },
    {
     "data": {
      "text/plain": [
       "int"
      ]
     },
     "execution_count": 76,
     "metadata": {},
     "output_type": "execute_result"
    }
   ],
   "source": [
    "x = 2.6\n",
    "x = int(x)\n",
    "print(x)\n",
    "type(x)"
   ]
  },
  {
   "cell_type": "markdown",
   "metadata": {},
   "source": [
    "explicit conversion - int<br>\n",
    "check the effect of commenting line #price=int(price)"
   ]
  },
  {
   "cell_type": "code",
   "execution_count": 77,
   "metadata": {},
   "outputs": [
    {
     "name": "stdout",
     "output_type": "stream",
     "text": [
      "2\n",
      "<class 'int'>\n",
      "3\n",
      "<class 'int'>\n",
      "6\n",
      "<class 'int'>\n"
     ]
    }
   ],
   "source": [
    "quantity = 3\n",
    "price = 2.9\n",
    "price=int(price)\n",
    "print(price)\n",
    "print(type(price))\n",
    "print(quantity)\n",
    "print(type(quantity))\n",
    "amount = price * quantity\n",
    "amount = int(amount )\n",
    "print(amount)\n",
    "print(type(amount))"
   ]
  },
  {
   "cell_type": "markdown",
   "metadata": {},
   "source": [
    "explicit conversion - float<br>\n",
    "check the effect of commenting line #quantity=float(quantity)"
   ]
  },
  {
   "cell_type": "code",
   "execution_count": 78,
   "metadata": {},
   "outputs": [
    {
     "name": "stdout",
     "output_type": "stream",
     "text": [
      "2.9\n",
      "<class 'float'>\n",
      "3.0\n",
      "<class 'float'>\n",
      "8.7\n",
      "<class 'float'>\n"
     ]
    }
   ],
   "source": [
    "quantity = 3\n",
    "price = 2.9\n",
    "print(price)\n",
    "print(type(price))\n",
    "quantity=float(quantity)\n",
    "print(quantity)\n",
    "print(type(quantity))\n",
    "amount = price * quantity\n",
    "print(amount)\n",
    "print(type(amount))"
   ]
  },
  {
   "cell_type": "markdown",
   "metadata": {},
   "source": [
    "auto casting does not happen with string & numeric vars"
   ]
  },
  {
   "cell_type": "code",
   "execution_count": 79,
   "metadata": {},
   "outputs": [
    {
     "name": "stdout",
     "output_type": "stream",
     "text": [
      "Book\n",
      "<class 'str'>\n",
      "Book 2.9\n",
      "Book 2.9\n"
     ]
    }
   ],
   "source": [
    "item = \"Book\" \n",
    "print(item)\n",
    "print(type(item))\n",
    "label = item + \" \" + str(price)\n",
    "print(label)\n",
    "type(label)\n",
    "print(item + \" \" + str(price))"
   ]
  },
  {
   "cell_type": "markdown",
   "metadata": {},
   "source": [
    "auto casting happens with int & logical vars"
   ]
  },
  {
   "cell_type": "code",
   "execution_count": 80,
   "metadata": {},
   "outputs": [
    {
     "name": "stdout",
     "output_type": "stream",
     "text": [
      "3.0\n",
      "<class 'float'>\n",
      "3\n",
      "<class 'int'>\n"
     ]
    }
   ],
   "source": [
    "quantity = 3.0\n",
    "print(quantity)\n",
    "print(type(quantity))\n",
    "quantity=int(quantity)\n",
    "result = quantity * True \n",
    "print(result)\n",
    "print(type(result))"
   ]
  },
  {
   "cell_type": "markdown",
   "metadata": {},
   "source": [
    "auto casting happens with int & logical vars"
   ]
  },
  {
   "cell_type": "code",
   "execution_count": 81,
   "metadata": {},
   "outputs": [
    {
     "name": "stdout",
     "output_type": "stream",
     "text": [
      "3\n",
      "<class 'int'>\n",
      "4\n",
      "<class 'int'>\n"
     ]
    }
   ],
   "source": [
    "print(quantity)\n",
    "print(type(quantity))\n",
    "quantity=int(quantity)\n",
    "result = quantity + True \n",
    "print(result)\n",
    "print(type(result))"
   ]
  },
  {
   "cell_type": "markdown",
   "metadata": {},
   "source": [
    "auto casting happens with str & logical vars"
   ]
  },
  {
   "cell_type": "code",
   "execution_count": 82,
   "metadata": {},
   "outputs": [
    {
     "name": "stdout",
     "output_type": "stream",
     "text": [
      "3\n",
      "<class 'int'>\n",
      "Book False\n",
      "<class 'str'>\n",
      "3\n",
      "<class 'int'>\n",
      "0\n",
      "<class 'int'>\n"
     ]
    }
   ],
   "source": [
    "print(quantity)\n",
    "print(type(quantity))\n",
    "quantity=int(quantity)\n",
    "result = item + \" \" + str(False) \n",
    "print(result)\n",
    "print(type(result))\n",
    " \n",
    "# auto casting happens with int & logical vars\n",
    "print(quantity)\n",
    "print(type(quantity))\n",
    "quantity=int(quantity)\n",
    "result = quantity * False \n",
    "print(result)\n",
    "print(type(result))"
   ]
  },
  {
   "cell_type": "markdown",
   "metadata": {},
   "source": [
    "int from string"
   ]
  },
  {
   "cell_type": "code",
   "execution_count": 83,
   "metadata": {},
   "outputs": [
    {
     "name": "stdout",
     "output_type": "stream",
     "text": [
      "123\n",
      "<class 'str'>\n",
      "123\n",
      "<class 'int'>\n",
      "123.0\n",
      "<class 'float'>\n"
     ]
    }
   ],
   "source": [
    "x = \"123\"\n",
    "print(x)\n",
    "print(type(x))\n",
    "x = int(x)\n",
    "print(x)\n",
    "print(type(x))\n",
    "x = float(x)\n",
    "print(x)\n",
    "print(type(x))"
   ]
  },
  {
   "cell_type": "markdown",
   "metadata": {},
   "source": [
    "number from string"
   ]
  },
  {
   "cell_type": "code",
   "execution_count": 84,
   "metadata": {},
   "outputs": [
    {
     "name": "stdout",
     "output_type": "stream",
     "text": [
      "123.8\n",
      "<class 'str'>\n",
      "123.8\n",
      "<class 'float'>\n"
     ]
    }
   ],
   "source": [
    "x = \"123.8\"\n",
    "print(x)\n",
    "print(type(x))\n",
    "#x = int(x)\n",
    "#print(x)\n",
    "#print(type(x))\n",
    "x = float(x)\n",
    "print(x)\n",
    "print(type(x))"
   ]
  },
  {
   "cell_type": "markdown",
   "metadata": {},
   "source": [
    "number from string"
   ]
  },
  {
   "cell_type": "code",
   "execution_count": 85,
   "metadata": {},
   "outputs": [
    {
     "name": "stdout",
     "output_type": "stream",
     "text": [
      "12.3\n",
      "<class 'str'>\n",
      "12.3\n",
      "<class 'float'>\n"
     ]
    }
   ],
   "source": [
    "x = \"12.3\"\n",
    "print(x)\n",
    "print(type(x))\n",
    "# to int\n",
    "#x = int(x)\n",
    "#print(x)\n",
    "#print(type(x))\n",
    "# to float\n",
    "x = float(x)\n",
    "print(x)\n",
    "print(type(x))"
   ]
  },
  {
   "cell_type": "markdown",
   "metadata": {},
   "source": [
    "number from string"
   ]
  },
  {
   "cell_type": "code",
   "execution_count": 91,
   "metadata": {},
   "outputs": [
    {
     "name": "stdout",
     "output_type": "stream",
     "text": [
      "12x3\n",
      "<class 'str'>\n"
     ]
    },
    {
     "ename": "ValueError",
     "evalue": "invalid literal for int() with base 10: '12x3'",
     "output_type": "error",
     "traceback": [
      "\u001b[1;31m---------------------------------------------------------------------------\u001b[0m",
      "\u001b[1;31mValueError\u001b[0m                                Traceback (most recent call last)",
      "\u001b[1;32m<ipython-input-91-31ed22a66975>\u001b[0m in \u001b[0;36m<module>\u001b[1;34m\u001b[0m\n\u001b[0;32m      3\u001b[0m \u001b[0mprint\u001b[0m\u001b[1;33m(\u001b[0m\u001b[0mtype\u001b[0m\u001b[1;33m(\u001b[0m\u001b[0mx\u001b[0m\u001b[1;33m)\u001b[0m\u001b[1;33m)\u001b[0m\u001b[1;33m\u001b[0m\u001b[1;33m\u001b[0m\u001b[0m\n\u001b[0;32m      4\u001b[0m \u001b[1;31m# to int\u001b[0m\u001b[1;33m\u001b[0m\u001b[1;33m\u001b[0m\u001b[1;33m\u001b[0m\u001b[0m\n\u001b[1;32m----> 5\u001b[1;33m \u001b[0mx\u001b[0m \u001b[1;33m=\u001b[0m \u001b[0mint\u001b[0m\u001b[1;33m(\u001b[0m\u001b[0mx\u001b[0m\u001b[1;33m)\u001b[0m\u001b[1;33m\u001b[0m\u001b[1;33m\u001b[0m\u001b[0m\n\u001b[0m\u001b[0;32m      6\u001b[0m \u001b[0mprint\u001b[0m\u001b[1;33m(\u001b[0m\u001b[0mx\u001b[0m\u001b[1;33m)\u001b[0m\u001b[1;33m\u001b[0m\u001b[1;33m\u001b[0m\u001b[0m\n\u001b[0;32m      7\u001b[0m \u001b[0mprint\u001b[0m\u001b[1;33m(\u001b[0m\u001b[0mtype\u001b[0m\u001b[1;33m(\u001b[0m\u001b[0mx\u001b[0m\u001b[1;33m)\u001b[0m\u001b[1;33m)\u001b[0m\u001b[1;33m\u001b[0m\u001b[1;33m\u001b[0m\u001b[0m\n",
      "\u001b[1;31mValueError\u001b[0m: invalid literal for int() with base 10: '12x3'"
     ]
    }
   ],
   "source": [
    "x = \"12x3\"\n",
    "print(x)\n",
    "print(type(x))\n",
    "# to int\n",
    "x = int(x)\n",
    "print(x)\n",
    "print(type(x))\n",
    "# to float\n",
    "x = float(x)\n",
    "print(x)\n",
    "print(type(x))"
   ]
  },
  {
   "cell_type": "markdown",
   "metadata": {},
   "source": [
    "number from string"
   ]
  },
  {
   "cell_type": "code",
   "execution_count": 99,
   "metadata": {},
   "outputs": [
    {
     "name": "stdout",
     "output_type": "stream",
     "text": [
      "-122\n",
      "<class 'int'>\n",
      "True\n",
      "<class 'bool'>\n"
     ]
    }
   ],
   "source": [
    "x = -122\n",
    "print(x)\n",
    "print(type(x))\n",
    "# to int\n",
    "x = bool(x)\n",
    "print(x)\n",
    "print(type(x))"
   ]
  },
  {
   "cell_type": "markdown",
   "metadata": {},
   "source": [
    "number from string"
   ]
  },
  {
   "cell_type": "code",
   "execution_count": 100,
   "metadata": {},
   "outputs": [
    {
     "name": "stdout",
     "output_type": "stream",
     "text": [
      "0.2\n",
      "<class 'float'>\n",
      "True\n",
      "<class 'bool'>\n"
     ]
    }
   ],
   "source": [
    "x = 0.2\n",
    "print(x)\n",
    "print(type(x))\n",
    "# to int\n",
    "x = bool(x)\n",
    "print(x)\n",
    "print(type(x))"
   ]
  },
  {
   "cell_type": "markdown",
   "metadata": {},
   "source": [
    "if statement"
   ]
  },
  {
   "cell_type": "code",
   "execution_count": 101,
   "metadata": {},
   "outputs": [
    {
     "name": "stdout",
     "output_type": "stream",
     "text": [
      "ooo\n",
      "xxx\n",
      "NOTA\n"
     ]
    }
   ],
   "source": [
    "x = 10 \n",
    "if x == 10: \n",
    " print(\"ooo\")\n",
    " print(\"xxx\")\n",
    "else:\n",
    "    print(\"xxx\")\n",
    "print('NOTA')"
   ]
  },
  {
   "cell_type": "markdown",
   "metadata": {},
   "source": [
    "if statement"
   ]
  },
  {
   "cell_type": "code",
   "execution_count": 102,
   "metadata": {},
   "outputs": [
    {
     "name": "stdout",
     "output_type": "stream",
     "text": [
      "Not equal 6\n",
      "ooo\n",
      "ha ha\n"
     ]
    }
   ],
   "source": [
    "x = 10\n",
    "if x == 5:\n",
    "    print(\"Equals 5\")\n",
    "elif x < 4:\n",
    "\tprint('Less than 4')\n",
    "elif x < 5:\n",
    "\tprint('Less than 5')\n",
    "elif x < 6: \n",
    "\tprint('Less than 6')\n",
    "elif x <= 5:\n",
    "    print('Less than or Equals 5')\n",
    "elif x != 6:\n",
    "    print('Not equal 6')\n",
    "if x == 10: \n",
    "    print(\"ooo\")\n",
    "else:\n",
    "  print('NOTA')\n",
    "print(\"ha ha\") "
   ]
  },
  {
   "cell_type": "markdown",
   "metadata": {},
   "source": [
    "if statement"
   ]
  },
  {
   "cell_type": "code",
   "execution_count": 103,
   "metadata": {},
   "outputs": [
    {
     "name": "stdout",
     "output_type": "stream",
     "text": [
      "Less than Or Equals 6\n",
      "ha ha\n"
     ]
    }
   ],
   "source": [
    "x = 1\n",
    "if x == 5:\n",
    "  print(\"Equals 5\")\n",
    "elif x < 5:\n",
    "\tprint('Less than Or Equals 6')\n",
    "elif x > 5:\n",
    "\tprint('More than Or Equals 5')\n",
    "else:\n",
    "  print('NOTA')\n",
    "print(\"ha ha\") "
   ]
  },
  {
   "cell_type": "markdown",
   "metadata": {},
   "source": [
    "another if"
   ]
  },
  {
   "cell_type": "code",
   "execution_count": 104,
   "metadata": {},
   "outputs": [
    {
     "name": "stdout",
     "output_type": "stream",
     "text": [
      "Before 5\n",
      "Is 5\t\t \n",
      "Is Still 5\n",
      "Third 5   \n",
      "After 5   \n",
      "Before 6  \n",
      "End \n",
      "End \n"
     ]
    }
   ],
   "source": [
    "print('Before 5')\n",
    "x = 5\n",
    "if x == 5:\n",
    " print('Is 5\t\t ')\n",
    " print('Is Still 5')\n",
    " print('Third 5   ')\n",
    " print('After 5   ') \n",
    " print('Before 6  ')\n",
    "print(\"End \") \n",
    "if x == 6:\n",
    "    print('Is 6      ')\n",
    "    print('Is Still 6')\n",
    "    print('Third 6   ')\n",
    "    print('After 6')\n",
    "print(\"End \") "
   ]
  },
  {
   "cell_type": "markdown",
   "metadata": {},
   "source": [
    "one more if"
   ]
  },
  {
   "cell_type": "code",
   "execution_count": 105,
   "metadata": {},
   "outputs": [
    {
     "name": "stdout",
     "output_type": "stream",
     "text": [
      "Please enter an integer: 1\n",
      "Single\n"
     ]
    }
   ],
   "source": [
    "x = int(input(\"Please enter an integer: \"))\n",
    "if x == 0:\n",
    "   print('Zero')\n",
    "elif x == 1:\n",
    "   print('Single')\n",
    "else:\n",
    "    if x > 1:\n",
    "        print('Positive')\n",
    "    else:    \n",
    "        print('Negative')"
   ]
  },
  {
   "cell_type": "markdown",
   "metadata": {},
   "source": [
    "#<br>\n",
    "for<br>\n",
    "#<br>|"
   ]
  },
  {
   "cell_type": "markdown",
   "metadata": {},
   "source": [
    "prints out the numbers 0,1,2,3,4"
   ]
  },
  {
   "cell_type": "code",
   "execution_count": 106,
   "metadata": {},
   "outputs": [
    {
     "name": "stdout",
     "output_type": "stream",
     "text": [
      "0\n",
      "1\n",
      "2\n",
      "3\n",
      "4\n",
      "3\n",
      "4\n",
      "5\n"
     ]
    }
   ],
   "source": [
    "for x in range(0,5):\n",
    "    print(x)\n",
    "    \n",
    "# prints out 3,4,5\n",
    "for x in range(3, 6):\n",
    "    print(x)"
   ]
  },
  {
   "cell_type": "markdown",
   "metadata": {},
   "source": [
    "prints out 3,5,7"
   ]
  },
  {
   "cell_type": "code",
   "execution_count": 107,
   "metadata": {},
   "outputs": [
    {
     "name": "stdout",
     "output_type": "stream",
     "text": [
      "3\n",
      "5\n",
      "7\n",
      "0\n",
      "5\n",
      "1\n",
      "5\n",
      "2\n",
      "5\n",
      "3\n",
      "5\n",
      "4\n",
      "5\n",
      "5\n",
      "5\n",
      "6\n",
      "5\n",
      "7\n",
      "5\n",
      "8\n",
      "5\n",
      "9\n",
      "5\n"
     ]
    }
   ],
   "source": [
    "for x in range(3, 8, 2):\n",
    "    print(x)\n",
    "    \n",
    "# for loop ... strange!!!\n",
    "for i in range(10):\n",
    "    print(i)\n",
    "    i = 5  \n",
    "    print(i)"
   ]
  },
  {
   "cell_type": "code",
   "execution_count": 109,
   "metadata": {},
   "outputs": [
    {
     "name": "stdout",
     "output_type": "stream",
     "text": [
      "10\n",
      "9\n",
      "8\n",
      "7\n",
      "6\n",
      "5\n",
      "4\n",
      "3\n",
      "2\n",
      "1\n"
     ]
    }
   ],
   "source": [
    "for x in range(10, 0, -1):\n",
    "    print(x)"
   ]
  },
  {
   "cell_type": "markdown",
   "metadata": {},
   "source": [
    "prints out the numbers 0,1,2,3,,5,6,7,8,9, Loop Comp"
   ]
  },
  {
   "cell_type": "code",
   "execution_count": null,
   "metadata": {},
   "outputs": [],
   "source": [
    "for x in range(0,10):\n",
    "    print(x)\n",
    "else:    \n",
    "    print(\"Loop Completed\")\n",
    "    "
   ]
  },
  {
   "cell_type": "markdown",
   "metadata": {},
   "source": [
    "while loop"
   ]
  },
  {
   "cell_type": "code",
   "execution_count": 110,
   "metadata": {},
   "outputs": [
    {
     "name": "stdout",
     "output_type": "stream",
     "text": [
      "0\n",
      "1\n",
      "2\n",
      "3\n",
      "4\n"
     ]
    }
   ],
   "source": [
    "count = 0\n",
    "while count < 5:\n",
    "    print(count)\n",
    "    count += 1  # This is the same as count = count + 1"
   ]
  },
  {
   "cell_type": "markdown",
   "metadata": {},
   "source": [
    "while loop"
   ]
  },
  {
   "cell_type": "code",
   "execution_count": 115,
   "metadata": {},
   "outputs": [
    {
     "name": "stdout",
     "output_type": "stream",
     "text": [
      "0\n",
      "1\n",
      "2\n",
      "3\n",
      "4\n",
      "5\n",
      "6\n",
      "7\n",
      "8\n",
      "9\n",
      "10\n"
     ]
    }
   ],
   "source": [
    "count = 0\n",
    "while count < 10:\n",
    "    print(count)\n",
    "    count += 1  # This is the same as count = count + 1\n",
    "print(count)"
   ]
  }
 ],
 "metadata": {
  "kernelspec": {
   "display_name": "Python 3",
   "language": "python",
   "name": "python3"
  },
  "language_info": {
   "codemirror_mode": {
    "name": "ipython",
    "version": 3
   },
   "file_extension": ".py",
   "mimetype": "text/x-python",
   "name": "python",
   "nbconvert_exporter": "python",
   "pygments_lexer": "ipython3",
   "version": "3.8.5"
  }
 },
 "nbformat": 4,
 "nbformat_minor": 2
}
