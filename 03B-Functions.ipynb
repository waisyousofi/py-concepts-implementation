{
 "cells": [
  {
   "cell_type": "code",
   "execution_count": 1,
   "metadata": {},
   "outputs": [
    {
     "data": {
      "text/plain": [
       "'\\n@filename: Functions\\n@author: Waisullah yousofi\\n'"
      ]
     },
     "execution_count": 1,
     "metadata": {},
     "output_type": "execute_result"
    }
   ],
   "source": [
    "\"\"\"\n",
    "@filename: Functions\n",
    "@author: Waisullah yousofi\n",
    "\"\"\""
   ]
  },
  {
   "cell_type": "markdown",
   "metadata": {},
   "source": [
    "=============================================================================<br>\n",
    "Defining a Function<br>\n",
    "You can define functions to provide the required functionality. <br>\n",
    "Here are simple rules to define a function in Python.<br>\n",
    "<br>\n",
    "Function blocks begin with the keyword def followed by the function name and <br>\n",
    "parentheses ( ( ) ).<br>\n",
    "Any input parameters or arguments should be placed within these parentheses. <br>\n",
    "You can also define parameters inside these parentheses.<br>\n",
    "The first statement of a function can be an optional statement \"docstring\".<br>\n",
    "The code block within every function starts with a colon (:) and is indented.<br>\n",
    "The statement return [expression] exits a function, optionally passing back<br>\n",
    "an expression to the caller. A return statement with no arguments is the <br>\n",
    "same as return None.<br>\n",
    "<br>\n",
    "Syntax<br>\n",
    "def functionname( parameters ):<br>\n",
    "   \"function_docstring\"<br>\n",
    "   function_suite<br>\n",
    "   return [expression]                                                                                <br>\n",
    "=============================================================================<br>\n",
    "define printThis "
   ]
  },
  {
   "cell_type": "code",
   "execution_count": 2,
   "metadata": {},
   "outputs": [],
   "source": [
    "def printThis(strTest):\n",
    "   \"This prints a passed string into this function\"\n",
    "   print(type(strTest))\n",
    "   print(strTest)\n",
    "   return"
   ]
  },
  {
   "cell_type": "markdown",
   "metadata": {},
   "source": [
    "=============================================================================<br>\n",
    "Calling a Function<br>\n",
    "You can execute it by calling it from another function or <br>\n",
    "directly from the Python prompt. <br>\n",
    "Following is the example to call printThis() function âˆ’<br>\n",
    "=============================================================================<br>\n",
    "call printThis "
   ]
  },
  {
   "cell_type": "code",
   "execution_count": 3,
   "metadata": {},
   "outputs": [
    {
     "name": "stdout",
     "output_type": "stream",
     "text": [
      "<class 'str'>\n",
      "Test1\n",
      "<class 'str'>\n",
      "This prints a passed string into this function\n"
     ]
    }
   ],
   "source": [
    "printThis(\"Test1\")\n",
    "printThis(\"This prints a passed string into this function\")"
   ]
  },
  {
   "cell_type": "code",
   "execution_count": 4,
   "metadata": {},
   "outputs": [
    {
     "name": "stdout",
     "output_type": "stream",
     "text": [
      "<class 'int'>\n",
      "10\n",
      "<class 'float'>\n",
      "100.09\n",
      "<class 'bool'>\n",
      "True\n"
     ]
    }
   ],
   "source": [
    "printThis(10)\n",
    "printThis(100.09)\n",
    "printThis(True)"
   ]
  },
  {
   "cell_type": "code",
   "execution_count": 5,
   "metadata": {},
   "outputs": [
    {
     "name": "stdout",
     "output_type": "stream",
     "text": [
      "<class 'str'>\n",
      "\n"
     ]
    }
   ],
   "source": [
    "printThis(\"\")"
   ]
  },
  {
   "cell_type": "code",
   "execution_count": 6,
   "metadata": {},
   "outputs": [
    {
     "ename": "TypeError",
     "evalue": "printThis() missing 1 required positional argument: 'strTest'",
     "output_type": "error",
     "traceback": [
      "\u001b[1;31m---------------------------------------------------------------------------\u001b[0m",
      "\u001b[1;31mTypeError\u001b[0m                                 Traceback (most recent call last)",
      "\u001b[1;32m<ipython-input-6-de480103d853>\u001b[0m in \u001b[0;36m<module>\u001b[1;34m\u001b[0m\n\u001b[1;32m----> 1\u001b[1;33m \u001b[0mprintThis\u001b[0m\u001b[1;33m(\u001b[0m\u001b[1;33m)\u001b[0m\u001b[1;33m\u001b[0m\u001b[1;33m\u001b[0m\u001b[0m\n\u001b[0m",
      "\u001b[1;31mTypeError\u001b[0m: printThis() missing 1 required positional argument: 'strTest'"
     ]
    }
   ],
   "source": [
    "printThis()"
   ]
  },
  {
   "cell_type": "markdown",
   "metadata": {},
   "source": [
    "=============================================================================<br>\n",
    "Function Arguments<br>\n",
    "You can call a function by using the following types of formal arguments:<br>\n",
    "- Required arguments<br>\n",
    "- Keyword arguments<br>\n",
    "- Default arguments<br>\n",
    "- Variable-length arguments<br>\n",
    "============================================================================="
   ]
  },
  {
   "cell_type": "markdown",
   "metadata": {},
   "source": [
    "=============================================================================<br>\n",
    "Required Arguments<br>\n",
    "Required arguments are the arguments passed to a function in correct <br>\n",
    "positional order. Here, the number of arguments in the function call should <br>\n",
    "match exactly with the function definition.<br>\n",
    "<br>\n",
    "To call the function printme(), you definitely need to pass one argument, <br>\n",
    "otherwise it gives a syntax error as follows âˆ’<br>\n",
    "=============================================================================<br>\n",
    "define printThis "
   ]
  },
  {
   "cell_type": "code",
   "execution_count": 12,
   "metadata": {},
   "outputs": [
    {
     "name": "stdout",
     "output_type": "stream",
     "text": [
      "Hello World!\n",
      "\n"
     ]
    }
   ],
   "source": [
    "def printThis(strTest):\n",
    "   \"This prints a passed string into this function\"\n",
    "   print(strTest)\n",
    "   return\n",
    "# call printThis with no params\n",
    "printThis('Hello World!')\n",
    "printThis('')"
   ]
  },
  {
   "cell_type": "code",
   "execution_count": 13,
   "metadata": {},
   "outputs": [
    {
     "ename": "TypeError",
     "evalue": "printThis() takes 1 positional argument but 2 were given",
     "output_type": "error",
     "traceback": [
      "\u001b[1;31m---------------------------------------------------------------------------\u001b[0m",
      "\u001b[1;31mTypeError\u001b[0m                                 Traceback (most recent call last)",
      "\u001b[1;32m<ipython-input-13-16b072df4d5b>\u001b[0m in \u001b[0;36m<module>\u001b[1;34m\u001b[0m\n\u001b[0;32m      1\u001b[0m \u001b[1;31m#it will generate error\u001b[0m\u001b[1;33m\u001b[0m\u001b[1;33m\u001b[0m\u001b[1;33m\u001b[0m\u001b[0m\n\u001b[0;32m      2\u001b[0m \u001b[1;33m\u001b[0m\u001b[0m\n\u001b[1;32m----> 3\u001b[1;33m \u001b[0mprintThis\u001b[0m\u001b[1;33m(\u001b[0m\u001b[1;34m'Hello World!'\u001b[0m\u001b[1;33m,\u001b[0m\u001b[1;36m123\u001b[0m\u001b[1;33m)\u001b[0m\u001b[1;33m\u001b[0m\u001b[1;33m\u001b[0m\u001b[0m\n\u001b[0m\u001b[0;32m      4\u001b[0m \u001b[0mprintThis\u001b[0m\u001b[1;33m(\u001b[0m\u001b[1;33m)\u001b[0m\u001b[1;33m\u001b[0m\u001b[1;33m\u001b[0m\u001b[0m\n",
      "\u001b[1;31mTypeError\u001b[0m: printThis() takes 1 positional argument but 2 were given"
     ]
    }
   ],
   "source": [
    "#it will generate error\n",
    "\n",
    "printThis('Hello World!',123)\n",
    "printThis() \n"
   ]
  },
  {
   "cell_type": "markdown",
   "metadata": {},
   "source": [
    "=============================================================================<br>\n",
    "Keyword Arguments<br>\n",
    "Keyword arguments are related to the function calls. When you use keyword <br>\n",
    "arguments in a function call, the caller identifies the arguments by the <br>\n",
    "parameter name.<br>\n",
    "This allows you to skip arguments or place them out of order because the <br>\n",
    "Python interpreter is able to use the keywords provided to match the values <br>\n",
    "with parameters. <br>\n",
    "You can also make keyword calls to the printThis() function as below<br>\n",
    "=============================================================================<br>\n",
    "define printThis "
   ]
  },
  {
   "cell_type": "code",
   "execution_count": 15,
   "metadata": {},
   "outputs": [
    {
     "name": "stdout",
     "output_type": "stream",
     "text": [
      "My String\n",
      "My String\n"
     ]
    }
   ],
   "source": [
    "def printThis(strTest):\n",
    "   \"This prints a passed string into this function\"\n",
    "   print(strTest)\n",
    "   return\n",
    "# call printThis with no params\n",
    "printThis(strTest=\"My String\")\n",
    "printThis(strTest=\"My String\")"
   ]
  },
  {
   "cell_type": "markdown",
   "metadata": {},
   "source": [
    "=============================================================================<br>\n",
    "Note that the order of parameters does not matter.<br>\n",
    "=============================================================================<br>\n",
    "define printThis "
   ]
  },
  {
   "cell_type": "code",
   "execution_count": 16,
   "metadata": {},
   "outputs": [
    {
     "name": "stdout",
     "output_type": "stream",
     "text": [
      "Name:  Cyrus\n",
      "Age  55\n",
      "Name:  55\n",
      "Age  Cyrus\n",
      "Name:  Cyrus\n",
      "Age  55\n"
     ]
    }
   ],
   "source": [
    "def printInfo(name, age):\n",
    "   \"This prints a passed info into this function\"\n",
    "   print(\"Name: \", name)\n",
    "   print(\"Age \", age)\n",
    "   return\n",
    "# Now you can call printinfo function\n",
    "printInfo(age=55, name=\"Cyrus\")\n",
    "printInfo(55, \"Cyrus\")\n",
    "printInfo(\"Cyrus\", 55)"
   ]
  },
  {
   "cell_type": "markdown",
   "metadata": {},
   "source": [
    "=============================================================================<br>\n",
    "Default Arguments<br>\n",
    "A default argument is an argument that assumes a default value if a value is <br>\n",
    "not provided in the function call for that argument. <br>\n",
    "=============================================================================<br>\n",
    "define printThis "
   ]
  },
  {
   "cell_type": "code",
   "execution_count": 17,
   "metadata": {},
   "outputs": [
    {
     "ename": "SyntaxError",
     "evalue": "positional argument follows keyword argument (<ipython-input-17-ec8dad2d909b>, line 11)",
     "output_type": "error",
     "traceback": [
      "\u001b[1;36m  File \u001b[1;32m\"<ipython-input-17-ec8dad2d909b>\"\u001b[1;36m, line \u001b[1;32m11\u001b[0m\n\u001b[1;33m    printInfo(name=\"Cyrus\", 50)\u001b[0m\n\u001b[1;37m                            ^\u001b[0m\n\u001b[1;31mSyntaxError\u001b[0m\u001b[1;31m:\u001b[0m positional argument follows keyword argument\n"
     ]
    }
   ],
   "source": [
    "def printInfo(name, age=50):\n",
    "   \"This prints a passed info into this function\"\n",
    "   print(\"Name: \", name)\n",
    "   print(\"Age \", age)\n",
    "   return\n",
    "# Now you can call printinfo function\n",
    "printInfo(name=\"Cyrus\")\n",
    "printInfo(\"Cyrus\", 50)\n",
    "printInfo(name=\"Cyrus\", age=55)\n",
    "printInfo(\"Cyrus\", age=55)\n",
    "printInfo(name=\"Cyrus\", 50)\n",
    "printInfo(name=\"Cyrus\")\n",
    "printInfo(\"Cyrus\")"
   ]
  },
  {
   "cell_type": "markdown",
   "metadata": {},
   "source": [
    "=============================================================================<br>\n",
    "Variable-length arguments<br>\n",
    "You may need to process a function for more arguments than you specified <br>\n",
    "while defining the function. These arguments are called variable-length <br>\n",
    "arguments and are not named in the function definition, unlike required <br>\n",
    "and default arguments.<br>\n",
    "Syntax for a function with non-keyword variable arguments is this âˆ’<br>\n",
    "def functionname([formal_args,] *var_args_tuple):<br>\n",
    "   \"function_docstring\"<br>\n",
    "   function_suite<br>\n",
    "   return [expression]<br>\n",
    "An asterisk (*) is placed before the variable name that holds the values <br>\n",
    "of all nonkeyword variable arguments. This tuple remains empty if no <br>\n",
    "additional arguments are specified during the function call. <br>\n",
    "Following is a simple example âˆ’<br>\n",
    "=============================================================================<br>\n",
    "function definition is here"
   ]
  },
  {
   "cell_type": "code",
   "execution_count": 18,
   "metadata": {},
   "outputs": [
    {
     "name": "stdout",
     "output_type": "stream",
     "text": [
      "Length Of List:\n",
      "1\n",
      "Output Is:\n",
      "10\n",
      "Length Of List:\n",
      "3\n",
      "Output Is:\n",
      "70\n",
      "60\n",
      "50\n",
      "Length Of List:\n",
      "0\n",
      "Output Is:\n"
     ]
    }
   ],
   "source": [
    "def printInfo(*argList):\n",
    "   \"This prints a variable passed arguments\"\n",
    "   print(\"Length Of List:\")\n",
    "   print(len(argList))\n",
    "   print(\"Output Is:\")\n",
    "   for var in argList:\n",
    "      print(var)\n",
    "   return\n",
    "# call printInfo function\n",
    "printInfo(10)\n",
    "printInfo(70, 60, 50)\n",
    "printInfo()"
   ]
  },
  {
   "cell_type": "markdown",
   "metadata": {},
   "source": [
    "function definition is here"
   ]
  },
  {
   "cell_type": "code",
   "execution_count": 19,
   "metadata": {},
   "outputs": [
    {
     "name": "stdout",
     "output_type": "stream",
     "text": [
      "Output Is:\n",
      "10\n",
      "Output Is:\n",
      "70\n",
      "60\n",
      "50\n"
     ]
    }
   ],
   "source": [
    "def printInfo(argFirst, *argList):\n",
    "   \"This prints a variable passed arguments\"\n",
    "   print(\"Output Is:\")\n",
    "   print(argFirst)\n",
    "   for var in argList:\n",
    "      print(var)\n",
    "   return\n",
    "# call printInfo function\n",
    "printInfo(10)\n",
    "printInfo(70, 60, 50)"
   ]
  },
  {
   "cell_type": "markdown",
   "metadata": {},
   "source": [
    "function getMean"
   ]
  },
  {
   "cell_type": "code",
   "execution_count": 20,
   "metadata": {},
   "outputs": [
    {
     "name": "stdout",
     "output_type": "stream",
     "text": [
      "60.0\n",
      "5.0\n",
      "N/A\n",
      "N/A\n"
     ]
    }
   ],
   "source": [
    "def getMean(*argList):\n",
    "    count = 0\n",
    "    total = 0\n",
    "    try:\n",
    "        for var in argList:\n",
    "            total = total + var\n",
    "            count = count + 1\n",
    "        mean = total / count\n",
    "    except:\n",
    "        mean = \"N/A\"        \n",
    "    print(mean)\n",
    "    return\n",
    "getMean(70, 60, 50)\n",
    "getMean(1, 2, 3, 4, 5, 6, 7, 8, 9)\n",
    "getMean()\n",
    "getMean(70, \"60\", 50)\n",
    "    \n",
    "#==============================================================================\n",
    "# The return Statement\n",
    "# The statement return [expression] exits a function, optionally passing back \n",
    "# an expression to the calling statement. A return statement with no arguments \n",
    "# is the same as return None.\n",
    "# all the above examples are not returning any value. You can return a value \n",
    "# from a function as follows âˆ’\n",
    "#==============================================================================\n",
    "# function definition is here\n",
    "def sumThese(arg1, arg2):\n",
    "   # add both the parameters and return them.\"\n",
    "   intTotal = arg1 + arg2\n",
    "   print(\"Inside the function : \", intTotal)\n",
    "   return intTotal"
   ]
  },
  {
   "cell_type": "markdown",
   "metadata": {},
   "source": [
    "Now you can call sum function"
   ]
  },
  {
   "cell_type": "code",
   "execution_count": 21,
   "metadata": {},
   "outputs": [
    {
     "name": "stdout",
     "output_type": "stream",
     "text": [
      "Inside the function :  30.9\n",
      "<class 'float'>\n",
      "Outside the function :  30.9\n",
      "Inside the function :  30.9\n",
      "Outside the function :  30.9\n"
     ]
    }
   ],
   "source": [
    "intSumOfNos = sumThese(10.4, 20.5)\n",
    "print(type(intSumOfNos ))\n",
    "print(\"Outside the function : \", intSumOfNos) \n",
    "print(\"Outside the function : \", sumThese(10.4, 20.5)) "
   ]
  },
  {
   "cell_type": "markdown",
   "metadata": {},
   "source": [
    "=============================================================================<br>\n",
    "The return Statement with multiple values<br>\n",
    "The statement return [expression] can optionally return more than one value<br>\n",
    "============================================================================="
   ]
  },
  {
   "cell_type": "markdown",
   "metadata": {},
   "source": [
    "function swap"
   ]
  },
  {
   "cell_type": "code",
   "execution_count": 22,
   "metadata": {},
   "outputs": [
    {
     "name": "stdout",
     "output_type": "stream",
     "text": [
      "10\n",
      "20\n",
      "\n",
      "20\n",
      "10\n"
     ]
    }
   ],
   "source": [
    "def swap(argx, argy):\n",
    "    return(argy, argx)\n",
    "# use\n",
    "x = 10\n",
    "y = 20\n",
    "print(x)\n",
    "print(y)    \n",
    "x,y = swap(x,y)\n",
    "print(\"\")\n",
    "print(x)\n",
    "print(y)    "
   ]
  },
  {
   "cell_type": "markdown",
   "metadata": {},
   "source": [
    "=============================================================================<br>\n",
    "The Lambda Functions<br>\n",
    "These functions are called lambda / anonymous because they are not declared <br>\n",
    "word to create these functions.<br>\n",
    "Lambda forms can take any number of arguments but return just one value. <br>\n",
    "This cannot contain commands or multiple expressions.<br>\n",
    "lambda function cannot be a direct call to print because lambda requires<br>\n",
    "an expression<br>\n",
    "Lambda functions have their own local namespace and cannot access variables <br>\n",
    "other than those in their parameter list and those in the global namespace.<br>\n",
    "<br>\n",
    "Syntax<br>\n",
    "lambda [arg1 [,arg2,.....argn]]:expression<br>\n",
    "=============================================================================<br>\n",
    "lambda function "
   ]
  },
  {
   "cell_type": "code",
   "execution_count": 23,
   "metadata": {},
   "outputs": [
    {
     "name": "stdout",
     "output_type": "stream",
     "text": [
      "Value of total :  30\n",
      "Value of total :  40\n"
     ]
    }
   ],
   "source": [
    "sumThese = lambda arg1, arg2: arg1 + arg2\n",
    "# Now you can call sum as a function\n",
    "print(\"Value of total : \", sumThese(arg2=10, arg1=20)) \n",
    "print(\"Value of total : \", sumThese(20, 20))"
   ]
  },
  {
   "cell_type": "code",
   "execution_count": 24,
   "metadata": {},
   "outputs": [
    {
     "name": "stdout",
     "output_type": "stream",
     "text": [
      "Value of total :  30\n",
      "Value of total :  40\n"
     ]
    }
   ],
   "source": [
    "def sumThese(arg1, arg2):\n",
    "   intTotal = arg1 + arg2\n",
    "   return intTotal\n",
    "# Now you can call sum as a function\n",
    "print(\"Value of total : \", sumThese(10, 20)) \n",
    "print(\"Value of total : \", sumThese(20, 20))"
   ]
  },
  {
   "cell_type": "markdown",
   "metadata": {},
   "source": [
    "lambda function "
   ]
  },
  {
   "cell_type": "code",
   "execution_count": 25,
   "metadata": {},
   "outputs": [
    {
     "name": "stdout",
     "output_type": "stream",
     "text": [
      "Value of Average :  15.0\n",
      "Value of Average :  20.0\n"
     ]
    }
   ],
   "source": [
    "avgThese = lambda arg1, arg2: (arg1 + arg2)/2\n",
    "# Now you can call sum as a function\n",
    "print(\"Value of Average : \", avgThese(10, 20)) \n",
    "print(\"Value of Average : \", avgThese(20, 20))"
   ]
  },
  {
   "cell_type": "markdown",
   "metadata": {},
   "source": [
    "lambda function "
   ]
  },
  {
   "cell_type": "code",
   "execution_count": 26,
   "metadata": {},
   "outputs": [
    {
     "name": "stdout",
     "output_type": "stream",
     "text": [
      "Value of Average :  5.5\n",
      "Value of Average :  10.5\n"
     ]
    },
    {
     "data": {
      "text/plain": [
       "10.5"
      ]
     },
     "execution_count": 26,
     "metadata": {},
     "output_type": "execute_result"
    }
   ],
   "source": [
    "avgThese = lambda arg1=1, arg2=1: (arg1 + arg2)/2\n",
    "# Now you can call sum as a function\n",
    "print(\"Value of Average : \", avgThese(arg1=10)) \n",
    "print(\"Value of Average : \", avgThese(arg2=20))\n",
    "avgThese(arg1=10)\n",
    "avgThese(arg2=20)"
   ]
  },
  {
   "cell_type": "markdown",
   "metadata": {},
   "source": [
    "=============================================================================<br>\n",
    "Scope of Variables<br>\n",
    "All variables in a program may not be accessible at all locations in that <br>\n",
    "program. This depends on where you have declared a variable.<br>\n",
    "The scope of a variable determines the portion of the program where you can <br>\n",
    "access a particular identifier. <br>\n",
    "There are two basic scopes of variables in Python âˆ’<br>\n",
    "- Global variables<br>\n",
    "- Local variables<br>\n",
    "Global vs. Local variables<br>\n",
    "Variables that are defined inside a function body have a local scope, and <br>\n",
    "those defined outside have a global scope.<br>\n",
    "# This means that local variables can be accessed only inside the function <br>\n",
    "in which they are declared, whereas global variables can be accessed <br>\n",
    "throughout the program body by all functions. <br>\n",
    "When you call a function, the variables declared inside it are brought into <br>\n",
    "scope. <br>\n",
    "============================================================================="
   ]
  },
  {
   "cell_type": "markdown",
   "metadata": {},
   "source": [
    " local variable used inside the function<br>\n",
    "global variable"
   ]
  },
  {
   "cell_type": "code",
   "execution_count": 27,
   "metadata": {},
   "outputs": [
    {
     "ename": "UnboundLocalError",
     "evalue": "local variable 'intTotal' referenced before assignment",
     "output_type": "error",
     "traceback": [
      "\u001b[1;31m---------------------------------------------------------------------------\u001b[0m",
      "\u001b[1;31mUnboundLocalError\u001b[0m                         Traceback (most recent call last)",
      "\u001b[1;32m<ipython-input-27-6acda3508ec5>\u001b[0m in \u001b[0;36m<module>\u001b[1;34m\u001b[0m\n\u001b[0;32m      8\u001b[0m \u001b[1;31m# call sum function\u001b[0m\u001b[1;33m\u001b[0m\u001b[1;33m\u001b[0m\u001b[1;33m\u001b[0m\u001b[0m\n\u001b[0;32m      9\u001b[0m \u001b[1;31m# now you can call sum function\u001b[0m\u001b[1;33m\u001b[0m\u001b[1;33m\u001b[0m\u001b[1;33m\u001b[0m\u001b[0m\n\u001b[1;32m---> 10\u001b[1;33m \u001b[0mretTotal\u001b[0m \u001b[1;33m=\u001b[0m \u001b[0msumThese\u001b[0m\u001b[1;33m(\u001b[0m\u001b[1;36m10\u001b[0m\u001b[1;33m,\u001b[0m\u001b[1;36m20\u001b[0m\u001b[1;33m)\u001b[0m\u001b[1;33m\u001b[0m\u001b[1;33m\u001b[0m\u001b[0m\n\u001b[0m\u001b[0;32m     11\u001b[0m \u001b[0mprint\u001b[0m\u001b[1;33m(\u001b[0m\u001b[1;34m\"retTotal Outside the function global total : \"\u001b[0m\u001b[1;33m,\u001b[0m \u001b[0mretTotal\u001b[0m\u001b[1;33m)\u001b[0m\u001b[1;33m\u001b[0m\u001b[1;33m\u001b[0m\u001b[0m\n\u001b[0;32m     12\u001b[0m \u001b[0mprint\u001b[0m\u001b[1;33m(\u001b[0m\u001b[1;34m\"intTotal Outside the function global total : \"\u001b[0m\u001b[1;33m,\u001b[0m \u001b[0mintTotal\u001b[0m\u001b[1;33m)\u001b[0m\u001b[1;33m\u001b[0m\u001b[1;33m\u001b[0m\u001b[0m\n",
      "\u001b[1;32m<ipython-input-27-6acda3508ec5>\u001b[0m in \u001b[0;36msumThese\u001b[1;34m(arg1, arg2)\u001b[0m\n\u001b[0;32m      3\u001b[0m \u001b[1;32mdef\u001b[0m \u001b[0msumThese\u001b[0m\u001b[1;33m(\u001b[0m\u001b[0marg1\u001b[0m\u001b[1;33m,\u001b[0m \u001b[0marg2\u001b[0m\u001b[1;33m)\u001b[0m\u001b[1;33m:\u001b[0m\u001b[1;33m\u001b[0m\u001b[1;33m\u001b[0m\u001b[0m\n\u001b[0;32m      4\u001b[0m    \u001b[1;31m# add both the parameters and return them.\"\u001b[0m\u001b[1;33m\u001b[0m\u001b[1;33m\u001b[0m\u001b[1;33m\u001b[0m\u001b[0m\n\u001b[1;32m----> 5\u001b[1;33m    \u001b[0mintTotal\u001b[0m \u001b[1;33m=\u001b[0m \u001b[0mintTotal\u001b[0m \u001b[1;33m+\u001b[0m \u001b[0marg1\u001b[0m \u001b[1;33m+\u001b[0m \u001b[0marg2\u001b[0m\u001b[1;33m\u001b[0m\u001b[1;33m\u001b[0m\u001b[0m\n\u001b[0m\u001b[0;32m      6\u001b[0m    \u001b[0mprint\u001b[0m\u001b[1;33m(\u001b[0m\u001b[1;34m\"Inside the function : \"\u001b[0m\u001b[1;33m,\u001b[0m \u001b[0mintTotal\u001b[0m\u001b[1;33m)\u001b[0m\u001b[1;33m\u001b[0m\u001b[1;33m\u001b[0m\u001b[0m\n\u001b[0;32m      7\u001b[0m    \u001b[1;32mreturn\u001b[0m \u001b[0mintTotal\u001b[0m\u001b[1;33m\u001b[0m\u001b[1;33m\u001b[0m\u001b[0m\n",
      "\u001b[1;31mUnboundLocalError\u001b[0m: local variable 'intTotal' referenced before assignment"
     ]
    }
   ],
   "source": [
    "intTotal = 1000\n",
    "# function definition is here\n",
    "def sumThese(arg1, arg2):\n",
    "   # add both the parameters and return them.\"\n",
    "   intTotal = intTotal + arg1 + arg2\n",
    "   print(\"Inside the function : \", intTotal)\n",
    "   return intTotal\n",
    "# call sum function\n",
    "# now you can call sum function\n",
    "retTotal = sumThese(10,20)\n",
    "print(\"retTotal Outside the function global total : \", retTotal)\n",
    "print(\"intTotal Outside the function global total : \", intTotal)"
   ]
  },
  {
   "cell_type": "markdown",
   "metadata": {},
   "source": [
    " local variable used inside the function<br>\n",
    "global variable"
   ]
  },
  {
   "cell_type": "code",
   "execution_count": 28,
   "metadata": {},
   "outputs": [
    {
     "name": "stdout",
     "output_type": "stream",
     "text": [
      "Inside the function :  100\n",
      "retTotal Outside the function global total :  30\n",
      "intTotal Outside the function global total :  0\n"
     ]
    }
   ],
   "source": [
    "intTotal = 0\n",
    "# function definition is here\n",
    "def sumThese(arg1, arg2):\n",
    "   # add both the parameters and return them.\"\n",
    "   funTotal = arg1 + arg2\n",
    "   intTotal = 100\n",
    "   print(\"Inside the function : \", intTotal)\n",
    "   return funTotal\n",
    "# call sum function\n",
    "# Now you can call sum function\n",
    "retTotal = sumThese(10,20)\n",
    "print(\"retTotal Outside the function global total : \", retTotal)\n",
    "print(\"intTotal Outside the function global total : \", intTotal)"
   ]
  },
  {
   "cell_type": "markdown",
   "metadata": {},
   "source": [
    " global variable used inside the function<br>\n",
    "global variable"
   ]
  },
  {
   "cell_type": "code",
   "execution_count": 29,
   "metadata": {},
   "outputs": [
    {
     "name": "stdout",
     "output_type": "stream",
     "text": [
      "Inside the function :  10\n",
      "retTotal Outside the function global total :  10030\n",
      "intTotal Outside the function global total :  10\n"
     ]
    }
   ],
   "source": [
    "intTotal = 10000\n",
    "# function definition is here\n",
    "def sumThese(arg1, arg2):\n",
    "   # use global \n",
    "   global intTotal\n",
    "   # add both the parameters and return them.\"\n",
    "   funTotal = intTotal + arg1 + arg2\n",
    "   intTotal = 10\n",
    "   print(\"Inside the function : \", intTotal)\n",
    "   return funTotal\n",
    "# call sum function\n",
    "# Now you can call sum function\n",
    "retTotal = sumThese(10,20)\n",
    "print(\"retTotal Outside the function global total : \", retTotal)\n",
    "print(\"intTotal Outside the function global total : \", intTotal)"
   ]
  },
  {
   "cell_type": "markdown",
   "metadata": {},
   "source": [
    "=============================================================================<br>\n",
    "Strings are amongst the most popular types in Python. We can create them <br>\n",
    "simply by enclosing characters in quotes. Python treats single quotes the <br>\n",
    "same as double quotes. <br>\n",
    "Creating strings is as simple as assigning a value to a variable. For example âˆ’<br>\n",
    "============================================================================="
   ]
  },
  {
   "cell_type": "code",
   "execution_count": 30,
   "metadata": {},
   "outputs": [
    {
     "name": "stdout",
     "output_type": "stream",
     "text": [
      "Hello World!\n",
      "Python Programming\n"
     ]
    }
   ],
   "source": [
    "var1 = 'Hello World!'\n",
    "var2 = \"Python Programming\"\n",
    "print(var1)\n",
    "print(var2)"
   ]
  },
  {
   "cell_type": "markdown",
   "metadata": {},
   "source": [
    "=============================================================================<br>\n",
    "Accessing Values in Strings<br>\n",
    "Python does not support a character type; these are treated as strings of <br>\n",
    "length one, thus also considered a substring.<br>\n",
    "To access substrings, use the square brackets for slicing along with the <br>\n",
    "index or indices to obtain your substring. <br>\n",
    "============================================================================="
   ]
  },
  {
   "cell_type": "code",
   "execution_count": 31,
   "metadata": {},
   "outputs": [
    {
     "name": "stdout",
     "output_type": "stream",
     "text": [
      "var1[0]:  H\n",
      "var2[1:5]:  ytho\n"
     ]
    }
   ],
   "source": [
    "var1 = 'Hello World!'\n",
    "var2 = \"Python Programming\"\n",
    "print(\"var1[0]: \", var1[0])\n",
    "print(\"var2[1:5]: \", var2[1:5])"
   ]
  },
  {
   "cell_type": "markdown",
   "metadata": {},
   "source": [
    "=============================================================================<br>\n",
    "Updating Strings<br>\n",
    "You can \"update\" an existing string by (re)assigning a variable to another <br>\n",
    "string. The new value can be related to its previous value or to a completely <br>\n",
    "different string altogether. For example âˆ’<br>\n",
    "============================================================================="
   ]
  },
  {
   "cell_type": "code",
   "execution_count": 32,
   "metadata": {},
   "outputs": [
    {
     "name": "stdout",
     "output_type": "stream",
     "text": [
      "Updated String :-  Hello Python\n",
      "Updated String :-  World!Python\n"
     ]
    }
   ],
   "source": [
    "var1 = 'Hello World!'\n",
    "var1 = var1[:6] + 'Python'\n",
    "print(\"Updated String :- \", var1)\n",
    "var1 = 'Hello World!'\n",
    "var1 = var1[6:] + 'Python'\n",
    "print(\"Updated String :- \", var1)"
   ]
  },
  {
   "cell_type": "markdown",
   "metadata": {},
   "source": [
    "=============================================================================<br>\n",
    "Escape Characters<br>\n",
    "Following table is a list of escape or non-printable characters that can be <br>\n",
    "represented with backslash notation.<br>\n",
    "An escape character gets interpreted; in a single quoted as well as double quoted strings.<br>\n",
    "<br>\n",
    "\\e\t0x1b\tEscape<br>\n",
    "\\f\t0x0c\tFormfeed<br>\n",
    "\\n\t0x0a\tNewline<br>\n",
    "\\r\t0x0d\tCarriage return<br>\n",
    "\\t\t0x09\tTab<br>\n",
    "=============================================================================<br>\n",
    "test"
   ]
  },
  {
   "cell_type": "code",
   "execution_count": 33,
   "metadata": {},
   "outputs": [
    {
     "name": "stdout",
     "output_type": "stream",
     "text": [
      "[ \f",
      " ]\n",
      "[ \n",
      " ]\n",
      "[ \r",
      " ]\n",
      "[ \t ]\n"
     ]
    }
   ],
   "source": [
    "print(\"[ \\f ]\")\n",
    "print(\"[ \\n ]\")\n",
    "print(\"[ \\r ]\")\n",
    "print(\"[ \\t ]\")"
   ]
  },
  {
   "cell_type": "markdown",
   "metadata": {},
   "source": [
    "=============================================================================<br>\n",
    "r/R\tRaw String - Suppresses actual meaning of Escape characters. <br>\n",
    "The syntax for raw strings is exactly the same as for normal strings with the <br>\n",
    "exception of the raw string operator, the letter \"r,\" which precedes the <br>\n",
    "quotation marks. The \"r\" can be lowercase (r) or uppercase (R) and must be <br>\n",
    "placed immediately preceding the first quote mark.<br>\n",
    "=============================================================================<br>\n",
    "test"
   ]
  },
  {
   "cell_type": "code",
   "execution_count": 34,
   "metadata": {},
   "outputs": [
    {
     "name": "stdout",
     "output_type": "stream",
     "text": [
      "\\f\n",
      "\\n\n",
      "\\r\n",
      "\\s\n",
      "\\t\n"
     ]
    }
   ],
   "source": [
    "print(r\"\\f\")\n",
    "print(r\"\\n\")\n",
    "print(r\"\\r\")\n",
    "print(r\"\\s\")\n",
    "print(r\"\\t\")"
   ]
  },
  {
   "cell_type": "markdown",
   "metadata": {},
   "source": [
    "=============================================================================<br>\n",
    "String Special Operators<br>\n",
    "Assume string variable a holds 'Hello' and variable b holds 'Python', then âˆ’<br>\n",
    "+\tConcatenation - Adds values on either side of the operator\t<br>\n",
    "... a + b will give HelloPython<br>\n",
    "*\tRepetition - Creates new strings, concatenating multiple copies of <br>\n",
    "the same string\t<br>\n",
    "... a*2 will give HelloHello<br>\n",
    "[]\tSlice - Gives the character from the given index\t<br>\n",
    "... a[1] will give e<br>\n",
    "[ : ]\tRange Slice - Gives the characters from the given range\t<br>\n",
    "... a[1:4] will give ell<br>\n",
    "in\tMembership - Returns true if a character exists in the given string\t<br>\n",
    "... H in a will give 1<br>\n",
    "not in\tMembership - Returns true if a character does not exist in the given string\t<br>\n",
    "... M not in a will give 1<br>\n",
    "============================================================================="
   ]
  },
  {
   "cell_type": "code",
   "execution_count": 35,
   "metadata": {},
   "outputs": [
    {
     "name": "stdout",
     "output_type": "stream",
     "text": [
      "HelloPython\n",
      "HelloHello\n",
      "e\n",
      "ell\n",
      "False\n",
      "False\n",
      "True\n",
      "True\n",
      "True\n"
     ]
    }
   ],
   "source": [
    "a = 'Hello' \n",
    "b = 'Python'\n",
    "print(a + b)\n",
    "print(a * 2)\n",
    "print(a[1])\n",
    "print(a[1:4])\n",
    "print('h' in a)\n",
    "print('M' in a)\n",
    "print('M' not in a)\n",
    "print('ll' in a)\n",
    "print('Py' in b)"
   ]
  },
  {
   "cell_type": "markdown",
   "metadata": {},
   "source": [
    "=============================================================================<br>\n",
    "Triple Quotes<br>\n",
    "Python's triple quotes comes to the rescue by allowing strings to span <br>\n",
    "multiple lines, including verbatim NEWLINEs, TABs, and any other special <br>\n",
    "characters.<br>\n",
    "<br>\n",
    "The syntax for triple quotes is three consecutive single or double quotes.<br>\n",
    "<br>\n",
    "============================================================================="
   ]
  },
  {
   "cell_type": "markdown",
   "metadata": {},
   "source": [
    "paraString = \n",
    "this is a long string that is made up of<br>\n",
    "several lines and non-printable characters such as<br>\n",
    "TAB ( \\t ) and they will show up that way when displayed.<br>\n",
    "NEWLINEs within the string, whether explicitly given like<br>\n",
    "this within the brackets [ \\n ], or just a NEWLINE within<br>\n",
    "the variable assignment will also show up.<br>\n"
   ]
  },
  {
   "cell_type": "code",
   "execution_count": 36,
   "metadata": {},
   "outputs": [
    {
     "ename": "NameError",
     "evalue": "name 'paraString' is not defined",
     "output_type": "error",
     "traceback": [
      "\u001b[1;31m---------------------------------------------------------------------------\u001b[0m",
      "\u001b[1;31mNameError\u001b[0m                                 Traceback (most recent call last)",
      "\u001b[1;32m<ipython-input-36-5ade918b9e3d>\u001b[0m in \u001b[0;36m<module>\u001b[1;34m\u001b[0m\n\u001b[1;32m----> 1\u001b[1;33m \u001b[0mprint\u001b[0m\u001b[1;33m(\u001b[0m\u001b[0mparaString\u001b[0m\u001b[1;33m)\u001b[0m\u001b[1;33m\u001b[0m\u001b[1;33m\u001b[0m\u001b[0m\n\u001b[0m",
      "\u001b[1;31mNameError\u001b[0m: name 'paraString' is not defined"
     ]
    }
   ],
   "source": [
    "print(paraString)"
   ]
  },
  {
   "cell_type": "markdown",
   "metadata": {},
   "source": [
    "=============================================================================<br>\n",
    "<br>\n",
    "unction(variable)<br>\n",
    "<br>\n",
    "ariable.methods()<br>\n",
    "<br>\n",
    "============================================================================="
   ]
  },
  {
   "cell_type": "markdown",
   "metadata": {},
   "source": [
    "=============================================================================<br>\n",
    "center(width, fillchar)<br>\n",
    "Returns a space-padded string with the original string centered to a <br>\n",
    "total of width columns.<br>\n",
    "============================================================================="
   ]
  },
  {
   "cell_type": "code",
   "execution_count": 37,
   "metadata": {},
   "outputs": [
    {
     "name": "stdout",
     "output_type": "stream",
     "text": [
      "[Hello World!]\n",
      "[         Hello World!         ]\n",
      "[.........Hello World!.........]\n"
     ]
    },
    {
     "ename": "TypeError",
     "evalue": "The fill character must be exactly one character long",
     "output_type": "error",
     "traceback": [
      "\u001b[1;31m---------------------------------------------------------------------------\u001b[0m",
      "\u001b[1;31mTypeError\u001b[0m                                 Traceback (most recent call last)",
      "\u001b[1;32m<ipython-input-37-778fdda107a4>\u001b[0m in \u001b[0;36m<module>\u001b[1;34m\u001b[0m\n\u001b[0;32m      3\u001b[0m \u001b[0mprint\u001b[0m\u001b[1;33m(\u001b[0m\u001b[1;34m\"[\"\u001b[0m\u001b[1;33m+\u001b[0m\u001b[0mstrString\u001b[0m\u001b[1;33m.\u001b[0m\u001b[0mcenter\u001b[0m\u001b[1;33m(\u001b[0m\u001b[1;36m30\u001b[0m\u001b[1;33m,\u001b[0m \u001b[1;34m' '\u001b[0m\u001b[1;33m)\u001b[0m\u001b[1;33m+\u001b[0m\u001b[1;34m\"]\"\u001b[0m\u001b[1;33m)\u001b[0m\u001b[1;33m\u001b[0m\u001b[1;33m\u001b[0m\u001b[0m\n\u001b[0;32m      4\u001b[0m \u001b[0mprint\u001b[0m\u001b[1;33m(\u001b[0m\u001b[1;34m\"[\"\u001b[0m\u001b[1;33m+\u001b[0m\u001b[0mstrString\u001b[0m\u001b[1;33m.\u001b[0m\u001b[0mcenter\u001b[0m\u001b[1;33m(\u001b[0m\u001b[1;36m30\u001b[0m\u001b[1;33m,\u001b[0m \u001b[1;34m'.'\u001b[0m\u001b[1;33m)\u001b[0m\u001b[1;33m+\u001b[0m\u001b[1;34m\"]\"\u001b[0m\u001b[1;33m)\u001b[0m\u001b[1;33m\u001b[0m\u001b[1;33m\u001b[0m\u001b[0m\n\u001b[1;32m----> 5\u001b[1;33m \u001b[0mprint\u001b[0m\u001b[1;33m(\u001b[0m\u001b[1;34m\"[\"\u001b[0m\u001b[1;33m+\u001b[0m\u001b[0mstrString\u001b[0m\u001b[1;33m.\u001b[0m\u001b[0mcenter\u001b[0m\u001b[1;33m(\u001b[0m\u001b[1;36m30\u001b[0m\u001b[1;33m,\u001b[0m \u001b[1;34m'xy'\u001b[0m\u001b[1;33m)\u001b[0m\u001b[1;33m+\u001b[0m\u001b[1;34m\"]\"\u001b[0m\u001b[1;33m)\u001b[0m\u001b[1;33m\u001b[0m\u001b[1;33m\u001b[0m\u001b[0m\n\u001b[0m",
      "\u001b[1;31mTypeError\u001b[0m: The fill character must be exactly one character long"
     ]
    }
   ],
   "source": [
    "strString = 'Hello World!'\n",
    "print(\"[\"+strString+\"]\")\n",
    "print(\"[\"+strString.center(30, ' ')+\"]\")\n",
    "print(\"[\"+strString.center(30, '.')+\"]\")\n",
    "print(\"[\"+strString.center(30, 'xy')+\"]\")"
   ]
  },
  {
   "cell_type": "markdown",
   "metadata": {},
   "source": [
    "=============================================================================<br>\n",
    "count(str, beg= 0,end=len(string))<br>\n",
    "Counts how many times str occurs in string or in a substring of string <br>\n",
    "if starting index beg and ending index end are given.<br>\n",
    "============================================================================="
   ]
  },
  {
   "cell_type": "code",
   "execution_count": 38,
   "metadata": {},
   "outputs": [
    {
     "name": "stdout",
     "output_type": "stream",
     "text": [
      "2\n",
      "2\n",
      "1\n"
     ]
    }
   ],
   "source": [
    "strString = 'Hello Wo rld!'\n",
    "print(strString.count(' '))\n",
    "print(strString.count('o '))\n",
    "print(strString.count('o ',0,7))"
   ]
  },
  {
   "cell_type": "markdown",
   "metadata": {},
   "source": [
    "=============================================================================<br>\n",
    "len(string)<br>\n",
    "Returns the length of the string<br>\n",
    "============================================================================="
   ]
  },
  {
   "cell_type": "code",
   "execution_count": 39,
   "metadata": {},
   "outputs": [
    {
     "name": "stdout",
     "output_type": "stream",
     "text": [
      "12\n"
     ]
    }
   ],
   "source": [
    "strString = 'Hello World!'\n",
    "print(len(strString))\n",
    "#print(strString.len())\n",
    "#print(strString.length())\n",
    "#print(strString.size())"
   ]
  },
  {
   "cell_type": "markdown",
   "metadata": {},
   "source": [
    "=============================================================================<br>\n",
    "startswith(str, beg=0,end=len(string))<br>\n",
    "Determines if string or a substring of string (if starting index beg and <br>\n",
    "ending index end are given) starts with substring str; returns true if so <br>\n",
    "and false otherwise.<br>\n",
    "============================================================================="
   ]
  },
  {
   "cell_type": "code",
   "execution_count": 40,
   "metadata": {},
   "outputs": [
    {
     "name": "stdout",
     "output_type": "stream",
     "text": [
      "World!\n",
      "True\n",
      "True\n",
      "True\n"
     ]
    }
   ],
   "source": [
    "strString = 'Hello World!'\n",
    "print(strString[6:12])\n",
    "print(strString.startswith('H'))\n",
    "print(strString.startswith('He'))\n",
    "print(strString.startswith('W',6,12))"
   ]
  },
  {
   "cell_type": "markdown",
   "metadata": {},
   "source": [
    "=============================================================================<br>\n",
    "endswith(suffix, beg=0, end=len(string))<br>\n",
    "Determines if string or a substring of string (if starting index beg and <br>\n",
    "ending index end are given) ends with suffix; returns true if so and false <br>\n",
    "otherwise.<br>\n",
    "============================================================================="
   ]
  },
  {
   "cell_type": "code",
   "execution_count": 41,
   "metadata": {},
   "outputs": [
    {
     "name": "stdout",
     "output_type": "stream",
     "text": [
      "World!\n",
      "False\n",
      "True\n"
     ]
    }
   ],
   "source": [
    "strString = 'Hello World!'\n",
    "print(strString[6:12])\n",
    "print(strString.endswith('!!'))\n",
    "print(strString.endswith('!',6,12))"
   ]
  },
  {
   "cell_type": "markdown",
   "metadata": {},
   "source": [
    "=============================================================================<br>\n",
    "find(str, beg=0 end=len(string))<br>\n",
    "Determine if str occurs in string or in a substring of string if starting <br>\n",
    "index beg and ending index end are given returns index if found and -1 <br>\n",
    "otherwise.<br>\n",
    "============================================================================="
   ]
  },
  {
   "cell_type": "code",
   "execution_count": 42,
   "metadata": {},
   "outputs": [
    {
     "name": "stdout",
     "output_type": "stream",
     "text": [
      "WorWo!\n",
      "-1\n",
      "6\n",
      "6\n",
      "6\n",
      "11\n",
      "4\n"
     ]
    }
   ],
   "source": [
    "strString = 'Hello WorWo!'\n",
    "print(strString[6:12])\n",
    "print(strString.find('#'))\n",
    "print(strString.find('W'))\n",
    "print(strString.find('W',6,12))\n",
    "print(strString.find('Wo',6,12))\n",
    "print(strString.find('!',6,12))\n",
    "print(strString.find('o'))"
   ]
  },
  {
   "cell_type": "code",
   "execution_count": 43,
   "metadata": {},
   "outputs": [
    {
     "name": "stdout",
     "output_type": "stream",
     "text": [
      "4\n",
      "7\n",
      "10\n"
     ]
    }
   ],
   "source": [
    "strString = 'Hello WorWo!'\n",
    "intPostn = 0\n",
    "while True:\n",
    "    intRetValue = strString.find('o',intPostn)\n",
    "    if intRetValue == -1:\n",
    "        break\n",
    "    print(intRetValue)\n",
    "    intPostn = intRetValue + 1"
   ]
  },
  {
   "cell_type": "markdown",
   "metadata": {},
   "source": [
    "=============================================================================<br>\n",
    "index(str, beg=0, end=len(string))<br>\n",
    "Same as find(), but raises an exception if str not found.<br>\n",
    "============================================================================="
   ]
  },
  {
   "cell_type": "code",
   "execution_count": 44,
   "metadata": {},
   "outputs": [
    {
     "name": "stdout",
     "output_type": "stream",
     "text": [
      "World!\n"
     ]
    },
    {
     "ename": "ValueError",
     "evalue": "substring not found",
     "output_type": "error",
     "traceback": [
      "\u001b[1;31m---------------------------------------------------------------------------\u001b[0m",
      "\u001b[1;31mValueError\u001b[0m                                Traceback (most recent call last)",
      "\u001b[1;32m<ipython-input-44-028268cc0ea6>\u001b[0m in \u001b[0;36m<module>\u001b[1;34m\u001b[0m\n\u001b[0;32m      1\u001b[0m \u001b[0mstrString\u001b[0m \u001b[1;33m=\u001b[0m \u001b[1;34m'Hello World!'\u001b[0m\u001b[1;33m\u001b[0m\u001b[1;33m\u001b[0m\u001b[0m\n\u001b[0;32m      2\u001b[0m \u001b[0mprint\u001b[0m\u001b[1;33m(\u001b[0m\u001b[0mstrString\u001b[0m\u001b[1;33m[\u001b[0m\u001b[1;36m6\u001b[0m\u001b[1;33m:\u001b[0m\u001b[1;36m12\u001b[0m\u001b[1;33m]\u001b[0m\u001b[1;33m)\u001b[0m\u001b[1;33m\u001b[0m\u001b[1;33m\u001b[0m\u001b[0m\n\u001b[1;32m----> 3\u001b[1;33m \u001b[0mprint\u001b[0m\u001b[1;33m(\u001b[0m\u001b[0mstrString\u001b[0m\u001b[1;33m.\u001b[0m\u001b[0mindex\u001b[0m\u001b[1;33m(\u001b[0m\u001b[1;34m'#'\u001b[0m\u001b[1;33m)\u001b[0m\u001b[1;33m)\u001b[0m\u001b[1;33m\u001b[0m\u001b[1;33m\u001b[0m\u001b[0m\n\u001b[0m\u001b[0;32m      4\u001b[0m \u001b[0mprint\u001b[0m\u001b[1;33m(\u001b[0m\u001b[0mstrString\u001b[0m\u001b[1;33m.\u001b[0m\u001b[0mindex\u001b[0m\u001b[1;33m(\u001b[0m\u001b[1;34m'W'\u001b[0m\u001b[1;33m)\u001b[0m\u001b[1;33m)\u001b[0m\u001b[1;33m\u001b[0m\u001b[1;33m\u001b[0m\u001b[0m\n\u001b[0;32m      5\u001b[0m \u001b[0mprint\u001b[0m\u001b[1;33m(\u001b[0m\u001b[0mstrString\u001b[0m\u001b[1;33m.\u001b[0m\u001b[0mindex\u001b[0m\u001b[1;33m(\u001b[0m\u001b[1;34m'W'\u001b[0m\u001b[1;33m,\u001b[0m\u001b[1;36m6\u001b[0m\u001b[1;33m,\u001b[0m\u001b[1;36m12\u001b[0m\u001b[1;33m)\u001b[0m\u001b[1;33m)\u001b[0m\u001b[1;33m\u001b[0m\u001b[1;33m\u001b[0m\u001b[0m\n",
      "\u001b[1;31mValueError\u001b[0m: substring not found"
     ]
    }
   ],
   "source": [
    "strString = 'Hello World!'\n",
    "print(strString[6:12])\n",
    "print(strString.index('#'))\n",
    "print(strString.index('W'))\n",
    "print(strString.index('W',6,12))"
   ]
  },
  {
   "cell_type": "markdown",
   "metadata": {},
   "source": [
    "=============================================================================<br>\n",
    "rfind(str, beg=0,end=len(string))<br>\n",
    "Same as find(), but search backwards in string.<br>\n",
    "rindex( str, beg=0, end=len(string))<br>\n",
    "Same as index(), but search backwards in string.<br>\n",
    "=============================================================================<br>\n",
    "           01234567890123456789"
   ]
  },
  {
   "cell_type": "code",
   "execution_count": 45,
   "metadata": {},
   "outputs": [
    {
     "name": "stdout",
     "output_type": "stream",
     "text": [
      "18\n"
     ]
    }
   ],
   "source": [
    "strString = \"this is this is this\"\n",
    "print(strString.rfind('is'))"
   ]
  },
  {
   "cell_type": "code",
   "execution_count": 46,
   "metadata": {},
   "outputs": [
    {
     "name": "stdout",
     "output_type": "stream",
     "text": [
      "5\n",
      "5\n",
      "-1\n",
      "2\n",
      "2\n",
      "-1\n"
     ]
    }
   ],
   "source": [
    "strString = \"this is really a string example .... wow!!!\"\n",
    "print(strString.rfind('is'))\n",
    "print(strString.rfind('is', 0, 10))\n",
    "print(strString.rfind('is', 10, 0))\n",
    "print(strString.find('is'))\n",
    "print(strString.find('is', 0, 10))\n",
    "print(strString.find('is', 10, 0))"
   ]
  },
  {
   "cell_type": "markdown",
   "metadata": {},
   "source": [
    "=============================================================================<br>\n",
    "isalnum()<br>\n",
    "Returns true if string has at least 1 character and all characters are <br>\n",
    "alphanumeric and false otherwise.<br>\n",
    "============================================================================="
   ]
  },
  {
   "cell_type": "code",
   "execution_count": 47,
   "metadata": {},
   "outputs": [
    {
     "name": "stdout",
     "output_type": "stream",
     "text": [
      "False\n",
      "False\n",
      "True\n",
      "True\n"
     ]
    }
   ],
   "source": [
    "strString = 'Hello World9!'\n",
    "print(strString.isalnum())\n",
    "strString = 'Hello World9'\n",
    "print(strString.isalnum())\n",
    "strString = 'HelloWorld9'\n",
    "print(strString.isalnum())\n",
    "strString = 'HelloWorld'\n",
    "print(strString.isalnum())"
   ]
  },
  {
   "cell_type": "markdown",
   "metadata": {},
   "source": [
    "=============================================================================<br>\n",
    "isalpha()<br>\n",
    "Returns true if string has at least 1 character and all characters are <br>\n",
    "alphabetic and false otherwise.<br>\n",
    "============================================================================="
   ]
  },
  {
   "cell_type": "code",
   "execution_count": 48,
   "metadata": {},
   "outputs": [
    {
     "name": "stdout",
     "output_type": "stream",
     "text": [
      "False\n",
      "False\n",
      "False\n",
      "True\n"
     ]
    }
   ],
   "source": [
    "strString = 'Hello World!'\n",
    "print(strString.isalpha())\n",
    "strString = 'Hello World'\n",
    "print(strString.isalpha())\n",
    "strString = 'HelloWorld9'\n",
    "print(strString.isalpha())\n",
    "strString = 'HelloWorld'\n",
    "print(strString.isalpha())"
   ]
  },
  {
   "cell_type": "markdown",
   "metadata": {},
   "source": [
    "=============================================================================<br>\n",
    "isnumeric()<br>\n",
    "Returns true if a unicode string contains only numeric characters and .<br>\n",
    "false otherwise.<br>\n",
    "============================================================================="
   ]
  },
  {
   "cell_type": "code",
   "execution_count": 49,
   "metadata": {},
   "outputs": [
    {
     "name": "stdout",
     "output_type": "stream",
     "text": [
      "False\n",
      "True\n",
      "False\n"
     ]
    }
   ],
   "source": [
    "strString = 'Hello World!'\n",
    "print(strString.isnumeric())\n",
    "strString = '999'\n",
    "print(strString.isnumeric())\n",
    "strString = '999.99'\n",
    "print(strString.isnumeric())"
   ]
  },
  {
   "cell_type": "markdown",
   "metadata": {},
   "source": [
    "=============================================================================<br>\n",
    "islower()<br>\n",
    "Returns true if string has at least 1 cased character and all cased <br>\n",
    "characters are in lowercase and false otherwise.<br>\n",
    "============================================================================="
   ]
  },
  {
   "cell_type": "code",
   "execution_count": 50,
   "metadata": {},
   "outputs": [
    {
     "name": "stdout",
     "output_type": "stream",
     "text": [
      "False\n",
      "True\n"
     ]
    }
   ],
   "source": [
    "strString = 'Hello World!'\n",
    "print(strString.islower())\n",
    "strString = 'hello world!'\n",
    "print(strString.islower())"
   ]
  },
  {
   "cell_type": "markdown",
   "metadata": {},
   "source": [
    "=============================================================================<br>\n",
    "isupper()<br>\n",
    "Returns true if string has at least one cased character and all cased <br>\n",
    "characters are in uppercase and false otherwise.<br>\n",
    "============================================================================="
   ]
  },
  {
   "cell_type": "code",
   "execution_count": 51,
   "metadata": {},
   "outputs": [
    {
     "name": "stdout",
     "output_type": "stream",
     "text": [
      "False\n",
      "True\n"
     ]
    }
   ],
   "source": [
    "strString = 'Hello World!'\n",
    "print(strString.isupper())\n",
    "strString = 'HELLO WORLD!'\n",
    "print(strString.isupper())"
   ]
  },
  {
   "cell_type": "markdown",
   "metadata": {},
   "source": [
    "=============================================================================<br>\n",
    "istitle()<br>\n",
    "Returns true if string is properly \"titlecased\" and false otherwise.<br>\n",
    "============================================================================="
   ]
  },
  {
   "cell_type": "code",
   "execution_count": 52,
   "metadata": {},
   "outputs": [
    {
     "name": "stdout",
     "output_type": "stream",
     "text": [
      "True\n",
      "False\n"
     ]
    }
   ],
   "source": [
    "strString = 'Hello World!'\n",
    "print(strString.istitle())\n",
    "strString = 'HELLO WORLD!'\n",
    "print(strString.istitle())"
   ]
  },
  {
   "cell_type": "markdown",
   "metadata": {},
   "source": [
    "=============================================================================<br>\n",
    "lower()<br>\n",
    "Converts all uppercase letters in string to lowercase.<br>\n",
    "============================================================================="
   ]
  },
  {
   "cell_type": "code",
   "execution_count": 53,
   "metadata": {},
   "outputs": [
    {
     "name": "stdout",
     "output_type": "stream",
     "text": [
      "hello world!\n"
     ]
    }
   ],
   "source": [
    "strString = 'Hello World!'\n",
    "print(strString.lower())"
   ]
  },
  {
   "cell_type": "markdown",
   "metadata": {},
   "source": [
    "=============================================================================<br>\n",
    "upper()<br>\n",
    "Converts lowercase letters in string to uppercase.<br>\n",
    "============================================================================="
   ]
  },
  {
   "cell_type": "code",
   "execution_count": 54,
   "metadata": {},
   "outputs": [
    {
     "name": "stdout",
     "output_type": "stream",
     "text": [
      "HELLO WORLD!\n"
     ]
    }
   ],
   "source": [
    "strString = 'Hello World!'\n",
    "print(strString.upper())"
   ]
  },
  {
   "cell_type": "markdown",
   "metadata": {},
   "source": [
    "=============================================================================<br>\n",
    "title()<br>\n",
    "Returns \"titlecased\" version of string, that is, all words begin with <br>\n",
    "uppercase and the rest are lowercase.<br>\n",
    "============================================================================="
   ]
  },
  {
   "cell_type": "code",
   "execution_count": 55,
   "metadata": {},
   "outputs": [
    {
     "name": "stdout",
     "output_type": "stream",
     "text": [
      "Hello World!\n"
     ]
    }
   ],
   "source": [
    "strString = 'hello world!'\n",
    "print(strString.title())"
   ]
  },
  {
   "cell_type": "markdown",
   "metadata": {},
   "source": [
    "=============================================================================<br>\n",
    "capitalize()<br>\n",
    "Capitalizes first letter of string<br>\n",
    "============================================================================="
   ]
  },
  {
   "cell_type": "code",
   "execution_count": 56,
   "metadata": {},
   "outputs": [
    {
     "name": "stdout",
     "output_type": "stream",
     "text": [
      "Hello world!\n",
      "Hello world! hello cyrus. hello myself\n"
     ]
    }
   ],
   "source": [
    "strString = 'hello world!'\n",
    "print(strString.capitalize())\n",
    "strString = 'hello world! Hello cyrus. Hello myself'\n",
    "print(strString.capitalize())"
   ]
  },
  {
   "cell_type": "markdown",
   "metadata": {},
   "source": [
    "=============================================================================<br>\n",
    "swapcase()<br>\n",
    "Inverts case for all letters in string.<br>\n",
    "============================================================================="
   ]
  },
  {
   "cell_type": "code",
   "execution_count": 57,
   "metadata": {},
   "outputs": [
    {
     "name": "stdout",
     "output_type": "stream",
     "text": [
      "hELLO wORLD!\n"
     ]
    }
   ],
   "source": [
    "strString = 'Hello World!'\n",
    "print(strString.swapcase())"
   ]
  },
  {
   "cell_type": "markdown",
   "metadata": {},
   "source": [
    "=============================================================================<br>\n",
    "ljust(width[, fillchar])<br>\n",
    "Returns a space-padded string with the original string left-justified to a <br>\n",
    "total of width columns.<br>\n",
    "rjust(width,[, fillchar])<br>\n",
    "Returns a space-padded string with the original string right-justified <br>\n",
    "to a total of width columns.<br>\n",
    "============================================================================="
   ]
  },
  {
   "cell_type": "code",
   "execution_count": 58,
   "metadata": {},
   "outputs": [
    {
     "name": "stdout",
     "output_type": "stream",
     "text": [
      "hello world!                  \n",
      "                  hello world!\n"
     ]
    }
   ],
   "source": [
    "strString = 'hello world!'\n",
    "print(strString.ljust(30, ' '))\n",
    "strString = 'hello world!'\n",
    "print(strString.rjust(30, ' '))"
   ]
  },
  {
   "cell_type": "markdown",
   "metadata": {},
   "source": [
    "=============================================================================<br>\n",
    "zfill (width)<br>\n",
    "Returns original string leftpadded with zeros to a total of width characters; <br>\n",
    "intended for numbers, zfill() retains any sign given (less one zero).<br>\n",
    "============================================================================="
   ]
  },
  {
   "cell_type": "code",
   "execution_count": 59,
   "metadata": {},
   "outputs": [
    {
     "name": "stdout",
     "output_type": "stream",
     "text": [
      "0000009999\n"
     ]
    }
   ],
   "source": [
    "strString = '9999'\n",
    "print(strString.zfill(10))"
   ]
  },
  {
   "cell_type": "markdown",
   "metadata": {},
   "source": [
    "=============================================================================<br>\n",
    "strip([chars])<br>\n",
    "Performs both lstrip() and rstrip() on string<br>\n",
    "lstrip()<br>\n",
    "Removes all leading whitespace in string.<br>\n",
    "rstrip()<br>\n",
    "Removes all trailing whitespace of string.<br>\n",
    "============================================================================="
   ]
  },
  {
   "cell_type": "code",
   "execution_count": 60,
   "metadata": {},
   "outputs": [
    {
     "name": "stdout",
     "output_type": "stream",
     "text": [
      "[hello world!]\n",
      "[hello world!          ]\n",
      "[            hello world!]\n"
     ]
    }
   ],
   "source": [
    "strString = '            hello world!          '\n",
    "print(\"[\"+strString.strip()+\"]\")\n",
    "print(\"[\"+strString.lstrip()+\"]\")\n",
    "print(\"[\"+strString.rstrip()+\"]\")"
   ]
  },
  {
   "cell_type": "markdown",
   "metadata": {},
   "source": [
    "=============================================================================<br>\n",
    "max(str)<br>\n",
    "Returns the max alphabetical character from the string str.<br>\n",
    "min(str)<br>\n",
    "Returns the min alphabetical character from the string str.<br>\n",
    "============================================================================="
   ]
  },
  {
   "cell_type": "code",
   "execution_count": 61,
   "metadata": {},
   "outputs": [
    {
     "name": "stdout",
     "output_type": "stream",
     "text": [
      "w\n",
      " \n"
     ]
    }
   ],
   "source": [
    "strString = 'Zhello world!'\n",
    "print(max(strString))\n",
    "print(min(strString))"
   ]
  },
  {
   "cell_type": "markdown",
   "metadata": {},
   "source": [
    "=============================================================================<br>\n",
    "replace(old, new [, max])<br>\n",
    "Replaces all occurrences of old in string with new or at most max occurrences <br>\n",
    "if max given.<br>\n",
    "============================================================================="
   ]
  },
  {
   "cell_type": "code",
   "execution_count": 62,
   "metadata": {},
   "outputs": [
    {
     "name": "stdout",
     "output_type": "stream",
     "text": [
      "Hello Cyrus!\n",
      "Hello World!\n"
     ]
    }
   ],
   "source": [
    "strString = 'Hello World!'\n",
    "print(strString.replace(\"World\",\"Cyrus\"))\n",
    "print(strString.replace(\"Xorld\",\"Cyrus\"))"
   ]
  },
  {
   "cell_type": "code",
   "execution_count": 63,
   "metadata": {},
   "outputs": [
    {
     "name": "stdout",
     "output_type": "stream",
     "text": [
      "Hello World!\n",
      "Hello World!\n"
     ]
    }
   ],
   "source": [
    "strString = 'Hello World!'\n",
    "print(strString.replace(\"World \",\"Cyrus Cyrus\"))\n",
    "print(strString.replace(\"Xorld\",\"Cyrus\"))"
   ]
  },
  {
   "cell_type": "code",
   "execution_count": 64,
   "metadata": {},
   "outputs": [
    {
     "name": "stdout",
     "output_type": "stream",
     "text": [
      "Hello World! Hello World\n",
      "Hello World! Hello World\n"
     ]
    }
   ],
   "source": [
    "strString = 'Hello World! Hello World'\n",
    "print(strString.replace(\"World \",\"Cyrus Cyrus\"))\n",
    "print(strString.replace(\"Xorld\",\"Cyrus\"))"
   ]
  },
  {
   "cell_type": "code",
   "execution_count": 65,
   "metadata": {},
   "outputs": [
    {
     "name": "stdout",
     "output_type": "stream",
     "text": [
      "Hello Cy! Hello Cy\n",
      "Hello World! Hello World\n"
     ]
    }
   ],
   "source": [
    "print(strString.replace(\"World\",\"Cy\"))\n",
    "print(strString.replace(\"Xorld\",\"Cy\"))"
   ]
  },
  {
   "cell_type": "code",
   "execution_count": 66,
   "metadata": {},
   "outputs": [
    {
     "name": "stdout",
     "output_type": "stream",
     "text": [
      "Hello Cyrusrld! Hello Cyrusrld\n",
      "Hello WorCyrus! Hello WorCyrus\n"
     ]
    }
   ],
   "source": [
    "print(strString.replace(\"Wo\",\"Cyrus\"))\n",
    "print(strString.replace(\"ld\",\"Cyrus\"))"
   ]
  },
  {
   "cell_type": "markdown",
   "metadata": {},
   "source": [
    "=============================================================================<br>\n",
    "maketrans<br>\n",
    "The syntax of maketrans() method is:<br>\n",
    "string.maketrans(x[, y[, z]])<br>\n",
    "Here, y and z are optional arguments.<br>\n",
    "============================================================================="
   ]
  },
  {
   "cell_type": "markdown",
   "metadata": {},
   "source": [
    "x - If only one argument is supplied, it must be a dictionary.<br>\n",
    "he dictionary should contain 1-to-1 mapping from a single character string to <br>\n",
    "ts translation OR a unicode number (97 for 'a') to its translation."
   ]
  },
  {
   "cell_type": "markdown",
   "metadata": {},
   "source": [
    "example - single argument (dict)<br>\n",
    "uses "
   ]
  },
  {
   "cell_type": "code",
   "execution_count": 67,
   "metadata": {},
   "outputs": [
    {
     "name": "stdout",
     "output_type": "stream",
     "text": [
      "{'a': '123', 'b': '456', 'c': '789'}\n",
      "{97: '123', 98: '456', 99: '789'}\n"
     ]
    }
   ],
   "source": [
    "dict = {\"a\": \"123\", \"b\": \"456\", \"c\": \"789\"}\n",
    "print(dict)\n",
    "strString = \"abc\"\n",
    "strString = strString.maketrans(dict)\n",
    "print(strString)"
   ]
  },
  {
   "cell_type": "markdown",
   "metadata": {},
   "source": [
    "example - single argument (dict)"
   ]
  },
  {
   "cell_type": "code",
   "execution_count": 68,
   "metadata": {},
   "outputs": [
    {
     "name": "stdout",
     "output_type": "stream",
     "text": [
      "{97: '123', 98: '456', 99: '789'}\n",
      "abc\n"
     ]
    }
   ],
   "source": [
    "dict = {97: \"123\", 98: \"456\", 99: \"789\"}\n",
    "print(dict)\n",
    "strString = \"abc\"\n",
    "print(strString)"
   ]
  },
  {
   "cell_type": "markdown",
   "metadata": {},
   "source": [
    "y - If two arguments are passed, it must be two strings with equal length.<br>\n",
    "Each character in the first string is a replacement to its corresponding index <br>\n",
    "in the second string."
   ]
  },
  {
   "cell_type": "markdown",
   "metadata": {},
   "source": [
    "example 2 - two argumetns - translation table using two strings with maketrans()"
   ]
  },
  {
   "cell_type": "code",
   "execution_count": 80,
   "metadata": {},
   "outputs": [
    {
     "name": "stdout",
     "output_type": "stream",
     "text": [
      "{97: 100, 98: 101, 99: 102}\n",
      "<class 'dict'>\n"
     ]
    }
   ],
   "source": [
    "firstString = \"abc\"\n",
    "secondString = \"def\"\n",
    "strString = \"abc\"\n",
    "strString = strString.maketrans(firstString, secondString)\n",
    "print(strString)\n",
    "print(type(strString))"
   ]
  },
  {
   "cell_type": "markdown",
   "metadata": {},
   "source": [
    "example 2 - two argumetns - translation table using two strings with maketrans()"
   ]
  },
  {
   "cell_type": "code",
   "execution_count": 83,
   "metadata": {},
   "outputs": [
    {
     "name": "stdout",
     "output_type": "stream",
     "text": [
      "{97: 100, 98: 101, 99: 102}\n"
     ]
    }
   ],
   "source": [
    "firstString = \"abc\"\n",
    "secondString = \"def\"\n",
    "strString = \"abc\"\n",
    "strString = strString.maketrans(firstString, secondString)\n",
    "print(strString)"
   ]
  },
  {
   "cell_type": "markdown",
   "metadata": {},
   "source": [
    "z - If three arguments are passed, each character in the third argument is <br>\n",
    "mapped to None."
   ]
  },
  {
   "cell_type": "markdown",
   "metadata": {},
   "source": [
    "example 3 - three argumetns - translational table with removable string with maketrans()"
   ]
  },
  {
   "cell_type": "code",
   "execution_count": 84,
   "metadata": {},
   "outputs": [
    {
     "name": "stdout",
     "output_type": "stream",
     "text": [
      "{97: None, 98: None, 99: 102, 100: None}\n"
     ]
    }
   ],
   "source": [
    "firstString = \"abc\"\n",
    "secondString = \"def\"\n",
    "thirdString = \"abd\"\n",
    "string = \"abc\"\n",
    "print(string.maketrans(firstString, secondString, thirdString))"
   ]
  },
  {
   "cell_type": "markdown",
   "metadata": {},
   "source": [
    "=============================================================================<br>\n",
    "translate<br>\n",
    "the translate() method returns a string where each character is mapped to its <br>\n",
    "corresponding character as per the translation table.<br>\n",
    "return value from String translate()<br>\n",
    "============================================================================="
   ]
  },
  {
   "cell_type": "code",
   "execution_count": 139,
   "metadata": {},
   "outputs": [],
   "source": [
    "import string"
   ]
  },
  {
   "cell_type": "markdown",
   "metadata": {},
   "source": [
    "example 1<br>\n",
    "replace klmnop with 12345"
   ]
  },
  {
   "cell_type": "code",
   "execution_count": 142,
   "metadata": {},
   "outputs": [
    {
     "name": "stdout",
     "output_type": "stream",
     "text": [
      "{107: 49, 108: 50, 109: 51, 110: 52, 111: 53, 105: 54}\n",
      "th6s 6s a sa3p2e str64g ... w5w!!!\n"
     ]
    }
   ],
   "source": [
    "inStr = \"klmnoi\"\n",
    "otStr = \"123456\"\n",
    "string = \"\"\n",
    "# make translate dictionary\n",
    "dTrns = string.maketrans(inStr, otStr)\n",
    "print(dTrns)\n",
    "\n",
    "# translate\n",
    "str = \"this is a sample string ... wow!!!\"\n",
    "print(str.translate(dTrns))"
   ]
  },
  {
   "cell_type": "markdown",
   "metadata": {},
   "source": [
    "example 2<br>\n",
    "replace any alpha with \"\""
   ]
  },
  {
   "cell_type": "code",
   "execution_count": 143,
   "metadata": {},
   "outputs": [
    {
     "name": "stdout",
     "output_type": "stream",
     "text": [
      "{32: 32, 97: None, 98: None, 99: None, 100: None, 101: None, 102: None, 103: None, 104: None, 105: None, 106: None, 107: None, 108: None, 109: None, 110: None, 111: None, 112: None, 113: None, 114: None, 115: None, 116: None, 117: None, 118: None, 119: None, 120: None, 121: None, 122: None}\n",
      "Original String: abcdef12345xyz\n",
      "Translated String: 12345\n"
     ]
    }
   ],
   "source": [
    "firstString = \" \"\n",
    "secondString = \" \"\n",
    "thirdString = \"abcdefghijklmnopqrstuvwxyz\"\n",
    "# maketrans dict\n",
    "dTranslation = string.maketrans(firstString, secondString, thirdString)\n",
    "print(dTranslation)\n",
    "# make input string\n",
    "strString = \"abcdef12345xyz\"\n",
    "print(\"Original String:\", strString)\n",
    "# translate string\n",
    "strTranslation = strString.translate(dTranslation)\n",
    "print(\"Translated String:\", strTranslation)"
   ]
  },
  {
   "cell_type": "markdown",
   "metadata": {},
   "source": [
    "example 3<br>\n",
    "\n",
    "replace any punctuation with \"\""
   ]
  },
  {
   "cell_type": "code",
   "execution_count": 144,
   "metadata": {},
   "outputs": [
    {
     "name": "stdout",
     "output_type": "stream",
     "text": [
      "string With Punctuation\n"
     ]
    }
   ],
   "source": [
    "import string \n",
    "strString = \"string. With, Punctuation?\" # Sample string \n",
    "dTranslat = str.maketrans('', '', string.punctuation)\n",
    "outString = strString.translate(dTranslat)\n",
    "print(outString)"
   ]
  },
  {
   "cell_type": "markdown",
   "metadata": {},
   "source": [
    "single line"
   ]
  },
  {
   "cell_type": "code",
   "execution_count": 145,
   "metadata": {},
   "outputs": [
    {
     "name": "stdout",
     "output_type": "stream",
     "text": [
      "string With Punctuation\n"
     ]
    }
   ],
   "source": [
    "print(strString.translate(str.maketrans(\" \", \" \", string.punctuation)))"
   ]
  },
  {
   "cell_type": "markdown",
   "metadata": {},
   "source": [
    "string constants<br>\n",
    "ttps://docs.python.org/2/library/string.html<br>\n",
    "tring.ascii_letters<br>\n",
    "tring.ascii_lowercase<br>\n",
    "tring.ascii_uppercase<br>\n",
    "tring.digits<br>\n",
    "tring.hexdigits<br>\n",
    "tring.letters<br>\n",
    "tring.lowercase<br>\n",
    "tring.octdigits<br>\n",
    "tring.punctuation<br>\n",
    "tring.printable<br>\n",
    "tring.uppercase<br>\n",
    "tring.whitespace"
   ]
  },
  {
   "cell_type": "markdown",
   "metadata": {},
   "source": [
    "=============================================================================<br>\n",
    "split(str=\"\", num=string.count(str))<br>\n",
    "Splits string according to delimiter str (space if not provided) and returns <br>\n",
    "list of substrings; split into at most num substrings if given.<br>\n",
    "============================================================================="
   ]
  },
  {
   "cell_type": "code",
   "execution_count": 146,
   "metadata": {},
   "outputs": [
    {
     "name": "stdout",
     "output_type": "stream",
     "text": [
      "['Line1-abcdef', 'Line2-abc', 'Line4-abcd']\n",
      "['Line1-', 'bcdef \\nLine2-', 'bc \\nLine4-', 'bcd']\n",
      "['Line1-', 'bcdef \\nLine2-abc \\nLine4-abcd']\n"
     ]
    }
   ],
   "source": [
    "strString = \"Line1-abcdef \\nLine2-abc \\nLine4-abcd\"\n",
    "print(strString.split())\n",
    "print(strString.split('a'))\n",
    "print(strString.split('a',1))"
   ]
  },
  {
   "cell_type": "markdown",
   "metadata": {},
   "source": [
    "import library"
   ]
  },
  {
   "cell_type": "code",
   "execution_count": 147,
   "metadata": {},
   "outputs": [
    {
     "name": "stdout",
     "output_type": "stream",
     "text": [
      "98\n",
      "17\n",
      "47\n",
      "48\n",
      "53\n",
      "15\n",
      "49\n",
      "66\n",
      "96\n",
      "67\n"
     ]
    }
   ],
   "source": [
    "import random\n",
    "#random.seed(101)\n",
    "# for loop\n",
    "for x in range(10):\n",
    "    # get random number\n",
    "    intNumber = random.randrange(1, 100)\n",
    "    # print\n",
    "    print(intNumber)\n",
    "    \n",
    "    "
   ]
  },
  {
   "cell_type": "code",
   "execution_count": null,
   "metadata": {},
   "outputs": [],
   "source": []
  }
 ],
 "metadata": {
  "kernelspec": {
   "display_name": "Python 3",
   "language": "python",
   "name": "python3"
  },
  "language_info": {
   "codemirror_mode": {
    "name": "ipython",
    "version": 3
   },
   "file_extension": ".py",
   "mimetype": "text/x-python",
   "name": "python",
   "nbconvert_exporter": "python",
   "pygments_lexer": "ipython3",
   "version": "3.8.5"
  }
 },
 "nbformat": 4,
 "nbformat_minor": 2
}
