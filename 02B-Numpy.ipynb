{
 "cells": [
  {
   "cell_type": "code",
   "execution_count": 1,
   "metadata": {},
   "outputs": [
    {
     "data": {
      "text/plain": [
       "'\\n@filename: Numpy.py\\n@author: cyruslentin\\n@url: https://docs.scipy.org/doc/numpy/user/index.html\\n@url: https://docs.scipy.org/doc/numpy/user/quickstart.html\\n'"
      ]
     },
     "execution_count": 1,
     "metadata": {},
     "output_type": "execute_result"
    }
   ],
   "source": [
    "\"\"\"\n",
    "@filename: Numpy.py\n",
    "@author: waisullah yousofi\n",
    "@url: https://docs.scipy.org/doc/numpy/user/index.html\n",
    "@url: https://docs.scipy.org/doc/numpy/user/quickstart.html\n",
    "\"\"\""
   ]
  },
  {
   "cell_type": "markdown",
   "metadata": {},
   "source": [
    "Numpy<br>\n",
    "Numpy is the core library for scientific computing in Python. It provides a <br>\n",
    "high-performance multidimensional array object, and tools for working with <br>\n",
    "these arrays. "
   ]
  },
  {
   "cell_type": "markdown",
   "metadata": {},
   "source": [
    "Arrays<br>\n",
    "A numpy array is a grid of values, all of the same type, and is indexed by  <br>\n",
    "nonnegative integers. The number of dimensions is the rank of the <br>\n",
    "array; the shape of an array is integers giving the size of the <br>\n",
    "array along each dimension."
   ]
  },
  {
   "cell_type": "markdown",
   "metadata": {},
   "source": [
    "We can initialize numpy arrays from nested Python lists, and access elements <br>\n",
    "using square brackets:"
   ]
  },
  {
   "cell_type": "markdown",
   "metadata": {},
   "source": [
    "Array Properties    <br>\n",
    "ndarray.ndim<br>\n",
    "the number of axes (dimensions) of the array. In the Python world, the number <br>\n",
    "of dimensions is referred to as rank.<br>\n",
    "ndarray.shape<br>\n",
    "the dimensions of the array. This is number of integers indicating the size <br>\n",
    "of the array in each dimension. For a matrix with n rows and m columns, <br>\n",
    "shape will be (n,m). The length of the shape is therefore the rank, or <br>\n",
    "number of dimensions, ndim.<br>\n",
    "ndarray.size<br>\n",
    "the total number of elements of the array. This is equal to the product of <br>\n",
    "the elements of shape.<br>\n",
    "ndarray.dtype<br>\n",
    "an object describing the type of the elements in the array. One can create or <br>\n",
    "specify dtypeâ€™s using standard Python types. Additionally NumPy provides types <br>\n",
    "of its own. numpy.int32, numpy.int16, and numpy.float64 are some examples.<br>\n",
    "ndarray.itemsize<br>\n",
    "the size in bytes of each element of the array. For example, an array of <br>\n",
    "elements of type float64 has itemsize 8 (=64/8), while one of type complex32 <br>\n",
    "has itemsize 4 (=32/8). It is equivalent to ndarray.dtype.itemsize."
   ]
  },
  {
   "cell_type": "code",
   "execution_count": 2,
   "metadata": {},
   "outputs": [],
   "source": [
    "   \n",
    "# import   \n",
    "import numpy as np"
   ]
  },
  {
   "cell_type": "code",
   "execution_count": 3,
   "metadata": {},
   "outputs": [
    {
     "name": "stdout",
     "output_type": "stream",
     "text": [
      "[1, 2, 3]\n"
     ]
    }
   ],
   "source": [
    "l = [1,2,3]\n",
    "print(l)"
   ]
  },
  {
   "cell_type": "markdown",
   "metadata": {},
   "source": [
    "create array"
   ]
  },
  {
   "cell_type": "code",
   "execution_count": 4,
   "metadata": {},
   "outputs": [
    {
     "name": "stdout",
     "output_type": "stream",
     "text": [
      "[ 1  2  3  4  5  6  7  8  9 10 11 12]\n",
      "1\n",
      "(12,)\n",
      "<class 'numpy.ndarray'>\n",
      "int32\n",
      "4\n",
      "12\n",
      "12\n"
     ]
    }
   ],
   "source": [
    "a = np.array([1,2,3,4,5,6,7,8,9,10,11,12])\n",
    "# print\n",
    "print(a)\n",
    "# dim\n",
    "print(a.ndim)\n",
    "# shape\n",
    "print(a.shape)\n",
    "# type\n",
    "print(type(a))\n",
    "# type\n",
    "print(a.dtype.name)\n",
    "# item size\n",
    "print(a.itemsize)\n",
    "# size\n",
    "print(a.size)\n",
    "# size\n",
    "print(len(a))"
   ]
  },
  {
   "cell_type": "markdown",
   "metadata": {},
   "source": [
    "create array"
   ]
  },
  {
   "cell_type": "code",
   "execution_count": 5,
   "metadata": {},
   "outputs": [
    {
     "name": "stdout",
     "output_type": "stream",
     "text": [
      "[[ 1  2  3  4]\n",
      " [ 5  6  7  8]\n",
      " [ 9 10 11 12]]\n",
      "2\n",
      "(3, 4)\n",
      "<class 'numpy.ndarray'>\n",
      "int32\n",
      "4\n",
      "12\n",
      "3\n"
     ]
    }
   ],
   "source": [
    "a = np.array([[1,2,3,4], [5,6,7,8], [9,10,11,12]])\n",
    "# print\n",
    "print(a)\n",
    "# dim\n",
    "print(a.ndim)\n",
    "# shape\n",
    "print(a.shape)\n",
    "# type\n",
    "print(type(a))\n",
    "# type\n",
    "print(a.dtype.name)\n",
    "# item size\n",
    "print(a.itemsize)\n",
    "# size\n",
    "print(a.size)\n",
    "# size\n",
    "print(len(a))"
   ]
  },
  {
   "cell_type": "markdown",
   "metadata": {},
   "source": [
    "Array Creation"
   ]
  },
  {
   "cell_type": "code",
   "execution_count": 6,
   "metadata": {},
   "outputs": [
    {
     "name": "stdout",
     "output_type": "stream",
     "text": [
      "[2.  3.5 4. ]\n",
      "float64\n",
      "[1.2 3.5 5.1]\n",
      "float64\n"
     ]
    }
   ],
   "source": [
    "a = np.array([2,3.5,4])\n",
    "print(a)\n",
    "print(a.dtype)\n",
    "a = np.array([1.2, 3.5, 5.1])\n",
    "print(a)\n",
    "print(a.dtype)"
   ]
  },
  {
   "cell_type": "markdown",
   "metadata": {},
   "source": [
    "Array Creation - Error"
   ]
  },
  {
   "cell_type": "code",
   "execution_count": 7,
   "metadata": {},
   "outputs": [
    {
     "ename": "TypeError",
     "evalue": "array() takes from 1 to 2 positional arguments but 4 were given",
     "output_type": "error",
     "traceback": [
      "\u001b[1;31m---------------------------------------------------------------------------\u001b[0m",
      "\u001b[1;31mTypeError\u001b[0m                                 Traceback (most recent call last)",
      "\u001b[1;32m<ipython-input-7-7681c71c58ae>\u001b[0m in \u001b[0;36m<module>\u001b[1;34m\u001b[0m\n\u001b[1;32m----> 1\u001b[1;33m \u001b[0ma\u001b[0m \u001b[1;33m=\u001b[0m \u001b[0mnp\u001b[0m\u001b[1;33m.\u001b[0m\u001b[0marray\u001b[0m\u001b[1;33m(\u001b[0m\u001b[1;36m1\u001b[0m\u001b[1;33m,\u001b[0m\u001b[1;36m2\u001b[0m\u001b[1;33m,\u001b[0m\u001b[1;36m3\u001b[0m\u001b[1;33m,\u001b[0m\u001b[1;36m4\u001b[0m\u001b[1;33m)\u001b[0m    \u001b[1;31m# WRONG\u001b[0m\u001b[1;33m\u001b[0m\u001b[1;33m\u001b[0m\u001b[0m\n\u001b[0m",
      "\u001b[1;31mTypeError\u001b[0m: array() takes from 1 to 2 positional arguments but 4 were given"
     ]
    }
   ],
   "source": [
    "a = np.array(1,2,3,4)    # WRONG"
   ]
  },
  {
   "cell_type": "code",
   "execution_count": null,
   "metadata": {},
   "outputs": [],
   "source": [
    "a = np.array([1,2,3,4])  # RIGHT\n",
    "print(a)\n",
    "print(a.dtype)"
   ]
  },
  {
   "cell_type": "code",
   "execution_count": null,
   "metadata": {},
   "outputs": [],
   "source": [
    "a = np.array([1.0,2,3,4])  # RIGHT\n",
    "print(a)\n",
    "print(a.dtype)"
   ]
  },
  {
   "cell_type": "code",
   "execution_count": 8,
   "metadata": {},
   "outputs": [
    {
     "name": "stdout",
     "output_type": "stream",
     "text": [
      "[1. 2. 3. 4.]\n",
      "float64\n"
     ]
    }
   ],
   "source": [
    "a = np.array([1,2,3,4], dtype=np.float64 )  \n",
    "print(a)\n",
    "print(a.dtype)"
   ]
  },
  {
   "cell_type": "code",
   "execution_count": 9,
   "metadata": {},
   "outputs": [
    {
     "name": "stdout",
     "output_type": "stream",
     "text": [
      "[1 2 3 4]\n",
      "int64\n"
     ]
    }
   ],
   "source": [
    "a = np.array([1,2,3,4], dtype=np.int64 )\n",
    "print(a)\n",
    "print(a.dtype)"
   ]
  },
  {
   "cell_type": "code",
   "execution_count": 10,
   "metadata": {},
   "outputs": [
    {
     "name": "stdout",
     "output_type": "stream",
     "text": [
      "[1 2 3 4 5 6]\n",
      "int32\n"
     ]
    }
   ],
   "source": [
    "a = np.array([1.1,2.2,3.3,4.4,5.5,6.6], dtype=np.int32 )  \n",
    "print(a)\n",
    "print(a.dtype)"
   ]
  },
  {
   "cell_type": "markdown",
   "metadata": {},
   "source": [
    "create array of zeros"
   ]
  },
  {
   "cell_type": "code",
   "execution_count": 11,
   "metadata": {},
   "outputs": [
    {
     "name": "stdout",
     "output_type": "stream",
     "text": [
      "[[0. 0. 0. 0.]\n",
      " [0. 0. 0. 0.]\n",
      " [0. 0. 0. 0.]]\n"
     ]
    }
   ],
   "source": [
    "a = np.zeros( (3,4) )\n",
    "print(a)"
   ]
  },
  {
   "cell_type": "markdown",
   "metadata": {},
   "source": [
    "create array of ones"
   ]
  },
  {
   "cell_type": "code",
   "execution_count": 12,
   "metadata": {},
   "outputs": [
    {
     "name": "stdout",
     "output_type": "stream",
     "text": [
      "[[1 1 1 1]\n",
      " [1 1 1 1]\n",
      " [1 1 1 1]]\n",
      "int16\n"
     ]
    }
   ],
   "source": [
    "a = np.ones( (3,4), dtype=np.int16 )                # dtype can also be specified\n",
    "print(a)\n",
    "print(a.dtype)"
   ]
  },
  {
   "cell_type": "markdown",
   "metadata": {},
   "source": [
    "create array of ones"
   ]
  },
  {
   "cell_type": "code",
   "execution_count": 13,
   "metadata": {},
   "outputs": [
    {
     "name": "stdout",
     "output_type": "stream",
     "text": [
      "[[[1. 1. 1. 1.]\n",
      "  [1. 1. 1. 1.]\n",
      "  [1. 1. 1. 1.]]\n",
      "\n",
      " [[1. 1. 1. 1.]\n",
      "  [1. 1. 1. 1.]\n",
      "  [1. 1. 1. 1.]]]\n",
      "float64\n"
     ]
    }
   ],
   "source": [
    "a = np.ones( (2,3,4), dtype=np.float64 )                # dtype can also be specified\n",
    "print(a)\n",
    "print(a.dtype)"
   ]
  },
  {
   "cell_type": "markdown",
   "metadata": {},
   "source": [
    "create array using sequences of numbers, NumPy provides a function analogous <br>\n",
    "to range that returns arrays instead of lists."
   ]
  },
  {
   "cell_type": "code",
   "execution_count": 14,
   "metadata": {},
   "outputs": [
    {
     "name": "stdout",
     "output_type": "stream",
     "text": [
      "[ 0  1  2  3  4  5  6  7  8  9 10 11 12 13 14]\n",
      "[ 0  1  2  3  4  5  6  7  8  9 10 11 12 13 14]\n",
      "[10 15 20 25]\n",
      "[0.  0.3 0.6 0.9 1.2 1.5 1.8]\n",
      "[[ 0  1  2  3  4]\n",
      " [ 5  6  7  8  9]\n",
      " [10 11 12 13 14]]\n"
     ]
    },
    {
     "ename": "ValueError",
     "evalue": "cannot reshape array of size 15 into shape (3,6)",
     "output_type": "error",
     "traceback": [
      "\u001b[1;31m---------------------------------------------------------------------------\u001b[0m",
      "\u001b[1;31mValueError\u001b[0m                                Traceback (most recent call last)",
      "\u001b[1;32m<ipython-input-14-c55b7edcdef4>\u001b[0m in \u001b[0;36m<module>\u001b[1;34m\u001b[0m\n\u001b[0;32m      9\u001b[0m \u001b[0ma\u001b[0m \u001b[1;33m=\u001b[0m \u001b[0mnp\u001b[0m\u001b[1;33m.\u001b[0m\u001b[0marange\u001b[0m\u001b[1;33m(\u001b[0m\u001b[1;36m15\u001b[0m\u001b[1;33m)\u001b[0m\u001b[1;33m.\u001b[0m\u001b[0mreshape\u001b[0m\u001b[1;33m(\u001b[0m\u001b[1;36m3\u001b[0m\u001b[1;33m,\u001b[0m \u001b[1;36m5\u001b[0m\u001b[1;33m)\u001b[0m\u001b[1;33m\u001b[0m\u001b[1;33m\u001b[0m\u001b[0m\n\u001b[0;32m     10\u001b[0m \u001b[0mprint\u001b[0m\u001b[1;33m(\u001b[0m\u001b[0ma\u001b[0m\u001b[1;33m)\u001b[0m\u001b[1;33m\u001b[0m\u001b[1;33m\u001b[0m\u001b[0m\n\u001b[1;32m---> 11\u001b[1;33m \u001b[0ma\u001b[0m \u001b[1;33m=\u001b[0m \u001b[0mnp\u001b[0m\u001b[1;33m.\u001b[0m\u001b[0marange\u001b[0m\u001b[1;33m(\u001b[0m\u001b[1;36m15\u001b[0m\u001b[1;33m)\u001b[0m\u001b[1;33m.\u001b[0m\u001b[0mreshape\u001b[0m\u001b[1;33m(\u001b[0m\u001b[1;36m3\u001b[0m\u001b[1;33m,\u001b[0m \u001b[1;36m6\u001b[0m\u001b[1;33m)\u001b[0m\u001b[1;33m\u001b[0m\u001b[1;33m\u001b[0m\u001b[0m\n\u001b[0m\u001b[0;32m     12\u001b[0m \u001b[0mprint\u001b[0m\u001b[1;33m(\u001b[0m\u001b[0ma\u001b[0m\u001b[1;33m)\u001b[0m\u001b[1;33m\u001b[0m\u001b[1;33m\u001b[0m\u001b[0m\n\u001b[0;32m     13\u001b[0m \u001b[0ma\u001b[0m \u001b[1;33m=\u001b[0m \u001b[0mnp\u001b[0m\u001b[1;33m.\u001b[0m\u001b[0marange\u001b[0m\u001b[1;33m(\u001b[0m\u001b[1;36m27\u001b[0m\u001b[1;33m)\u001b[0m\u001b[1;33m.\u001b[0m\u001b[0mreshape\u001b[0m\u001b[1;33m(\u001b[0m\u001b[1;36m3\u001b[0m\u001b[1;33m,\u001b[0m \u001b[1;36m3\u001b[0m\u001b[1;33m,\u001b[0m \u001b[1;36m3\u001b[0m\u001b[1;33m)\u001b[0m\u001b[1;33m\u001b[0m\u001b[1;33m\u001b[0m\u001b[0m\n",
      "\u001b[1;31mValueError\u001b[0m: cannot reshape array of size 15 into shape (3,6)"
     ]
    }
   ],
   "source": [
    "a = np.arange(15)\n",
    "print(a)\n",
    "a = np.arange( 0, 15)\n",
    "print(a)\n",
    "a = np.arange( 10, 30, 5 )\n",
    "print(a)\n",
    "a = np.arange( 0, 2, 0.3 )                 # it accepts float arguments\n",
    "print(a)\n",
    "a = np.arange(15).reshape(3, 5)\n",
    "print(a)\n",
    "a = np.arange(15).reshape(3, 6)\n",
    "print(a)\n",
    "a = np.arange(27).reshape(3, 3, 3)\n",
    "print(a)\n",
    "a = np.arange(10000)\n",
    "print(a)\n",
    "a = np.arange(10000).reshape(100,100)\n",
    "print(a)"
   ]
  },
  {
   "cell_type": "markdown",
   "metadata": {},
   "source": [
    "arithmetic operations"
   ]
  },
  {
   "cell_type": "code",
   "execution_count": 15,
   "metadata": {},
   "outputs": [
    {
     "name": "stdout",
     "output_type": "stream",
     "text": [
      "[20 30 40 50 60]\n",
      "[0 1 2 3]\n"
     ]
    }
   ],
   "source": [
    "a = np.array( [20, 30, 40, 50, 60] )\n",
    "b = np.arange( 4 )\n",
    "print(a)\n",
    "print(b)"
   ]
  },
  {
   "cell_type": "markdown",
   "metadata": {},
   "source": [
    "an array with a number<br>\n",
    "what is the return data type"
   ]
  },
  {
   "cell_type": "markdown",
   "metadata": {},
   "source": [
    "addition"
   ]
  },
  {
   "cell_type": "code",
   "execution_count": 16,
   "metadata": {},
   "outputs": [
    {
     "name": "stdout",
     "output_type": "stream",
     "text": [
      "a + 10:\n",
      "[30 40 50 60 70]\n"
     ]
    }
   ],
   "source": [
    "c = a + 10\n",
    "print(\"a + 10:\")\n",
    "print(c)"
   ]
  },
  {
   "cell_type": "markdown",
   "metadata": {},
   "source": [
    "subtract"
   ]
  },
  {
   "cell_type": "code",
   "execution_count": 17,
   "metadata": {},
   "outputs": [
    {
     "name": "stdout",
     "output_type": "stream",
     "text": [
      "a - 10:\n",
      "[10 20 30 40 50]\n"
     ]
    }
   ],
   "source": [
    "c = a - 10\n",
    "print(\"a - 10:\")\n",
    "print(c)"
   ]
  },
  {
   "cell_type": "markdown",
   "metadata": {},
   "source": [
    "multiplication"
   ]
  },
  {
   "cell_type": "code",
   "execution_count": 18,
   "metadata": {},
   "outputs": [
    {
     "name": "stdout",
     "output_type": "stream",
     "text": [
      "a * 10:\n",
      "[200 300 400 500 600]\n"
     ]
    }
   ],
   "source": [
    "c = a * 10\n",
    "print(\"a * 10:\")\n",
    "print(c)"
   ]
  },
  {
   "cell_type": "markdown",
   "metadata": {},
   "source": [
    "division"
   ]
  },
  {
   "cell_type": "code",
   "execution_count": 19,
   "metadata": {},
   "outputs": [
    {
     "name": "stdout",
     "output_type": "stream",
     "text": [
      "a / 10:\n",
      "[2. 3. 4. 5. 6.]\n"
     ]
    }
   ],
   "source": [
    "c = a / 10\n",
    "print(\"a / 10:\")\n",
    "print(c)"
   ]
  },
  {
   "cell_type": "markdown",
   "metadata": {},
   "source": [
    "raise to"
   ]
  },
  {
   "cell_type": "code",
   "execution_count": 20,
   "metadata": {},
   "outputs": [
    {
     "name": "stdout",
     "output_type": "stream",
     "text": [
      "a ** 2:\n",
      "[20 30 40 50 60]\n",
      "[ 400  900 1600 2500 3600]\n"
     ]
    }
   ],
   "source": [
    "c = a ** 2\n",
    "print(\"a ** 2:\")\n",
    "print(a)\n",
    "print(c)"
   ]
  },
  {
   "cell_type": "markdown",
   "metadata": {},
   "source": [
    "an array with another array<br>\n",
    "what is the return data type<br>\n",
    "arithmetic operations"
   ]
  },
  {
   "cell_type": "code",
   "execution_count": 21,
   "metadata": {},
   "outputs": [
    {
     "name": "stdout",
     "output_type": "stream",
     "text": [
      "[20 30 40 50]\n",
      "[0 1 2 3]\n"
     ]
    }
   ],
   "source": [
    "a = np.array( [20,30,40,50] )\n",
    "b = np.arange( 4 )\n",
    "print(a)\n",
    "print(b)"
   ]
  },
  {
   "cell_type": "markdown",
   "metadata": {},
   "source": [
    "addition "
   ]
  },
  {
   "cell_type": "code",
   "execution_count": 22,
   "metadata": {},
   "outputs": [
    {
     "name": "stdout",
     "output_type": "stream",
     "text": [
      "a + b:\n",
      "[20 31 42 53]\n"
     ]
    }
   ],
   "source": [
    "c = a + b\n",
    "print(\"a + b:\")\n",
    "print(c)"
   ]
  },
  {
   "cell_type": "markdown",
   "metadata": {},
   "source": [
    "subtraction"
   ]
  },
  {
   "cell_type": "code",
   "execution_count": 23,
   "metadata": {},
   "outputs": [
    {
     "name": "stdout",
     "output_type": "stream",
     "text": [
      "a - b:\n",
      "[20 29 38 47]\n"
     ]
    }
   ],
   "source": [
    "c = a - b\n",
    "print(\"a - b:\")\n",
    "print(c)"
   ]
  },
  {
   "cell_type": "markdown",
   "metadata": {},
   "source": [
    "multiplication"
   ]
  },
  {
   "cell_type": "code",
   "execution_count": 24,
   "metadata": {},
   "outputs": [
    {
     "name": "stdout",
     "output_type": "stream",
     "text": [
      "a * b:\n",
      "[  0  30  80 150]\n"
     ]
    }
   ],
   "source": [
    "c = a * b\n",
    "print(\"a * b:\")\n",
    "print(c)"
   ]
  },
  {
   "cell_type": "markdown",
   "metadata": {},
   "source": [
    "division"
   ]
  },
  {
   "cell_type": "code",
   "execution_count": 25,
   "metadata": {},
   "outputs": [
    {
     "name": "stdout",
     "output_type": "stream",
     "text": [
      "a / b:\n",
      "[        inf 30.         20.         16.66666667]\n"
     ]
    },
    {
     "name": "stderr",
     "output_type": "stream",
     "text": [
      "<ipython-input-25-d7f40701ef79>:1: RuntimeWarning: divide by zero encountered in true_divide\n",
      "  c = a / b\n"
     ]
    }
   ],
   "source": [
    "c = a / b\n",
    "print(\"a / b:\")\n",
    "print(c)"
   ]
  },
  {
   "cell_type": "markdown",
   "metadata": {},
   "source": [
    "raise to"
   ]
  },
  {
   "cell_type": "code",
   "execution_count": 26,
   "metadata": {},
   "outputs": [
    {
     "name": "stdout",
     "output_type": "stream",
     "text": [
      "a ^ b:\n",
      "[     1     30   1600 125000]\n"
     ]
    }
   ],
   "source": [
    "c = a ** b\n",
    "print(\"a ^ b:\")\n",
    "print(c)"
   ]
  },
  {
   "cell_type": "markdown",
   "metadata": {},
   "source": [
    "an array with another array<br>\n",
    "what is the return data type<br>\n",
    "arithmetic operations"
   ]
  },
  {
   "cell_type": "code",
   "execution_count": 27,
   "metadata": {},
   "outputs": [
    {
     "name": "stdout",
     "output_type": "stream",
     "text": [
      "[20 30 40 50]\n",
      "[0 1 2]\n"
     ]
    }
   ],
   "source": [
    "a = np.array( [20,30,40,50] )\n",
    "b = np.arange( 3 )\n",
    "print(a)\n",
    "print(b)"
   ]
  },
  {
   "cell_type": "markdown",
   "metadata": {},
   "source": [
    "addition "
   ]
  },
  {
   "cell_type": "code",
   "execution_count": 28,
   "metadata": {},
   "outputs": [
    {
     "ename": "ValueError",
     "evalue": "operands could not be broadcast together with shapes (4,) (3,) ",
     "output_type": "error",
     "traceback": [
      "\u001b[1;31m---------------------------------------------------------------------------\u001b[0m",
      "\u001b[1;31mValueError\u001b[0m                                Traceback (most recent call last)",
      "\u001b[1;32m<ipython-input-28-05f408cf6472>\u001b[0m in \u001b[0;36m<module>\u001b[1;34m\u001b[0m\n\u001b[1;32m----> 1\u001b[1;33m \u001b[0mc\u001b[0m \u001b[1;33m=\u001b[0m \u001b[0ma\u001b[0m \u001b[1;33m+\u001b[0m \u001b[0mb\u001b[0m\u001b[1;33m\u001b[0m\u001b[1;33m\u001b[0m\u001b[0m\n\u001b[0m\u001b[0;32m      2\u001b[0m \u001b[0mprint\u001b[0m\u001b[1;33m(\u001b[0m\u001b[1;34m\"a + b:\"\u001b[0m\u001b[1;33m)\u001b[0m\u001b[1;33m\u001b[0m\u001b[1;33m\u001b[0m\u001b[0m\n\u001b[0;32m      3\u001b[0m \u001b[0mprint\u001b[0m\u001b[1;33m(\u001b[0m\u001b[0mc\u001b[0m\u001b[1;33m)\u001b[0m\u001b[1;33m\u001b[0m\u001b[1;33m\u001b[0m\u001b[0m\n",
      "\u001b[1;31mValueError\u001b[0m: operands could not be broadcast together with shapes (4,) (3,) "
     ]
    }
   ],
   "source": [
    "c = a + b\n",
    "print(\"a + b:\")\n",
    "print(c)"
   ]
  },
  {
   "cell_type": "markdown",
   "metadata": {},
   "source": [
    "two dim array"
   ]
  },
  {
   "cell_type": "code",
   "execution_count": 29,
   "metadata": {},
   "outputs": [
    {
     "name": "stdout",
     "output_type": "stream",
     "text": [
      "[[2 2]\n",
      " [2 2]]\n",
      "[[2 2]\n",
      " [2 2]]\n"
     ]
    }
   ],
   "source": [
    "a = np.array( [ [2,2], [2,2] ] )\n",
    "b = np.array( [ [2,2], [2,2] ] )\n",
    "print(a)\n",
    "print(b)"
   ]
  },
  {
   "cell_type": "markdown",
   "metadata": {},
   "source": [
    "addition"
   ]
  },
  {
   "cell_type": "code",
   "execution_count": 30,
   "metadata": {},
   "outputs": [
    {
     "name": "stdout",
     "output_type": "stream",
     "text": [
      "a + b:\n",
      "[[4 4]\n",
      " [4 4]]\n"
     ]
    }
   ],
   "source": [
    "c = a + b\n",
    "print(\"a + b:\")\n",
    "print(c)"
   ]
  },
  {
   "cell_type": "markdown",
   "metadata": {},
   "source": [
    "subtract"
   ]
  },
  {
   "cell_type": "code",
   "execution_count": 31,
   "metadata": {},
   "outputs": [
    {
     "name": "stdout",
     "output_type": "stream",
     "text": [
      "a - b:\n",
      "[[0 0]\n",
      " [0 0]]\n"
     ]
    }
   ],
   "source": [
    "c = a - b\n",
    "print(\"a - b:\")\n",
    "print(c)"
   ]
  },
  {
   "cell_type": "markdown",
   "metadata": {},
   "source": [
    "multiply "
   ]
  },
  {
   "cell_type": "code",
   "execution_count": 32,
   "metadata": {},
   "outputs": [
    {
     "name": "stdout",
     "output_type": "stream",
     "text": [
      "a * b:\n",
      "[[4 4]\n",
      " [4 4]]\n"
     ]
    }
   ],
   "source": [
    "c = a * b\n",
    "print(\"a * b:\")\n",
    "print(c)"
   ]
  },
  {
   "cell_type": "markdown",
   "metadata": {},
   "source": [
    "division"
   ]
  },
  {
   "cell_type": "code",
   "execution_count": 33,
   "metadata": {},
   "outputs": [
    {
     "name": "stdout",
     "output_type": "stream",
     "text": [
      "a / b:\n",
      "[[1. 1.]\n",
      " [1. 1.]]\n"
     ]
    }
   ],
   "source": [
    "c = a / b\n",
    "print(\"a / b:\")\n",
    "print(c)"
   ]
  },
  {
   "cell_type": "markdown",
   "metadata": {},
   "source": [
    "ttps://matrix.reshish.com/multiplication.php"
   ]
  },
  {
   "cell_type": "markdown",
   "metadata": {},
   "source": [
    "two dim array"
   ]
  },
  {
   "cell_type": "code",
   "execution_count": 34,
   "metadata": {},
   "outputs": [
    {
     "name": "stdout",
     "output_type": "stream",
     "text": [
      "[[2 2]\n",
      " [2 2]]\n",
      "[[2 2]\n",
      " [2 2]]\n"
     ]
    }
   ],
   "source": [
    "a = np.array( [ [2,2], [2,2] ] )\n",
    "b = np.array( [ [2,2], [2,2] ] )\n",
    "print(a)\n",
    "print(b)"
   ]
  },
  {
   "cell_type": "markdown",
   "metadata": {},
   "source": [
    "dot product"
   ]
  },
  {
   "cell_type": "code",
   "execution_count": 35,
   "metadata": {},
   "outputs": [
    {
     "name": "stdout",
     "output_type": "stream",
     "text": [
      "np.dot(a,b)\n",
      "[[8 8]\n",
      " [8 8]]\n"
     ]
    }
   ],
   "source": [
    "c = np.dot(a,b)\n",
    "print(\"np.dot(a,b)\")\n",
    "print(c)"
   ]
  },
  {
   "cell_type": "markdown",
   "metadata": {},
   "source": [
    "two dim array"
   ]
  },
  {
   "cell_type": "code",
   "execution_count": 36,
   "metadata": {},
   "outputs": [
    {
     "name": "stdout",
     "output_type": "stream",
     "text": [
      "[[0 1 2]\n",
      " [3 4 5]]\n",
      "[[ 6  7]\n",
      " [ 8  9]\n",
      " [10 11]]\n"
     ]
    }
   ],
   "source": [
    "a = np.arange(6).reshape(2,3)\n",
    "b = np.array([6,7,8,9,10,11]).reshape(3,2)\n",
    "print(a)\n",
    "print(b)"
   ]
  },
  {
   "cell_type": "markdown",
   "metadata": {},
   "source": [
    "multiply "
   ]
  },
  {
   "cell_type": "code",
   "execution_count": 37,
   "metadata": {},
   "outputs": [
    {
     "ename": "ValueError",
     "evalue": "operands could not be broadcast together with shapes (2,3) (3,2) ",
     "output_type": "error",
     "traceback": [
      "\u001b[1;31m---------------------------------------------------------------------------\u001b[0m",
      "\u001b[1;31mValueError\u001b[0m                                Traceback (most recent call last)",
      "\u001b[1;32m<ipython-input-37-4f8ce25826c6>\u001b[0m in \u001b[0;36m<module>\u001b[1;34m\u001b[0m\n\u001b[1;32m----> 1\u001b[1;33m \u001b[0mc\u001b[0m \u001b[1;33m=\u001b[0m \u001b[0ma\u001b[0m \u001b[1;33m*\u001b[0m \u001b[0mb\u001b[0m\u001b[1;33m\u001b[0m\u001b[1;33m\u001b[0m\u001b[0m\n\u001b[0m\u001b[0;32m      2\u001b[0m \u001b[0mprint\u001b[0m\u001b[1;33m(\u001b[0m\u001b[1;34m\"a * b:\"\u001b[0m\u001b[1;33m)\u001b[0m\u001b[1;33m\u001b[0m\u001b[1;33m\u001b[0m\u001b[0m\n\u001b[0;32m      3\u001b[0m \u001b[0mprint\u001b[0m\u001b[1;33m(\u001b[0m\u001b[0mc\u001b[0m\u001b[1;33m)\u001b[0m\u001b[1;33m\u001b[0m\u001b[1;33m\u001b[0m\u001b[0m\n",
      "\u001b[1;31mValueError\u001b[0m: operands could not be broadcast together with shapes (2,3) (3,2) "
     ]
    }
   ],
   "source": [
    "c = a * b\n",
    "print(\"a * b:\")\n",
    "print(c)"
   ]
  },
  {
   "cell_type": "markdown",
   "metadata": {},
   "source": [
    "dot product"
   ]
  },
  {
   "cell_type": "code",
   "execution_count": 38,
   "metadata": {},
   "outputs": [
    {
     "name": "stdout",
     "output_type": "stream",
     "text": [
      "np.dot(a,b)\n",
      "[[ 28  31]\n",
      " [100 112]]\n"
     ]
    }
   ],
   "source": [
    "c = np.dot(a,b)\n",
    "print(\"np.dot(a,b)\")\n",
    "print(c)"
   ]
  },
  {
   "cell_type": "markdown",
   "metadata": {},
   "source": [
    "two dim array"
   ]
  },
  {
   "cell_type": "code",
   "execution_count": 39,
   "metadata": {},
   "outputs": [
    {
     "name": "stdout",
     "output_type": "stream",
     "text": [
      "[[0 1]\n",
      " [2 3]\n",
      " [4 5]\n",
      " [6 7]\n",
      " [8 9]]\n",
      "[[ 6  7  8]\n",
      " [ 9 10 11]]\n"
     ]
    }
   ],
   "source": [
    "a = np.arange(10).reshape(5,2)\n",
    "b = np.array([6,7,8,9,10,11]).reshape(2,3)\n",
    "print(a)\n",
    "print(b)"
   ]
  },
  {
   "cell_type": "markdown",
   "metadata": {},
   "source": [
    "dot product"
   ]
  },
  {
   "cell_type": "code",
   "execution_count": 40,
   "metadata": {},
   "outputs": [
    {
     "name": "stdout",
     "output_type": "stream",
     "text": [
      "np.dot(a,b)\n",
      "[[  9  10  11]\n",
      " [ 39  44  49]\n",
      " [ 69  78  87]\n",
      " [ 99 112 125]\n",
      " [129 146 163]]\n"
     ]
    }
   ],
   "source": [
    "c = np.dot(a,b)\n",
    "print(\"np.dot(a,b)\")\n",
    "print(c)"
   ]
  },
  {
   "cell_type": "markdown",
   "metadata": {},
   "source": [
    "dot product"
   ]
  },
  {
   "cell_type": "code",
   "execution_count": 41,
   "metadata": {},
   "outputs": [
    {
     "ename": "ValueError",
     "evalue": "shapes (2,3) and (5,2) not aligned: 3 (dim 1) != 5 (dim 0)",
     "output_type": "error",
     "traceback": [
      "\u001b[1;31m---------------------------------------------------------------------------\u001b[0m",
      "\u001b[1;31mValueError\u001b[0m                                Traceback (most recent call last)",
      "\u001b[1;32m<ipython-input-41-14ec42fcccbf>\u001b[0m in \u001b[0;36m<module>\u001b[1;34m\u001b[0m\n\u001b[1;32m----> 1\u001b[1;33m \u001b[0mc\u001b[0m \u001b[1;33m=\u001b[0m \u001b[0mnp\u001b[0m\u001b[1;33m.\u001b[0m\u001b[0mdot\u001b[0m\u001b[1;33m(\u001b[0m\u001b[0mb\u001b[0m\u001b[1;33m,\u001b[0m\u001b[0ma\u001b[0m\u001b[1;33m)\u001b[0m\u001b[1;33m\u001b[0m\u001b[1;33m\u001b[0m\u001b[0m\n\u001b[0m\u001b[0;32m      2\u001b[0m \u001b[0mprint\u001b[0m\u001b[1;33m(\u001b[0m\u001b[1;34m\"np.dot(b,a)\"\u001b[0m\u001b[1;33m)\u001b[0m\u001b[1;33m\u001b[0m\u001b[1;33m\u001b[0m\u001b[0m\n\u001b[0;32m      3\u001b[0m \u001b[0mprint\u001b[0m\u001b[1;33m(\u001b[0m\u001b[0mc\u001b[0m\u001b[1;33m)\u001b[0m\u001b[1;33m\u001b[0m\u001b[1;33m\u001b[0m\u001b[0m\n",
      "\u001b[1;32m<__array_function__ internals>\u001b[0m in \u001b[0;36mdot\u001b[1;34m(*args, **kwargs)\u001b[0m\n",
      "\u001b[1;31mValueError\u001b[0m: shapes (2,3) and (5,2) not aligned: 3 (dim 1) != 5 (dim 0)"
     ]
    }
   ],
   "source": [
    "c = np.dot(b,a)\n",
    "print(\"np.dot(b,a)\")\n",
    "print(c)"
   ]
  },
  {
   "cell_type": "markdown",
   "metadata": {},
   "source": [
    "in place arithmetic operations"
   ]
  },
  {
   "cell_type": "code",
   "execution_count": 42,
   "metadata": {},
   "outputs": [
    {
     "name": "stdout",
     "output_type": "stream",
     "text": [
      "[20 30 40 50]\n",
      "[0 1 2 3]\n"
     ]
    }
   ],
   "source": [
    "a = np.array( [20,30,40,50] )\n",
    "b = np.arange( 4 )\n",
    "#b = np.array( [2,3,4,5]  )\n",
    "print(a)\n",
    "print(b)"
   ]
  },
  {
   "cell_type": "markdown",
   "metadata": {},
   "source": [
    "addition"
   ]
  },
  {
   "cell_type": "code",
   "execution_count": 43,
   "metadata": {},
   "outputs": [
    {
     "name": "stdout",
     "output_type": "stream",
     "text": [
      "a += b:\n",
      "[20 31 42 53]\n"
     ]
    }
   ],
   "source": [
    "a += b \n",
    "print(\"a += b:\")\n",
    "print(a)"
   ]
  },
  {
   "cell_type": "markdown",
   "metadata": {},
   "source": [
    "subtraction"
   ]
  },
  {
   "cell_type": "code",
   "execution_count": 44,
   "metadata": {},
   "outputs": [
    {
     "name": "stdout",
     "output_type": "stream",
     "text": [
      "a -= b:\n",
      "[20 30 40 50]\n"
     ]
    }
   ],
   "source": [
    "a -= b \n",
    "print(\"a -= b:\")\n",
    "print(a)"
   ]
  },
  {
   "cell_type": "markdown",
   "metadata": {},
   "source": [
    "multiplication"
   ]
  },
  {
   "cell_type": "code",
   "execution_count": 45,
   "metadata": {},
   "outputs": [
    {
     "name": "stdout",
     "output_type": "stream",
     "text": [
      "a *= b:\n",
      "[  0  30  80 150]\n"
     ]
    }
   ],
   "source": [
    "a *= b \n",
    "print(\"a *= b:\")\n",
    "print(a)"
   ]
  },
  {
   "cell_type": "markdown",
   "metadata": {},
   "source": [
    "division"
   ]
  },
  {
   "cell_type": "code",
   "execution_count": 46,
   "metadata": {},
   "outputs": [
    {
     "name": "stdout",
     "output_type": "stream",
     "text": [
      "[  0  30  80 150]\n",
      "[0 1 2 3]\n"
     ]
    },
    {
     "ename": "TypeError",
     "evalue": "No loop matching the specified signature and casting was found for ufunc true_divide",
     "output_type": "error",
     "traceback": [
      "\u001b[1;31m---------------------------------------------------------------------------\u001b[0m",
      "\u001b[1;31mTypeError\u001b[0m                                 Traceback (most recent call last)",
      "\u001b[1;32m<ipython-input-46-3cf3586adacd>\u001b[0m in \u001b[0;36m<module>\u001b[1;34m\u001b[0m\n\u001b[0;32m      1\u001b[0m \u001b[0mprint\u001b[0m\u001b[1;33m(\u001b[0m\u001b[0ma\u001b[0m\u001b[1;33m)\u001b[0m\u001b[1;33m\u001b[0m\u001b[1;33m\u001b[0m\u001b[0m\n\u001b[0;32m      2\u001b[0m \u001b[0mprint\u001b[0m\u001b[1;33m(\u001b[0m\u001b[0mb\u001b[0m\u001b[1;33m)\u001b[0m\u001b[1;33m\u001b[0m\u001b[1;33m\u001b[0m\u001b[0m\n\u001b[1;32m----> 3\u001b[1;33m \u001b[0ma\u001b[0m \u001b[1;33m/=\u001b[0m \u001b[0mb\u001b[0m\u001b[1;33m\u001b[0m\u001b[1;33m\u001b[0m\u001b[0m\n\u001b[0m\u001b[0;32m      4\u001b[0m \u001b[0mprint\u001b[0m\u001b[1;33m(\u001b[0m\u001b[1;34m\"a /= b:\"\u001b[0m\u001b[1;33m)\u001b[0m\u001b[1;33m\u001b[0m\u001b[1;33m\u001b[0m\u001b[0m\n\u001b[0;32m      5\u001b[0m \u001b[0mprint\u001b[0m\u001b[1;33m(\u001b[0m\u001b[0ma\u001b[0m\u001b[1;33m)\u001b[0m\u001b[1;33m\u001b[0m\u001b[1;33m\u001b[0m\u001b[0m\n",
      "\u001b[1;31mTypeError\u001b[0m: No loop matching the specified signature and casting was found for ufunc true_divide"
     ]
    }
   ],
   "source": [
    "print(a)\n",
    "print(b)\n",
    "a /= b \n",
    "print(\"a /= b:\")\n",
    "print(a)"
   ]
  },
  {
   "cell_type": "markdown",
   "metadata": {},
   "source": [
    "division"
   ]
  },
  {
   "cell_type": "code",
   "execution_count": 47,
   "metadata": {},
   "outputs": [
    {
     "name": "stdout",
     "output_type": "stream",
     "text": [
      "[20. 30. 40. 50.]\n",
      "[2 3 4 5]\n",
      "a /= b:\n",
      "[10. 10. 10. 10.]\n"
     ]
    }
   ],
   "source": [
    "a = np.array( [20.0,30,40,50] )\n",
    "b = np.array( [2,3,4,5]  )\n",
    "print(a)\n",
    "print(b)\n",
    "a /= b \n",
    "print(\"a /= b:\")\n",
    "print(a)"
   ]
  },
  {
   "cell_type": "markdown",
   "metadata": {},
   "source": [
    "universal functions"
   ]
  },
  {
   "cell_type": "code",
   "execution_count": 48,
   "metadata": {},
   "outputs": [
    {
     "name": "stdout",
     "output_type": "stream",
     "text": [
      "[[ 1  2  3  4]\n",
      " [ 5  6  7  8]\n",
      " [ 9 10 11 12]]\n"
     ]
    }
   ],
   "source": [
    "a = np.array([[1,2,3,4], [5,6,7,8], [9,10,11,12]])\n",
    "print(a)"
   ]
  },
  {
   "cell_type": "markdown",
   "metadata": {},
   "source": [
    "count"
   ]
  },
  {
   "cell_type": "code",
   "execution_count": 49,
   "metadata": {},
   "outputs": [
    {
     "name": "stdout",
     "output_type": "stream",
     "text": [
      "12\n"
     ]
    }
   ],
   "source": [
    "x = a.size\n",
    "print(x)"
   ]
  },
  {
   "cell_type": "markdown",
   "metadata": {},
   "source": [
    "sum"
   ]
  },
  {
   "cell_type": "code",
   "execution_count": 50,
   "metadata": {},
   "outputs": [
    {
     "name": "stdout",
     "output_type": "stream",
     "text": [
      "78\n"
     ]
    }
   ],
   "source": [
    "x = a.sum()\n",
    "print(x)"
   ]
  },
  {
   "cell_type": "markdown",
   "metadata": {},
   "source": [
    "min"
   ]
  },
  {
   "cell_type": "code",
   "execution_count": 51,
   "metadata": {},
   "outputs": [
    {
     "name": "stdout",
     "output_type": "stream",
     "text": [
      "1\n"
     ]
    }
   ],
   "source": [
    "x = a.min()\n",
    "print(x)"
   ]
  },
  {
   "cell_type": "markdown",
   "metadata": {},
   "source": [
    "max"
   ]
  },
  {
   "cell_type": "code",
   "execution_count": 52,
   "metadata": {},
   "outputs": [
    {
     "name": "stdout",
     "output_type": "stream",
     "text": [
      "12\n"
     ]
    }
   ],
   "source": [
    "x = a.max()\n",
    "print(x)"
   ]
  },
  {
   "cell_type": "markdown",
   "metadata": {},
   "source": [
    "max"
   ]
  },
  {
   "cell_type": "code",
   "execution_count": 53,
   "metadata": {},
   "outputs": [
    {
     "name": "stdout",
     "output_type": "stream",
     "text": [
      "6.5\n"
     ]
    }
   ],
   "source": [
    "x = a.mean()\n",
    "print(x)"
   ]
  },
  {
   "cell_type": "markdown",
   "metadata": {},
   "source": [
    "universal functions"
   ]
  },
  {
   "cell_type": "code",
   "execution_count": 54,
   "metadata": {},
   "outputs": [
    {
     "name": "stdout",
     "output_type": "stream",
     "text": [
      "[[ 1  2  3  4]\n",
      " [ 5  6  7  8]\n",
      " [ 9 10 11 12]]\n"
     ]
    }
   ],
   "source": [
    "a = np.array([[1,2,3,4], [5,6,7,8], [9,10,11,12]])\n",
    "print(a)"
   ]
  },
  {
   "cell_type": "markdown",
   "metadata": {},
   "source": [
    "sum rows"
   ]
  },
  {
   "cell_type": "code",
   "execution_count": 55,
   "metadata": {},
   "outputs": [
    {
     "name": "stdout",
     "output_type": "stream",
     "text": [
      "[15 18 21 24]\n"
     ]
    }
   ],
   "source": [
    "x = a.sum(axis=0)\n",
    "print(x)"
   ]
  },
  {
   "cell_type": "markdown",
   "metadata": {},
   "source": [
    "min row"
   ]
  },
  {
   "cell_type": "code",
   "execution_count": 56,
   "metadata": {},
   "outputs": [
    {
     "name": "stdout",
     "output_type": "stream",
     "text": [
      "[1 2 3 4]\n"
     ]
    }
   ],
   "source": [
    "x = a.min(axis=0)\n",
    "print(x)"
   ]
  },
  {
   "cell_type": "markdown",
   "metadata": {},
   "source": [
    "max rows"
   ]
  },
  {
   "cell_type": "code",
   "execution_count": 57,
   "metadata": {},
   "outputs": [
    {
     "name": "stdout",
     "output_type": "stream",
     "text": [
      "[ 9 10 11 12]\n"
     ]
    }
   ],
   "source": [
    "x = a.max(axis=0)\n",
    "print(x)"
   ]
  },
  {
   "cell_type": "markdown",
   "metadata": {},
   "source": [
    "universal functions"
   ]
  },
  {
   "cell_type": "code",
   "execution_count": 58,
   "metadata": {},
   "outputs": [
    {
     "name": "stdout",
     "output_type": "stream",
     "text": [
      "[[ 1  2  3  4]\n",
      " [ 5  6  7  8]\n",
      " [ 9 10 11 12]]\n",
      "<class 'numpy.ndarray'>\n",
      "int32\n"
     ]
    }
   ],
   "source": [
    "a = np.array([[1,2,3,4], [5,6,7,8], [9,10,11,12]])\n",
    "print(a)\n",
    "print(type(a))\n",
    "print(a.dtype)"
   ]
  },
  {
   "cell_type": "markdown",
   "metadata": {},
   "source": [
    "sum cols"
   ]
  },
  {
   "cell_type": "code",
   "execution_count": 59,
   "metadata": {},
   "outputs": [
    {
     "name": "stdout",
     "output_type": "stream",
     "text": [
      "[10 26 42]\n"
     ]
    }
   ],
   "source": [
    "x = a.sum(axis=1)\n",
    "print(x)"
   ]
  },
  {
   "cell_type": "markdown",
   "metadata": {},
   "source": [
    "min cols"
   ]
  },
  {
   "cell_type": "code",
   "execution_count": 60,
   "metadata": {},
   "outputs": [
    {
     "name": "stdout",
     "output_type": "stream",
     "text": [
      "[1 5 9]\n"
     ]
    }
   ],
   "source": [
    "x = a.min(axis=1)\n",
    "print(x)"
   ]
  },
  {
   "cell_type": "markdown",
   "metadata": {},
   "source": [
    "max cols"
   ]
  },
  {
   "cell_type": "code",
   "execution_count": 61,
   "metadata": {},
   "outputs": [
    {
     "name": "stdout",
     "output_type": "stream",
     "text": [
      "[ 4  8 12]\n"
     ]
    }
   ],
   "source": [
    "x = a.max(axis=1)\n",
    "print(x)"
   ]
  },
  {
   "cell_type": "markdown",
   "metadata": {},
   "source": [
    "==================================================="
   ]
  },
  {
   "cell_type": "markdown",
   "metadata": {},
   "source": [
    "indexing / slicing / iterating<br>\n",
    "one-dimensional arrays can be indexed, sliced and iterated over, much like <br>\n",
    "lists and other Python sequences."
   ]
  },
  {
   "cell_type": "markdown",
   "metadata": {},
   "source": [
    "print 3 rd element"
   ]
  },
  {
   "cell_type": "code",
   "execution_count": 62,
   "metadata": {},
   "outputs": [
    {
     "name": "stdout",
     "output_type": "stream",
     "text": [
      "[10 15 20 25 30 35 40 45]\n",
      "20\n",
      "0\n",
      "[10 15  0 25 30 35 40 45]\n"
     ]
    }
   ],
   "source": [
    "a = np.arange(10, 50, 5 )\n",
    "print(a)\n",
    "print(a[2])\n",
    "a[2] = 0\n",
    "print(a[2])\n",
    "print(a)"
   ]
  },
  {
   "cell_type": "markdown",
   "metadata": {},
   "source": []
  },
  {
   "cell_type": "code",
   "execution_count": 63,
   "metadata": {},
   "outputs": [
    {
     "name": "stdout",
     "output_type": "stream",
     "text": [
      "[10 15 20 25 30 35 40 45]\n",
      "[20 25 30]\n"
     ]
    }
   ],
   "source": [
    "a = np.arange(10, 50, 5 )\n",
    "print(a)\n",
    "print(a[2:5])"
   ]
  },
  {
   "cell_type": "markdown",
   "metadata": {},
   "source": []
  },
  {
   "cell_type": "code",
   "execution_count": 64,
   "metadata": {},
   "outputs": [
    {
     "name": "stdout",
     "output_type": "stream",
     "text": [
      "[[ 0  1  2  3  4]\n",
      " [ 5  6  7  8  9]\n",
      " [10 11 12 13 14]]\n",
      "12\n",
      "0\n",
      "[[ 0  1  2  3  4]\n",
      " [ 5  6  7  8  9]\n",
      " [10 11  0 13 14]]\n",
      "[0 1 2 3 4 5 6 7 8 9]\n",
      "[2 3 4]\n",
      "[0 0 0]\n",
      "[0 1 0 0 0 5 6 7 8 9]\n",
      "[10 20 30]\n",
      "[ 0  1 10 20 30  5  6  7  8  9]\n"
     ]
    }
   ],
   "source": [
    "a = np.arange(15).reshape(3, 5)\n",
    "print(a)\n",
    "print(a[2,2])\n",
    "a[2,2] = 0\n",
    "print(a[2,2])\n",
    "print(a)\n",
    " \n",
    "# print element n:m\n",
    "a = np.arange(10)\n",
    "print(a)\n",
    "print(a[2:5])\n",
    "a[2:5] = 0\n",
    "print(a[2:5])\n",
    "print(a)\n",
    "a[2:5] = [ 10, 20, 30]\n",
    "print(a[2:5])\n",
    "print(a)"
   ]
  },
  {
   "cell_type": "markdown",
   "metadata": {},
   "source": []
  },
  {
   "cell_type": "code",
   "execution_count": 65,
   "metadata": {},
   "outputs": [
    {
     "name": "stdout",
     "output_type": "stream",
     "text": [
      "[[ 0  1  2  3  4]\n",
      " [ 5  6  7  8  9]\n",
      " [10 11 12 13 14]]\n",
      "[12 13]\n",
      "[[ 0  1  2  3  4]\n",
      " [ 5  6  7  8  9]\n",
      " [10 11  0  0 14]]\n",
      "[[  0   1   2   3   4]\n",
      " [  5   6   7   8   9]\n",
      " [ 10  11 100 100  14]]\n"
     ]
    }
   ],
   "source": [
    "a = np.arange(15).reshape(3, 5)\n",
    "print(a)\n",
    "print(a[2,2:4])\n",
    "a[2,2:4] = 0\n",
    "print(a)\n",
    "a[2,2:4] = 100\n",
    "print(a)"
   ]
  },
  {
   "cell_type": "markdown",
   "metadata": {},
   "source": []
  },
  {
   "cell_type": "code",
   "execution_count": 66,
   "metadata": {},
   "outputs": [
    {
     "name": "stdout",
     "output_type": "stream",
     "text": [
      "[[ 0  1  2  3  4]\n",
      " [ 5  6  7  8  9]\n",
      " [10 11 12 13 14]]\n",
      "[10 11 12 13 14]\n",
      "[[0 1 2 3 4]\n",
      " [5 6 7 8 9]\n",
      " [0 0 0 0 0]]\n",
      "[[  0   1   2   3   4]\n",
      " [  5   6   7   8   9]\n",
      " [100 100 100 100 100]]\n"
     ]
    }
   ],
   "source": [
    "a = np.arange(15).reshape(3, 5)\n",
    "print(a)\n",
    "print(a[2,:])\n",
    "a[2,:] = 0\n",
    "print(a)\n",
    "a[2,:] = 100\n",
    "print(a)"
   ]
  },
  {
   "cell_type": "markdown",
   "metadata": {},
   "source": []
  },
  {
   "cell_type": "code",
   "execution_count": 67,
   "metadata": {},
   "outputs": [
    {
     "name": "stdout",
     "output_type": "stream",
     "text": [
      "[[ 0  1  2  3  4]\n",
      " [ 5  6  7  8  9]\n",
      " [10 11 12 13 14]]\n",
      "[ 7 12]\n",
      "[[ 0  1  2  3  4]\n",
      " [ 5  6  0  8  9]\n",
      " [10 11  0 13 14]]\n",
      "[[  0   1   2   3   4]\n",
      " [  5   6 100   8   9]\n",
      " [ 10  11 100  13  14]]\n"
     ]
    }
   ],
   "source": [
    "a = np.arange(15).reshape(3, 5)\n",
    "print(a)\n",
    "print(a[1:3,2])\n",
    "a[1:3,2] = 0\n",
    "print(a)\n",
    "a[1:3,2] = 100\n",
    "print(a)"
   ]
  },
  {
   "cell_type": "markdown",
   "metadata": {},
   "source": []
  },
  {
   "cell_type": "code",
   "execution_count": 68,
   "metadata": {},
   "outputs": [
    {
     "name": "stdout",
     "output_type": "stream",
     "text": [
      "[[ 0  1  2  3  4]\n",
      " [ 5  6  7  8  9]\n",
      " [10 11 12 13 14]]\n",
      "[ 2  7 12]\n",
      "[[ 0  1  0  3  4]\n",
      " [ 5  6  0  8  9]\n",
      " [10 11  0 13 14]]\n",
      "[[  0   1 100   3   4]\n",
      " [  5   6 100   8   9]\n",
      " [ 10  11 100  13  14]]\n"
     ]
    }
   ],
   "source": [
    "a = np.arange(15).reshape(3, 5)\n",
    "print(a)\n",
    "print(a[:,2])\n",
    "a[:,2] = 0\n",
    "print(a)\n",
    "a[:,2] = 100\n",
    "print(a)"
   ]
  },
  {
   "cell_type": "markdown",
   "metadata": {},
   "source": [
    "print element n:m:s"
   ]
  },
  {
   "cell_type": "code",
   "execution_count": 69,
   "metadata": {},
   "outputs": [
    {
     "name": "stdout",
     "output_type": "stream",
     "text": [
      "[ 0  1  2  3  4  5  6  7  8  9 10 11 12 13 14 15 16 17 18 19]\n",
      "[ 2  4  6  8 10]\n",
      "[0 0 0 0 0]\n",
      "[ 0  1  0  3  0  5  0  7  0  9  0 11 12 13 14 15 16 17 18 19]\n"
     ]
    }
   ],
   "source": [
    "a = np.arange(20)\n",
    "print(a)\n",
    "print(a[2:12:2])\n",
    "a[2:12:2] = 0\n",
    "print(a[2:12:2])\n",
    "print(a)"
   ]
  },
  {
   "cell_type": "markdown",
   "metadata": {},
   "source": [
    "append element "
   ]
  },
  {
   "cell_type": "code",
   "execution_count": 70,
   "metadata": {},
   "outputs": [
    {
     "name": "stdout",
     "output_type": "stream",
     "text": [
      "[ 0  1  2  3  4  5  6  7  8  9 10 11 12 13 14 15 16 17 18 19]\n",
      "[  0   1   2   3   4   5   6   7   8   9  10  11  12  13  14  15  16  17\n",
      "  18  19 100 105 110]\n",
      "[  0   1   2   3   4   5   6   7   8   9  10  11  12  13  14  15  16  17\n",
      "  18  19 100 105 110   0   1   2   3   4   5   6   7   8   9]\n"
     ]
    }
   ],
   "source": [
    "a = np.arange(20)\n",
    "print(a)\n",
    "a = np.append(a,[100,105,110])\n",
    "print(a)\n",
    "a = np.append(a,np.arange(10))\n",
    "print(a)"
   ]
  },
  {
   "cell_type": "markdown",
   "metadata": {},
   "source": [
    "append row"
   ]
  },
  {
   "cell_type": "code",
   "execution_count": 71,
   "metadata": {},
   "outputs": [
    {
     "name": "stdout",
     "output_type": "stream",
     "text": [
      "[[1, 2, 3], [4, 5, 6]]\n",
      "[[1 2 3]\n",
      " [4 5 6]\n",
      " [7 8 9]]\n"
     ]
    }
   ],
   "source": [
    "a = [[1, 2, 3], [4, 5, 6]]\n",
    "print(a)\n",
    "a = np.append(a, [[7, 8, 9]], axis=0)\n",
    "print(a)"
   ]
  },
  {
   "cell_type": "markdown",
   "metadata": {},
   "source": [
    "append row"
   ]
  },
  {
   "cell_type": "code",
   "execution_count": 72,
   "metadata": {},
   "outputs": [
    {
     "name": "stdout",
     "output_type": "stream",
     "text": [
      "[[1, 2], [3, 4], [5, 6]]\n",
      "[[1 2]\n",
      " [3 4]\n",
      " [5 6]\n",
      " [7 8]]\n"
     ]
    }
   ],
   "source": [
    "a = [[1, 2], [3, 4], [5, 6]]\n",
    "print(a)\n",
    "a = np.append(a, [[7, 8]], axis=0)\n",
    "print(a)"
   ]
  },
  {
   "cell_type": "markdown",
   "metadata": {},
   "source": [
    "insert element"
   ]
  },
  {
   "cell_type": "code",
   "execution_count": 73,
   "metadata": {},
   "outputs": [
    {
     "name": "stdout",
     "output_type": "stream",
     "text": [
      "[ 0  1  2  3  4  5  6  7  8  9 10 11 12 13 14 15 16 17 18 19]\n",
      "[  0   1   2 100 101 103   3   4   5   6   7   8   9  10  11  12  13  14\n",
      "  15  16  17  18  19]\n"
     ]
    }
   ],
   "source": [
    "a = np.arange(20)\n",
    "print(a)\n",
    "a = np.insert(a, 3, [100,101,103], axis=0)\n",
    "print(a)"
   ]
  },
  {
   "cell_type": "markdown",
   "metadata": {},
   "source": [
    "insert row"
   ]
  },
  {
   "cell_type": "code",
   "execution_count": 74,
   "metadata": {},
   "outputs": [
    {
     "name": "stdout",
     "output_type": "stream",
     "text": [
      "[[1 1]\n",
      " [2 2]\n",
      " [3 3]]\n",
      "[[1 1]\n",
      " [5 6]\n",
      " [2 2]\n",
      " [3 3]]\n"
     ]
    }
   ],
   "source": [
    "a = np.array([[1, 1], [2, 2], [3, 3]])\n",
    "print(a)\n",
    "a = np.insert(a, 1, [[5,6]], axis=0)\n",
    "print(a)"
   ]
  },
  {
   "cell_type": "markdown",
   "metadata": {},
   "source": [
    "insert col"
   ]
  },
  {
   "cell_type": "code",
   "execution_count": 75,
   "metadata": {},
   "outputs": [
    {
     "name": "stdout",
     "output_type": "stream",
     "text": [
      "[[1 1]\n",
      " [2 2]\n",
      " [3 3]]\n",
      "[[1 5 1]\n",
      " [2 6 2]\n",
      " [3 7 3]]\n"
     ]
    }
   ],
   "source": [
    "a = np.array([[1, 1], [2, 2], [3, 3]])\n",
    "print(a)\n",
    "a = np.insert(a, 1, [[5,6,7]], axis=1)\n",
    "print(a)"
   ]
  },
  {
   "cell_type": "markdown",
   "metadata": {},
   "source": [
    "delete element"
   ]
  },
  {
   "cell_type": "code",
   "execution_count": 76,
   "metadata": {},
   "outputs": [
    {
     "name": "stdout",
     "output_type": "stream",
     "text": [
      "[ 0  1  2  3  4  5  6  7  8  9 10 11 12 13 14 15 16 17 18 19]\n",
      "[ 0  2  3  4  5  6  7  8  9 10 11 12 13 14 15 16 17 18 19]\n"
     ]
    }
   ],
   "source": [
    "a = np.arange(20)\n",
    "print(a)\n",
    "a = np.delete(a,1)\n",
    "print(a)"
   ]
  },
  {
   "cell_type": "markdown",
   "metadata": {},
   "source": [
    "delete element"
   ]
  },
  {
   "cell_type": "code",
   "execution_count": 77,
   "metadata": {},
   "outputs": [
    {
     "name": "stdout",
     "output_type": "stream",
     "text": [
      "[ 0  1  2  3  4  5  6  7  8  9 10 11 12 13 14 15 16 17 18 19]\n"
     ]
    }
   ],
   "source": [
    "a = np.arange(20)\n",
    "print(a)"
   ]
  },
  {
   "cell_type": "markdown",
   "metadata": {},
   "source": [
    "delete row"
   ]
  },
  {
   "cell_type": "code",
   "execution_count": 78,
   "metadata": {},
   "outputs": [
    {
     "name": "stdout",
     "output_type": "stream",
     "text": [
      "[[11 12 13]\n",
      " [21 22 23]\n",
      " [31 32 33]]\n",
      "\n",
      "[[11 12 13]\n",
      " [31 32 33]]\n"
     ]
    }
   ],
   "source": [
    "a = np.array([[11, 12, 13], [21, 22, 23], [31, 32, 33]])\n",
    "print(a)\n",
    "print(\"\")\n",
    "a = np.delete(a, 1, axis=0)\n",
    "print(a)"
   ]
  },
  {
   "cell_type": "markdown",
   "metadata": {},
   "source": [
    "delete col"
   ]
  },
  {
   "cell_type": "code",
   "execution_count": 79,
   "metadata": {},
   "outputs": [
    {
     "name": "stdout",
     "output_type": "stream",
     "text": [
      "[[11 12 13]\n",
      " [21 22 23]\n",
      " [31 32 33]]\n",
      "\n",
      "[[11 12]\n",
      " [21 22]\n",
      " [31 32]]\n"
     ]
    }
   ],
   "source": [
    "a = np.array([[11, 12, 13], [21, 22, 23], [31, 32, 33]])\n",
    "print(a)\n",
    "print(\"\")\n",
    "a = np.delete(a, 2, axis=1)\n",
    "print(a)"
   ]
  },
  {
   "cell_type": "markdown",
   "metadata": {},
   "source": [
    "loops"
   ]
  },
  {
   "cell_type": "code",
   "execution_count": 80,
   "metadata": {},
   "outputs": [
    {
     "name": "stdout",
     "output_type": "stream",
     "text": [
      "[0 1 2 3 4 5 6 7 8 9]\n",
      "0\n",
      "1\n",
      "4\n",
      "9\n",
      "16\n",
      "25\n",
      "36\n",
      "49\n",
      "64\n",
      "81\n"
     ]
    }
   ],
   "source": [
    "a = np.arange(10)\n",
    "print(a)\n",
    "for i in a:\n",
    "    print(i*i)"
   ]
  },
  {
   "cell_type": "code",
   "execution_count": 81,
   "metadata": {},
   "outputs": [
    {
     "name": "stdout",
     "output_type": "stream",
     "text": [
      "[[ 0  1  2  3  4  5  6]\n",
      " [ 7  8  9 10 11 12 13]\n",
      " [14 15 16 17 18 19 20]\n",
      " [21 22 23 24 25 26 27]\n",
      " [28 29 30 31 32 33 34]\n",
      " [35 36 37 38 39 40 41]]\n",
      "[[24 25]\n",
      " [31 32]]\n",
      "[30 31 32 33]\n"
     ]
    }
   ],
   "source": [
    "a = np.arange(42).reshape(6,7)\n",
    "print(a)\n",
    "print(a[3:5,3:5])\n",
    "print(a[4,2:6])"
   ]
  },
  {
   "cell_type": "markdown",
   "metadata": {},
   "source": [
    "indexing / slicing / iterating<br>\n",
    "two-dimensional arrays can be indexed, sliced and iterated over"
   ]
  },
  {
   "cell_type": "markdown",
   "metadata": {},
   "source": [
    "print single element"
   ]
  },
  {
   "cell_type": "code",
   "execution_count": 82,
   "metadata": {},
   "outputs": [
    {
     "name": "stdout",
     "output_type": "stream",
     "text": [
      "[[ 0  1  2  3  4]\n",
      " [ 5  6  7  8  9]\n",
      " [10 11 12 13 14]\n",
      " [15 16 17 18 19]\n",
      " [20 21 22 23 24]]\n",
      "0\n",
      "999\n",
      "[[999   1   2   3   4]\n",
      " [  5   6   7   8   9]\n",
      " [ 10  11  12  13  14]\n",
      " [ 15  16  17  18  19]\n",
      " [ 20  21  22  23  24]]\n",
      "[[ 0  1  2  3  4]\n",
      " [ 5  6  7  8  9]\n",
      " [10 11 12 13 14]\n",
      " [15 16 17 18 19]\n",
      " [20 21 22 23 24]]\n"
     ]
    }
   ],
   "source": [
    "a = np.arange(25).reshape(5,5)\n",
    "print(a)\n",
    "print(a[0,0])\n",
    "a[0,0] = 999\n",
    "print(a[0,0])\n",
    "print(a)\n",
    " \n",
    "# print rows or cols\n",
    "a = np.arange(25).reshape(5,5)\n",
    "print(a)"
   ]
  },
  {
   "cell_type": "markdown",
   "metadata": {},
   "source": [
    "each row in the second column"
   ]
  },
  {
   "cell_type": "code",
   "execution_count": 83,
   "metadata": {},
   "outputs": [
    {
     "name": "stdout",
     "output_type": "stream",
     "text": [
      "[ 1  6 11 16 21]\n"
     ]
    }
   ],
   "source": [
    "print(a[0:5,1])"
   ]
  },
  {
   "cell_type": "markdown",
   "metadata": {},
   "source": [
    "equivalent to the previous example"
   ]
  },
  {
   "cell_type": "code",
   "execution_count": 84,
   "metadata": {},
   "outputs": [
    {
     "name": "stdout",
     "output_type": "stream",
     "text": [
      "[ 1  6 11 16 21]\n"
     ]
    }
   ],
   "source": [
    "print(a[ : ,1]) "
   ]
  },
  {
   "cell_type": "markdown",
   "metadata": {},
   "source": [
    "all elements"
   ]
  },
  {
   "cell_type": "code",
   "execution_count": 85,
   "metadata": {},
   "outputs": [
    {
     "name": "stdout",
     "output_type": "stream",
     "text": [
      "[[ 0  1  2  3  4]\n",
      " [ 5  6  7  8  9]\n",
      " [10 11 12 13 14]\n",
      " [15 16 17 18 19]\n",
      " [20 21 22 23 24]]\n"
     ]
    }
   ],
   "source": [
    "print(a[:,:]) "
   ]
  },
  {
   "cell_type": "markdown",
   "metadata": {},
   "source": [
    "each column in the second and third row "
   ]
  },
  {
   "cell_type": "code",
   "execution_count": 86,
   "metadata": {},
   "outputs": [
    {
     "name": "stdout",
     "output_type": "stream",
     "text": [
      "[[ 5  6  7  8  9]\n",
      " [10 11 12 13 14]]\n"
     ]
    }
   ],
   "source": [
    "print(a[1:3, : ])                      "
   ]
  },
  {
   "cell_type": "markdown",
   "metadata": {},
   "source": [
    "when fewer indices are provided than the number of axes, <br>\n",
    "the missing indices are considered complete slices:<br>\n",
    "the last row. Equivalent to b[-1,:]"
   ]
  },
  {
   "cell_type": "code",
   "execution_count": 87,
   "metadata": {},
   "outputs": [
    {
     "name": "stdout",
     "output_type": "stream",
     "text": [
      "[20 21 22 23 24]\n"
     ]
    }
   ],
   "source": [
    "print(a[-1])"
   ]
  },
  {
   "cell_type": "code",
   "execution_count": 88,
   "metadata": {},
   "outputs": [
    {
     "name": "stdout",
     "output_type": "stream",
     "text": [
      "[ 4  9 14 19 24]\n"
     ]
    }
   ],
   "source": [
    "print(a[:,-1])"
   ]
  },
  {
   "cell_type": "code",
   "execution_count": 89,
   "metadata": {},
   "outputs": [
    {
     "name": "stdout",
     "output_type": "stream",
     "text": [
      "24\n"
     ]
    }
   ],
   "source": [
    "print(a[-1,-1])"
   ]
  },
  {
   "cell_type": "markdown",
   "metadata": {},
   "source": [
    "loops"
   ]
  },
  {
   "cell_type": "code",
   "execution_count": 90,
   "metadata": {},
   "outputs": [
    {
     "name": "stdout",
     "output_type": "stream",
     "text": [
      "[0 1 2 3 4 5 6 7 8 9]\n",
      "2\n",
      "3\n",
      "4\n",
      "5\n",
      "6\n",
      "7\n",
      "8\n",
      "9\n",
      "10\n",
      "11\n"
     ]
    }
   ],
   "source": [
    "a = np.arange(10)\n",
    "print(a)\n",
    "for i in a:\n",
    "    i=i+2\n",
    "    print(i)"
   ]
  },
  {
   "cell_type": "markdown",
   "metadata": {},
   "source": [
    "loops"
   ]
  },
  {
   "cell_type": "code",
   "execution_count": 91,
   "metadata": {},
   "outputs": [
    {
     "name": "stdout",
     "output_type": "stream",
     "text": [
      "[[ 0  1  2  3  4]\n",
      " [ 5  6  7  8  9]\n",
      " [10 11 12 13 14]\n",
      " [15 16 17 18 19]\n",
      " [20 21 22 23 24]]\n"
     ]
    }
   ],
   "source": [
    "a = np.arange(25).reshape(5,5)\n",
    "print(a)"
   ]
  },
  {
   "cell_type": "markdown",
   "metadata": {},
   "source": [
    "iterate rows"
   ]
  },
  {
   "cell_type": "code",
   "execution_count": 92,
   "metadata": {},
   "outputs": [
    {
     "name": "stdout",
     "output_type": "stream",
     "text": [
      "[0 1 2 3 4]\n",
      "[5 6 7 8 9]\n",
      "[10 11 12 13 14]\n",
      "[15 16 17 18 19]\n",
      "[20 21 22 23 24]\n"
     ]
    }
   ],
   "source": [
    "for row in a:\n",
    "    print(row)"
   ]
  },
  {
   "cell_type": "markdown",
   "metadata": {},
   "source": [
    "iterate cols<br>\n",
    "run for loop in transpose of an array"
   ]
  },
  {
   "cell_type": "code",
   "execution_count": 93,
   "metadata": {},
   "outputs": [
    {
     "name": "stdout",
     "output_type": "stream",
     "text": [
      "[ 0  5 10 15 20]\n",
      "[ 1  6 11 16 21]\n",
      "[ 2  7 12 17 22]\n",
      "[ 3  8 13 18 23]\n",
      "[ 4  9 14 19 24]\n"
     ]
    }
   ],
   "source": [
    "for col in a.T:\n",
    "    print(col)"
   ]
  },
  {
   "cell_type": "markdown",
   "metadata": {},
   "source": [
    "if one wants to perform an operation on each element in the array, <br>\n",
    "one can use the flat attribute which is an iterator over all the elements of the array:"
   ]
  },
  {
   "cell_type": "code",
   "execution_count": 94,
   "metadata": {},
   "outputs": [
    {
     "name": "stdout",
     "output_type": "stream",
     "text": [
      "[[ 0  1  2  3  4]\n",
      " [ 5  6  7  8  9]\n",
      " [10 11 12 13 14]\n",
      " [15 16 17 18 19]\n",
      " [20 21 22 23 24]]\n",
      "0\n",
      "1\n",
      "2\n",
      "3\n",
      "4\n",
      "5\n",
      "6\n",
      "7\n",
      "8\n",
      "9\n",
      "10\n",
      "11\n",
      "12\n",
      "13\n",
      "14\n",
      "15\n",
      "16\n",
      "17\n",
      "18\n",
      "19\n",
      "20\n",
      "21\n",
      "22\n",
      "23\n",
      "24\n",
      "[[ 0  1  2  3]\n",
      " [ 4  5  6  7]\n",
      " [ 8  9 10 11]\n",
      " [12 13 14 15]\n",
      " [16 17 18 19]]\n",
      "(5, 4)\n",
      "<class 'numpy.ndarray'>\n",
      "Rows:\n",
      "5\n",
      "Cols:\n",
      "4\n",
      "0\n",
      "1\n",
      "2\n",
      "3\n",
      "4\n",
      "5\n",
      "6\n",
      "7\n",
      "8\n",
      "9\n",
      "10\n",
      "11\n",
      "12\n",
      "13\n",
      "14\n",
      "15\n",
      "16\n",
      "17\n",
      "18\n",
      "19\n"
     ]
    }
   ],
   "source": [
    "a = np.arange(25).reshape(5,5)\n",
    "print(a)\n",
    "for item in a.flat:\n",
    "    print(item)\n",
    "    \n",
    "# loop in i,j\n",
    "a = np.arange(20).reshape(5,4)\n",
    "print(a)\n",
    "print(a.shape)\n",
    "print(type(a))\n",
    "rows = a.shape[0]\n",
    "print(\"Rows:\")\n",
    "print(rows)\n",
    "cols = a.shape[1]\n",
    "print(\"Cols:\")\n",
    "print(cols)\n",
    "for row in range(rows):\n",
    "    for col in range(cols):\n",
    "        print(a[row,col])"
   ]
  },
  {
   "cell_type": "markdown",
   "metadata": {},
   "source": [
    "copy<br>\n",
    "the copy method makes a complete copy of the array and its data."
   ]
  },
  {
   "cell_type": "code",
   "execution_count": 95,
   "metadata": {},
   "outputs": [
    {
     "name": "stdout",
     "output_type": "stream",
     "text": [
      "[[ 0  1  2  3]\n",
      " [ 4  5  6  7]\n",
      " [ 8  9 10 11]\n",
      " [12 13 14 15]]\n",
      "[[ 0  1  2  3]\n",
      " [ 4  5  6  7]\n",
      " [ 8  9 10 11]\n",
      " [12 13 14 15]]\n",
      "[[ 0  1  2  3]\n",
      " [ 4  5  6  7]\n",
      " [ 8  9 10 11]\n",
      " [12 13 14 15]]\n",
      "True\n",
      "False\n",
      "True\n",
      "False\n"
     ]
    }
   ],
   "source": [
    "a = np.arange(16).reshape(4,4)\n",
    "b = a\n",
    "c = a.copy()\n",
    "print(a)\n",
    "print(b)\n",
    "print(c)\n",
    "# b & a is same\n",
    "print(b is a)\n",
    "# c & a is same\n",
    "print(c is a)\n",
    "# b is a ... copy of the data owned by a?\n",
    "print(b.base is a.base) \n",
    "# c is a ... copy of the data owned by a?\n",
    "print(c.base is a.base) "
   ]
  },
  {
   "cell_type": "markdown",
   "metadata": {},
   "source": [
    "data changes in c"
   ]
  },
  {
   "cell_type": "code",
   "execution_count": 96,
   "metadata": {},
   "outputs": [
    {
     "name": "stdout",
     "output_type": "stream",
     "text": [
      "[[ 0  1  2  3]\n",
      " [ 4  5  6  7]\n",
      " [ 8  9 10 11]\n",
      " [12 13 14 15]]\n",
      "[[ 0  1  2  3]\n",
      " [ 4  5  6  7]\n",
      " [ 8  9 10 11]\n",
      " [12 13 14 15]]\n",
      "[[ 0  1  2  3]\n",
      " [ 4  5  6  7]\n",
      " [ 8  9 10 11]\n",
      " [12 13 14 15]]\n",
      "[[999   1   2   3]\n",
      " [  4   5   6   7]\n",
      " [  8   9  10  11]\n",
      " [ 12  13  14  15]]\n",
      "[[999   1   2   3]\n",
      " [  4   5   6   7]\n",
      " [  8   9  10  11]\n",
      " [ 12  13  14  15]]\n",
      "[[ 0  1  2  3]\n",
      " [ 4  5  6  7]\n",
      " [ 8  9 10 11]\n",
      " [12 13 14 15]]\n"
     ]
    }
   ],
   "source": [
    "a = np.arange(16).reshape(4,4)\n",
    "b = a\n",
    "c = a.copy()\n",
    "print(a)\n",
    "print(b)\n",
    "print(c)\n",
    "a[0,0] = 999\n",
    "print(a)\n",
    "print(b)\n",
    "print(c)"
   ]
  },
  {
   "cell_type": "markdown",
   "metadata": {},
   "source": [
    "data changes in a"
   ]
  },
  {
   "cell_type": "code",
   "execution_count": 97,
   "metadata": {},
   "outputs": [
    {
     "name": "stdout",
     "output_type": "stream",
     "text": [
      "[[ 0  1  2  3]\n",
      " [ 4  5  6  7]\n",
      " [ 8  9 10 11]\n",
      " [12 13 14 15]]\n",
      "[[ 0  1  2  3]\n",
      " [ 4  5  6  7]\n",
      " [ 8  9 10 11]\n",
      " [12 13 14 15]]\n"
     ]
    }
   ],
   "source": [
    "a = np.arange(16).reshape(4,4)\n",
    "b = a\n",
    "print(a)\n",
    "print(b)\n",
    "a[1,1] = 888\n",
    "b[0,0] = 999"
   ]
  },
  {
   "cell_type": "code",
   "execution_count": 98,
   "metadata": {},
   "outputs": [
    {
     "name": "stdout",
     "output_type": "stream",
     "text": [
      "[[999   1   2   3]\n",
      " [  4 888   6   7]\n",
      " [  8   9  10  11]\n",
      " [ 12  13  14  15]]\n",
      "[[999   1   2   3]\n",
      " [  4 888   6   7]\n",
      " [  8   9  10  11]\n",
      " [ 12  13  14  15]]\n",
      "[[999   1   2   3]\n",
      " [  4 888   6   7]\n",
      " [  8   9  10  11]\n",
      " [ 12  13  14  15]]\n",
      "[[999   1   2   3]\n",
      " [  4 888   6   7]\n",
      " [  8   9  10  11]\n",
      " [ 12  13  14  15]]\n",
      "[[999   1   2   3]\n",
      " [  4 888   6   7]\n",
      " [  8   9  10  11]\n",
      " [ 12  13  14  15]]\n"
     ]
    }
   ],
   "source": [
    "print(a)\n",
    "print(b)\n",
    "c = a.copy()\n",
    "print(a)\n",
    "print(b)\n",
    "print(c)"
   ]
  },
  {
   "cell_type": "markdown",
   "metadata": {},
   "source": [
    "view or Shallow Copy<br>\n",
    "different array objects can share the same data. The view method creates a <br>\n",
    "new array object that looks at the same data."
   ]
  },
  {
   "cell_type": "code",
   "execution_count": 99,
   "metadata": {},
   "outputs": [
    {
     "name": "stdout",
     "output_type": "stream",
     "text": [
      "[[ 0  1  2  3]\n",
      " [ 4  5  6  7]\n",
      " [ 8  9 10 11]\n",
      " [12 13 14 15]]\n",
      "[[ 0  1  2  3]\n",
      " [ 4  5  6  7]\n",
      " [ 8  9 10 11]\n",
      " [12 13 14 15]]\n",
      "False\n",
      "True\n",
      "[[999   1   2   3]\n",
      " [  4   5   6   7]\n",
      " [  8   9  10  11]\n",
      " [ 12  13  14  15]]\n",
      "[[999   1   2   3]\n",
      " [  4   5   6   7]\n",
      " [  8   9  10  11]\n",
      " [ 12  13  14  15]]\n",
      "[[999   1   2   3]\n",
      " [  4   5   6   7]\n",
      " [  8   9  10  11]\n",
      " [ 12  13  14 999]]\n",
      "[[999   1   2   3]\n",
      " [  4   5   6   7]\n",
      " [  8   9  10  11]\n",
      " [ 12  13  14 999]]\n",
      "Our array is:\n",
      "[0 1 2 3 4 5]\n",
      "id() of a:\n",
      "2212888294384\n",
      "a is assigned to b:\n",
      "[0 1 2 3 4 5]\n",
      "id() of b:\n",
      "2212888294384\n",
      "id() of a == id() of b\n",
      "True\n",
      "Change shape of b:\n",
      "[[0 1]\n",
      " [2 3]\n",
      " [4 5]]\n",
      "Shape of a also gets changed:\n",
      "[[0 1]\n",
      " [2 3]\n",
      " [4 5]]\n",
      "True\n",
      "True\n"
     ]
    }
   ],
   "source": [
    "a = np.arange(16).reshape(4,4)\n",
    "v = a.view()\n",
    "print(a)\n",
    "print(v)\n",
    "# v & a is same\n",
    "print(v is a)\n",
    "# c is a view of the data owned by a\n",
    "print(v.base is a.base) \n",
    "# data changes in both\n",
    "v[0,0] = 999\n",
    "print(a)\n",
    "print(v)\n",
    "# data changes in both\n",
    "a[3,3] = 999\n",
    "print(a)\n",
    "print(v)\n",
    " \n",
    "# simple assignments do not make the copy of array\n",
    "# object. Instead, it uses the same id() of the \n",
    "# original array to access it. The id() returns a \n",
    "# universal identifier of Python object, similar \n",
    "# to the pointer in C.\n",
    "# Furthermore, any changes in either gets reflected \n",
    "# in the other. For example, the changing shape of \n",
    "# one will change the shape of the other too.\n",
    "a = np.arange(6) \n",
    "print('Our array is:') \n",
    "print(a)  \n",
    "print('id() of a:') \n",
    "print(id(a))  \n",
    "print('a is assigned to b:') \n",
    "b = a \n",
    "print(b)  \n",
    "print('id() of b:') \n",
    "print(id(b))  \n",
    "print('id() of a == id() of b') \n",
    "print(id(a) == id(b))\n",
    "print('Change shape of b:') \n",
    "b.shape=(3,2) \n",
    "print(b)\n",
    "print('Shape of a also gets changed:')\n",
    "print(a)\n",
    "# b & a is same\n",
    "print(b is a)\n",
    "# b is a view of the data owned by a\n",
    "print(b.base is a.base) "
   ]
  },
  {
   "cell_type": "markdown",
   "metadata": {},
   "source": [
    "NumPy has ndarray.view() method which is a new <br>\n",
    "array object that looks at the same data of the <br>\n",
    "original array. Unlike the earlier case, change <br>\n",
    "in dimensions of the new array doesnâ€™t change <br>\n",
    "dimensions of the original.<br>\n",
    "To begin with, a is 3X2 array "
   ]
  },
  {
   "cell_type": "code",
   "execution_count": 100,
   "metadata": {},
   "outputs": [
    {
     "name": "stdout",
     "output_type": "stream",
     "text": [
      "Array a:\n",
      "[[0 1]\n",
      " [2 3]\n",
      " [4 5]]\n",
      "Create view of a:\n",
      "[[0 1]\n",
      " [2 3]\n",
      " [4 5]]\n",
      "id() for both the arrays are different:\n",
      "id() of a:\n",
      "2212904979072\n",
      "id() of b:\n",
      "2212904976912\n",
      "Shape of b:\n",
      "[[0 1 2]\n",
      " [3 4 5]]\n",
      "Shape of a:\n",
      "[[0 1]\n",
      " [2 3]\n",
      " [4 5]]\n",
      "False\n",
      "True\n"
     ]
    }
   ],
   "source": [
    "a = np.arange(6).reshape(3,2) \n",
    "print('Array a:')\n",
    "print(a)  \n",
    "print('Create view of a:') \n",
    "b = a.view() \n",
    "print(b)  \n",
    "print('id() for both the arrays are different:') \n",
    "print('id() of a:')\n",
    "print(id(a))  \n",
    "print('id() of b:') \n",
    "print(id(b))\n",
    "# Change the shape of b. It does not change the shape of a \n",
    "b.shape = 2,3 \n",
    "print('Shape of b:') \n",
    "print(b)  \n",
    "print('Shape of a:') \n",
    "print(a)\n",
    "# b & a is same\n",
    "print(b is a)\n",
    "# b is a view of the data owned by a\n",
    "print(b.base is a.base) "
   ]
  },
  {
   "cell_type": "markdown",
   "metadata": {},
   "source": [
    "The ndarray.copy() function creates a deep copy. <br>\n",
    "It is a complete copy of the array and its data, <br>\n",
    "and doesnâ€™t share with the original array."
   ]
  },
  {
   "cell_type": "code",
   "execution_count": 101,
   "metadata": {},
   "outputs": [
    {
     "name": "stdout",
     "output_type": "stream",
     "text": [
      "Array a is:\n",
      "[[10 10]\n",
      " [ 2  3]\n",
      " [ 4  5]]\n",
      "Create a deep copy of a:\n",
      "Array b is:\n",
      "[[10 10]\n",
      " [ 2  3]\n",
      " [ 4  5]]\n",
      "Change the contents of b:\n",
      "Modified array b:\n",
      "[[100  10]\n",
      " [  2   3]\n",
      " [  4   5]]\n",
      "a remains unchanged:\n",
      "[[10 10]\n",
      " [ 2  3]\n",
      " [ 4  5]]\n",
      "False\n",
      "True\n"
     ]
    }
   ],
   "source": [
    "a = np.array([[10,10], [2,3], [4,5]]) \n",
    "print('Array a is:')\n",
    "print(a)  \n",
    "print('Create a deep copy of a:') \n",
    "b = a.copy() \n",
    "print('Array b is:') \n",
    "print(b)\n",
    "print('Change the contents of b:') \n",
    "b[0,0] = 100 \n",
    "print('Modified array b:')\n",
    "print(b)  \n",
    "print('a remains unchanged:') \n",
    "print(a)\n",
    "# b & a is same\n",
    "print(b is a)\n",
    "# b is a view of the data owned by a\n",
    "print(b.base is a.base) "
   ]
  },
  {
   "cell_type": "code",
   "execution_count": 102,
   "metadata": {},
   "outputs": [
    {
     "name": "stdout",
     "output_type": "stream",
     "text": [
      "[[ 0  1  2  3  4]\n",
      " [ 5  6  7  8  9]\n",
      " [10 11 12 13 14]\n",
      " [15 16 17 18 19]\n",
      " [20 21 22 23 24]]\n"
     ]
    }
   ],
   "source": [
    "a = np.arange(25).reshape(5,5)\n",
    "print(a)"
   ]
  },
  {
   "cell_type": "markdown",
   "metadata": {},
   "source": [
    "rint item 12"
   ]
  },
  {
   "cell_type": "code",
   "execution_count": 103,
   "metadata": {},
   "outputs": [
    {
     "name": "stdout",
     "output_type": "stream",
     "text": [
      "12\n"
     ]
    }
   ],
   "source": [
    "print(a[2,2])"
   ]
  },
  {
   "cell_type": "markdown",
   "metadata": {},
   "source": [
    "second row"
   ]
  },
  {
   "cell_type": "code",
   "execution_count": 104,
   "metadata": {},
   "outputs": [
    {
     "name": "stdout",
     "output_type": "stream",
     "text": [
      "[5 6 7 8 9]\n"
     ]
    }
   ],
   "source": [
    "print(a[1,:])"
   ]
  },
  {
   "cell_type": "markdown",
   "metadata": {},
   "source": [
    "fourth col"
   ]
  },
  {
   "cell_type": "code",
   "execution_count": 105,
   "metadata": {},
   "outputs": [
    {
     "name": "stdout",
     "output_type": "stream",
     "text": [
      "[ 3  8 13 18 23]\n"
     ]
    }
   ],
   "source": [
    "print(a[:,3])"
   ]
  },
  {
   "cell_type": "markdown",
   "metadata": {},
   "source": [
    "vals 6 7 8"
   ]
  },
  {
   "cell_type": "code",
   "execution_count": 106,
   "metadata": {},
   "outputs": [
    {
     "name": "stdout",
     "output_type": "stream",
     "text": [
      "[6 7 8]\n"
     ]
    }
   ],
   "source": [
    "print(a[1,1:4])"
   ]
  },
  {
   "cell_type": "markdown",
   "metadata": {},
   "source": [
    "vals 14 19 24"
   ]
  },
  {
   "cell_type": "code",
   "execution_count": 107,
   "metadata": {},
   "outputs": [
    {
     "name": "stdout",
     "output_type": "stream",
     "text": [
      "[14 19 24]\n"
     ]
    }
   ],
   "source": [
    "print(a[2:,4])"
   ]
  },
  {
   "cell_type": "code",
   "execution_count": null,
   "metadata": {},
   "outputs": [],
   "source": []
  }
 ],
 "metadata": {
  "kernelspec": {
   "display_name": "Python 3",
   "language": "python",
   "name": "python3"
  },
  "language_info": {
   "codemirror_mode": {
    "name": "ipython",
    "version": 3
   },
   "file_extension": ".py",
   "mimetype": "text/x-python",
   "name": "python",
   "nbconvert_exporter": "python",
   "pygments_lexer": "ipython3",
   "version": "3.8.5"
  }
 },
 "nbformat": 4,
 "nbformat_minor": 2
}
